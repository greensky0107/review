{
  "nbformat": 4,
  "nbformat_minor": 0,
  "metadata": {
    "colab": {
      "provenance": [],
      "toc_visible": true,
      "authorship_tag": "ABX9TyPRrf8DPX8lRZ7JH86+tLe1",
      "include_colab_link": true
    },
    "kernelspec": {
      "name": "python3",
      "display_name": "Python 3"
    },
    "language_info": {
      "name": "python"
    }
  },
  "cells": [
    {
      "cell_type": "markdown",
      "metadata": {
        "id": "view-in-github",
        "colab_type": "text"
      },
      "source": [
        "<a href=\"https://colab.research.google.com/github/greensky0107/review/blob/main/Day03%2604_Python_Basic.ipynb\" target=\"_parent\"><img src=\"https://colab.research.google.com/assets/colab-badge.svg\" alt=\"Open In Colab\"/></a>"
      ]
    },
    {
      "cell_type": "markdown",
      "source": [
        "# 5-2. 표현식과 문장 (파이썬 용어들)"
      ],
      "metadata": {
        "id": "iMueUGlTLMko"
      }
    },
    {
      "cell_type": "code",
      "execution_count": 1,
      "metadata": {
        "colab": {
          "base_uri": "https://localhost:8080/",
          "height": 36
        },
        "id": "65_f6bZRLIES",
        "outputId": "c0c2c99c-d425-41c1-efd6-c0bf76940582"
      },
      "outputs": [
        {
          "output_type": "execute_result",
          "data": {
            "text/plain": [
              "'Hello, World!'"
            ],
            "application/vnd.google.colaboratory.intrinsic+json": {
              "type": "string"
            }
          },
          "metadata": {},
          "execution_count": 1
        }
      ],
      "source": [
        "# 표현식\n",
        "123  # 숫자\n",
        "1 + 2 + 3 + 4 + 5  # 수식\n",
        "'Hello, World!'  # 문자열"
      ]
    },
    {
      "cell_type": "code",
      "source": [
        "# 문장\n",
        "print('Hello, World!')"
      ],
      "metadata": {
        "colab": {
          "base_uri": "https://localhost:8080/"
        },
        "id": "ZGR-Sq3mLcoo",
        "outputId": "4e86aaa2-f11c-4818-c66d-4ae24a77b84c"
      },
      "execution_count": 2,
      "outputs": [
        {
          "output_type": "stream",
          "name": "stdout",
          "text": [
            "Hello, World!\n"
          ]
        }
      ]
    },
    {
      "cell_type": "code",
      "source": [
        "# 프로그램\n",
        "overlap = [[1, 2], 3, [[4, 5, 6], 7], 8, 9]\n",
        "\n",
        "for element in overlap:\n",
        "    print(element)"
      ],
      "metadata": {
        "colab": {
          "base_uri": "https://localhost:8080/"
        },
        "id": "riUIslWSLobv",
        "outputId": "bc3aee71-08ea-422c-baf9-ae856f863941"
      },
      "execution_count": 3,
      "outputs": [
        {
          "output_type": "stream",
          "name": "stdout",
          "text": [
            "[1, 2]\n",
            "3\n",
            "[[4, 5, 6], 7]\n",
            "8\n",
            "9\n"
          ]
        }
      ]
    },
    {
      "cell_type": "markdown",
      "source": [
        "# 5-4. 주석과 프린트 (파이썬 용어들)"
      ],
      "metadata": {
        "id": "Q77OvIlvLxHa"
      }
    },
    {
      "cell_type": "code",
      "source": [
        "# 직접 주석을 풀고 코드를 돌려 봅시다.\n",
        "# print(\"Hello, Python\")\n",
        "print(\"Hello, Python\")"
      ],
      "metadata": {
        "colab": {
          "base_uri": "https://localhost:8080/"
        },
        "id": "NNF7RD2nLupp",
        "outputId": "08be4025-402b-4a03-c068-4602b0ccd180"
      },
      "execution_count": 4,
      "outputs": [
        {
          "output_type": "stream",
          "name": "stdout",
          "text": [
            "Hello, Python\n"
          ]
        }
      ]
    },
    {
      "cell_type": "code",
      "source": [
        "# 하나만 출력하기\n",
        "print(123)"
      ],
      "metadata": {
        "colab": {
          "base_uri": "https://localhost:8080/"
        },
        "id": "veno8JcHNDzf",
        "outputId": "ff455e8c-62b2-4c16-d01f-58fd251a9069"
      },
      "execution_count": 5,
      "outputs": [
        {
          "output_type": "stream",
          "name": "stdout",
          "text": [
            "123\n"
          ]
        }
      ]
    },
    {
      "cell_type": "code",
      "source": [
        "# 여러개 출력하기\n",
        "print('안녕', 111, '123')"
      ],
      "metadata": {
        "colab": {
          "base_uri": "https://localhost:8080/"
        },
        "id": "JPPG38NnNNeS",
        "outputId": "7ba15d8e-2e75-46ca-a90e-b096551b5e8a"
      },
      "execution_count": 6,
      "outputs": [
        {
          "output_type": "stream",
          "name": "stdout",
          "text": [
            "안녕 111 123\n"
          ]
        }
      ]
    },
    {
      "cell_type": "code",
      "source": [
        "# 비어있는 print()  중간에 줄 띄기 할 때 사용\n",
        "print()"
      ],
      "metadata": {
        "colab": {
          "base_uri": "https://localhost:8080/"
        },
        "id": "Cgsdr9bjNOhZ",
        "outputId": "b1d6abd2-453f-45cc-bf1e-4098715f25e1"
      },
      "execution_count": 7,
      "outputs": [
        {
          "output_type": "stream",
          "name": "stdout",
          "text": [
            "\n"
          ]
        }
      ]
    },
    {
      "cell_type": "code",
      "source": [
        "print('-'*25)\n",
        "print()\n",
        "print()\n",
        "print('-'*25)"
      ],
      "metadata": {
        "colab": {
          "base_uri": "https://localhost:8080/"
        },
        "id": "hIuwEmSANV10",
        "outputId": "ec938b86-6d14-42a7-f55b-698c7ec252bb"
      },
      "execution_count": 8,
      "outputs": [
        {
          "output_type": "stream",
          "name": "stdout",
          "text": [
            "-------------------------\n",
            "\n",
            "\n",
            "-------------------------\n"
          ]
        }
      ]
    },
    {
      "cell_type": "markdown",
      "source": [
        "# 6-2. 숫자 자료형들 (자료형 (1))"
      ],
      "metadata": {
        "id": "WcOjuiL1N9PH"
      }
    },
    {
      "cell_type": "code",
      "source": [
        "# [Tip] 자료형을 찍을 때 쓰는 함수 : type()\n",
        "type(0)"
      ],
      "metadata": {
        "colab": {
          "base_uri": "https://localhost:8080/"
        },
        "id": "UVcyWeOsOIxa",
        "outputId": "02766f51-682e-483a-de8e-b9910d43b52b"
      },
      "execution_count": 9,
      "outputs": [
        {
          "output_type": "execute_result",
          "data": {
            "text/plain": [
              "int"
            ]
          },
          "metadata": {},
          "execution_count": 9
        }
      ]
    },
    {
      "cell_type": "code",
      "source": [
        "type(0.0)"
      ],
      "metadata": {
        "colab": {
          "base_uri": "https://localhost:8080/"
        },
        "id": "r_3t4jWhOKRf",
        "outputId": "badbe3a4-1583-464f-fa55-89341733ecbe"
      },
      "execution_count": 10,
      "outputs": [
        {
          "output_type": "execute_result",
          "data": {
            "text/plain": [
              "float"
            ]
          },
          "metadata": {},
          "execution_count": 10
        }
      ]
    },
    {
      "cell_type": "markdown",
      "source": [
        "# 6-3. 숫자 연산해보기 (자료형 (1))"
      ],
      "metadata": {
        "id": "DlsofIwiOhtq"
      }
    },
    {
      "cell_type": "markdown",
      "source": [
        "덧셈, 뺄셈, 곱셈, 나누기, 제곱 연산 해보기\n",
        "\n",
        "특별한 연산인 나누고 몫만 남기기, 나누고 나머지만 남기기 연산 해보기\n",
        "\n",
        "정수형, 실수형끼리 교차로 가능\n",
        "\n",
        "숫자 연산자\n",
        "\n",
        "+ : 덧셈\n",
        "\n",
        "- : 뺄셈\n",
        "\n",
        "* : 곱셈\n",
        "\n",
        "/ : 나눗셈\n",
        "\n",
        "// : 나눗셈 몫 (정수형)\n",
        "\n",
        "% : 나눗셈 나머지\n",
        "\n",
        "** : 제곱"
      ],
      "metadata": {
        "id": "ar_f5ga2PJnA"
      }
    },
    {
      "cell_type": "code",
      "source": [
        "# 정수 + 정수\n",
        "1 + 2"
      ],
      "metadata": {
        "colab": {
          "base_uri": "https://localhost:8080/"
        },
        "id": "r6NQyfdLOqgo",
        "outputId": "cba934e7-c0fe-46ad-b686-49760d9cdaec"
      },
      "execution_count": 11,
      "outputs": [
        {
          "output_type": "execute_result",
          "data": {
            "text/plain": [
              "3"
            ]
          },
          "metadata": {},
          "execution_count": 11
        }
      ]
    },
    {
      "cell_type": "code",
      "source": [
        "# 실수 + 실수\n",
        "1.0 + 2.0"
      ],
      "metadata": {
        "colab": {
          "base_uri": "https://localhost:8080/"
        },
        "id": "mS76kY8tOtbf",
        "outputId": "8c714813-bee3-4085-adce-a5340d55da3b"
      },
      "execution_count": 12,
      "outputs": [
        {
          "output_type": "execute_result",
          "data": {
            "text/plain": [
              "3.0"
            ]
          },
          "metadata": {},
          "execution_count": 12
        }
      ]
    },
    {
      "cell_type": "code",
      "source": [
        "# 정수 + 실수\n",
        "1 + 2.0"
      ],
      "metadata": {
        "colab": {
          "base_uri": "https://localhost:8080/"
        },
        "id": "zM2276DvOvjs",
        "outputId": "d4387e73-c55f-4f46-83c2-da1e7258408f"
      },
      "execution_count": 13,
      "outputs": [
        {
          "output_type": "execute_result",
          "data": {
            "text/plain": [
              "3.0"
            ]
          },
          "metadata": {},
          "execution_count": 13
        }
      ]
    },
    {
      "cell_type": "code",
      "source": [
        "# 다른 연산자도 가능\n",
        "2.0 ** 3"
      ],
      "metadata": {
        "colab": {
          "base_uri": "https://localhost:8080/"
        },
        "id": "MWwdj2YCOxww",
        "outputId": "ad740cf5-7a40-4629-a19c-61da347ce192"
      },
      "execution_count": 14,
      "outputs": [
        {
          "output_type": "execute_result",
          "data": {
            "text/plain": [
              "8.0"
            ]
          },
          "metadata": {},
          "execution_count": 14
        }
      ]
    },
    {
      "cell_type": "code",
      "source": [
        "# 변수에 숫자를 할당하고 계산해보기\n",
        "a = 5  # 번역 : a에 5를 할당한다.\n",
        "b = 4  # 번역 : b에 4를 할당한다.\n",
        "a * b  # 번역 : a와 b를 곱하라"
      ],
      "metadata": {
        "colab": {
          "base_uri": "https://localhost:8080/"
        },
        "id": "H0D4mp2UOz_R",
        "outputId": "f8159ac1-2f36-48fd-acb2-d18f9f671d5c"
      },
      "execution_count": 15,
      "outputs": [
        {
          "output_type": "execute_result",
          "data": {
            "text/plain": [
              "20"
            ]
          },
          "metadata": {},
          "execution_count": 15
        }
      ]
    },
    {
      "cell_type": "code",
      "source": [
        "# 원래 대입식\n",
        "a = 7\n",
        "a = a + 1\n",
        "print(a)"
      ],
      "metadata": {
        "colab": {
          "base_uri": "https://localhost:8080/"
        },
        "id": "jIXsDH8VO2Vf",
        "outputId": "c824cede-bf20-40e3-93a8-2c7004a5f117"
      },
      "execution_count": 16,
      "outputs": [
        {
          "output_type": "stream",
          "name": "stdout",
          "text": [
            "8\n"
          ]
        }
      ]
    },
    {
      "cell_type": "code",
      "source": [
        "# 복합 대입 연산자\n",
        "a = 7\n",
        "a += 1\n",
        "print(a)"
      ],
      "metadata": {
        "colab": {
          "base_uri": "https://localhost:8080/"
        },
        "id": "K0Yz9tsgO5Sx",
        "outputId": "093c01ef-2833-4fab-8818-2a236b904baf"
      },
      "execution_count": 17,
      "outputs": [
        {
          "output_type": "stream",
          "name": "stdout",
          "text": [
            "8\n"
          ]
        }
      ]
    },
    {
      "cell_type": "code",
      "source": [
        "# 다른 연산자도 가능\n",
        "b = 5\n",
        "b *= 2\n",
        "print(b)"
      ],
      "metadata": {
        "colab": {
          "base_uri": "https://localhost:8080/"
        },
        "id": "LfkBcpadO8yP",
        "outputId": "145f3ae6-b327-4d6e-e670-68d4b3e87a0b"
      },
      "execution_count": 18,
      "outputs": [
        {
          "output_type": "stream",
          "name": "stdout",
          "text": [
            "10\n"
          ]
        }
      ]
    },
    {
      "cell_type": "code",
      "source": [
        "c = 10\n",
        "c //= 3 # 나누기 몫(//),  나머지(%)\n",
        "print(c)"
      ],
      "metadata": {
        "colab": {
          "base_uri": "https://localhost:8080/"
        },
        "id": "Yj3V-rGnO9l6",
        "outputId": "38429069-d0f2-4955-e0f4-47462241f891"
      },
      "execution_count": 19,
      "outputs": [
        {
          "output_type": "stream",
          "name": "stdout",
          "text": [
            "3\n"
          ]
        }
      ]
    },
    {
      "cell_type": "code",
      "source": [
        "d = 3\n",
        "d **= 4\n",
        "print(d)"
      ],
      "metadata": {
        "colab": {
          "base_uri": "https://localhost:8080/"
        },
        "id": "WmDwDkwbO_QN",
        "outputId": "9475ed69-8288-4a88-d78f-0da189687aec"
      },
      "execution_count": 20,
      "outputs": [
        {
          "output_type": "stream",
          "name": "stdout",
          "text": [
            "81\n"
          ]
        }
      ]
    },
    {
      "cell_type": "markdown",
      "source": [
        "# 6-4. 문자열 자료형 (자료형 (1))"
      ],
      "metadata": {
        "id": "zTwbeE0lPjxz"
      }
    },
    {
      "cell_type": "markdown",
      "source": [
        "문자열 만드는 4가지 방법\n",
        "\n",
        "(1) 큰 따옴표(\")에 둘러싸기\n",
        "\n",
        "(2) 작은 따옴표(')에 둘러싸기\n",
        "\n",
        "(3) 큰 따옴표 연속 3개(\"\"\")에 둘러싸기\n",
        "\n",
        "(4) 작은 따옴표 연속 3개(''')에 둘러싸기"
      ],
      "metadata": {
        "id": "30rODmeKP8SH"
      }
    },
    {
      "cell_type": "code",
      "source": [
        "\"안녕하세요, 저는 김인유입니다.\""
      ],
      "metadata": {
        "colab": {
          "base_uri": "https://localhost:8080/",
          "height": 36
        },
        "id": "k08XDjAvQFpM",
        "outputId": "ad33707b-85de-4d73-8500-e45e5078d320"
      },
      "execution_count": 21,
      "outputs": [
        {
          "output_type": "execute_result",
          "data": {
            "text/plain": [
              "'안녕하세요, 저는 김인유입니다.'"
            ],
            "application/vnd.google.colaboratory.intrinsic+json": {
              "type": "string"
            }
          },
          "metadata": {},
          "execution_count": 21
        }
      ]
    },
    {
      "cell_type": "code",
      "source": [
        "'일곱'"
      ],
      "metadata": {
        "colab": {
          "base_uri": "https://localhost:8080/",
          "height": 36
        },
        "id": "RVfTlL-hQIJo",
        "outputId": "eb43f6a2-672d-4224-f547-b9d943a83a15"
      },
      "execution_count": 22,
      "outputs": [
        {
          "output_type": "execute_result",
          "data": {
            "text/plain": [
              "'일곱'"
            ],
            "application/vnd.google.colaboratory.intrinsic+json": {
              "type": "string"
            }
          },
          "metadata": {},
          "execution_count": 22
        }
      ]
    },
    {
      "cell_type": "code",
      "source": [
        "# 숫자형에도 따옴표를 둘러싸면 문자열이 된다.\n",
        "# 자료형 확인\n",
        "type(7), type('7')"
      ],
      "metadata": {
        "colab": {
          "base_uri": "https://localhost:8080/"
        },
        "id": "Hlg59F3kQJ0R",
        "outputId": "e6c5de24-3ae4-476b-f88c-65e3a99d53e1"
      },
      "execution_count": 23,
      "outputs": [
        {
          "output_type": "execute_result",
          "data": {
            "text/plain": [
              "(int, str)"
            ]
          },
          "metadata": {},
          "execution_count": 23
        }
      ]
    },
    {
      "cell_type": "code",
      "source": [
        "\"\"\"월을\"\"\""
      ],
      "metadata": {
        "colab": {
          "base_uri": "https://localhost:8080/",
          "height": 36
        },
        "id": "uJADMqSTQL7w",
        "outputId": "f8a0c5ed-ce61-462e-eab3-e625162fa922"
      },
      "execution_count": 24,
      "outputs": [
        {
          "output_type": "execute_result",
          "data": {
            "text/plain": [
              "'월을'"
            ],
            "application/vnd.google.colaboratory.intrinsic+json": {
              "type": "string"
            }
          },
          "metadata": {},
          "execution_count": 24
        }
      ]
    },
    {
      "cell_type": "code",
      "source": [
        "type(\"\"\"월을\"\"\")"
      ],
      "metadata": {
        "colab": {
          "base_uri": "https://localhost:8080/"
        },
        "id": "IG2sfuAdQPau",
        "outputId": "12f24161-4b6f-44b7-97bd-10d7af3e02bf"
      },
      "execution_count": 25,
      "outputs": [
        {
          "output_type": "execute_result",
          "data": {
            "text/plain": [
              "str"
            ]
          },
          "metadata": {},
          "execution_count": 25
        }
      ]
    },
    {
      "cell_type": "code",
      "source": [
        "'''좋아해요'''"
      ],
      "metadata": {
        "colab": {
          "base_uri": "https://localhost:8080/",
          "height": 36
        },
        "id": "9ZGS_EiDQQvt",
        "outputId": "4092d74b-e2d5-4042-ec58-de3566c56ad6"
      },
      "execution_count": 26,
      "outputs": [
        {
          "output_type": "execute_result",
          "data": {
            "text/plain": [
              "'좋아해요'"
            ],
            "application/vnd.google.colaboratory.intrinsic+json": {
              "type": "string"
            }
          },
          "metadata": {},
          "execution_count": 26
        }
      ]
    },
    {
      "cell_type": "code",
      "source": [
        "type('''좋아해요''')"
      ],
      "metadata": {
        "colab": {
          "base_uri": "https://localhost:8080/"
        },
        "id": "HPc2by82QUN4",
        "outputId": "08c10bb1-015c-40f4-ee8e-29d7dd27da36"
      },
      "execution_count": 27,
      "outputs": [
        {
          "output_type": "execute_result",
          "data": {
            "text/plain": [
              "str"
            ]
          },
          "metadata": {},
          "execution_count": 27
        }
      ]
    },
    {
      "cell_type": "markdown",
      "source": [
        "문자열 자료형 만드는데 여러가지 방법이 필요한 이유\n",
        "\n",
        "1. 여러 줄인 문자열을 변수에 대입하고 싶을 때\n",
        "\n",
        "  (1) 연속된 작은 따옴표 3개 또는 큰 따옴표 3개를 사용\n",
        "\n",
        "  (2) 이스케이프 코드(확장열) 사용하기"
      ],
      "metadata": {
        "id": "JF7BhTdvQbpW"
      }
    },
    {
      "cell_type": "code",
      "source": [
        "# 작은 따옴표 3개로 감싸기\n",
        "multiline = '''\n",
        "Only I can change my life,\n",
        "no one can do it for me.'''\n",
        "\n",
        "print(multiline)"
      ],
      "metadata": {
        "colab": {
          "base_uri": "https://localhost:8080/"
        },
        "id": "rxslcAGWQi4z",
        "outputId": "f69eb5c5-c429-4d37-f1dd-464263dbd273"
      },
      "execution_count": 28,
      "outputs": [
        {
          "output_type": "stream",
          "name": "stdout",
          "text": [
            "\n",
            "Only I can change my life,\n",
            "no one can do it for me.\n"
          ]
        }
      ]
    },
    {
      "cell_type": "code",
      "source": [
        "# 큰 따옴표 3개로 감싸기\n",
        "multiline = \"\"\"Only\n",
        "I can change my life,\n",
        "no one can do it\n",
        "for me.\"\"\"\n",
        "\n",
        "print(multiline)"
      ],
      "metadata": {
        "colab": {
          "base_uri": "https://localhost:8080/"
        },
        "id": "SB4rzzEQQn0Y",
        "outputId": "d32b57cb-878d-4b29-8092-00fc78f33396"
      },
      "execution_count": 29,
      "outputs": [
        {
          "output_type": "stream",
          "name": "stdout",
          "text": [
            "Only\n",
            "I can change my life,\n",
            "no one can do it\n",
            "for me.\n"
          ]
        }
      ]
    },
    {
      "cell_type": "code",
      "source": [
        "# `\\n` : 줄 바꿈 이스케이프 코드\n",
        "multiline = 'Only I can change my life,\\nno one can do it for me'\n",
        "\n",
        "print(multiline)"
      ],
      "metadata": {
        "colab": {
          "base_uri": "https://localhost:8080/"
        },
        "id": "3KdNFDvHQqnz",
        "outputId": "01c6f774-74a0-4f22-9ab6-94cd0a4f0abc"
      },
      "execution_count": 30,
      "outputs": [
        {
          "output_type": "stream",
          "name": "stdout",
          "text": [
            "Only I can change my life,\n",
            "no one can do it for me\n"
          ]
        }
      ]
    },
    {
      "cell_type": "markdown",
      "source": [
        "2. 문자열 안에 작은 따옴표나 큰 따옴표를 포함시키고 싶을 때\n",
        "\n",
        "  (1) 겹치지 않는 따옴표로 둘러싸기\n",
        "\n",
        "  (2) 이스케이프 코드(확장열) 사용하기\n",
        "\n",
        "  Don't dwell on the past.의 문자열을 present 변수에 저장 하려고 합니다.\n",
        "\n",
        "  이럴 때는 작은 따옴표를 포함하고 있는 문자열이기 때문에 큰 따옴표로 둘러싸야 합니다."
      ],
      "metadata": {
        "id": "SChHHG_7QxOi"
      }
    },
    {
      "cell_type": "code",
      "source": [
        "# 작은 따옴표를 포함한 문자열을 큰 따옴표로 둘러싸기\n",
        "present = \"Don't dwell on the past.\"\n",
        "\n",
        "print(present)"
      ],
      "metadata": {
        "colab": {
          "base_uri": "https://localhost:8080/"
        },
        "id": "LTabxdY9Rjzi",
        "outputId": "4ed25f84-856d-4040-b8fd-d1f27bebb679"
      },
      "execution_count": 31,
      "outputs": [
        {
          "output_type": "stream",
          "name": "stdout",
          "text": [
            "Don't dwell on the past.\n"
          ]
        }
      ]
    },
    {
      "cell_type": "code",
      "source": [
        "# 큰 따옴표를 포함한 문자열은 작은 따옴표로 둘러싸기\n",
        "answer = '\"Do not worry!\"'\n",
        "\n",
        "print(answer)"
      ],
      "metadata": {
        "colab": {
          "base_uri": "https://localhost:8080/"
        },
        "id": "Ze_BMcqWRnrQ",
        "outputId": "be68c280-ca5e-414e-d59d-874b8e00f16d"
      },
      "execution_count": 32,
      "outputs": [
        {
          "output_type": "stream",
          "name": "stdout",
          "text": [
            "\"Do not worry!\"\n"
          ]
        }
      ]
    },
    {
      "cell_type": "code",
      "source": [
        "#큰 따옴표와 작은 따옴표 둘 다 나타내고 싶을 때는 아까처럼 이스케이프 코드를 사용하면 됩니다.\n",
        "answer = '\\\"Don\\'t worry!\\\"'\n",
        "\n",
        "print(answer)"
      ],
      "metadata": {
        "colab": {
          "base_uri": "https://localhost:8080/"
        },
        "id": "JQkz3prTRtBq",
        "outputId": "718c022b-2f6c-4a88-95db-c9a7c8aca166"
      },
      "execution_count": 33,
      "outputs": [
        {
          "output_type": "stream",
          "name": "stdout",
          "text": [
            "\"Don't worry!\"\n"
          ]
        }
      ]
    },
    {
      "cell_type": "markdown",
      "source": [
        "3. 이스케이프 코드\n",
        "\n",
        "이스케이프 코드(확장열)은 프로그래밍을 할 때 문자열 안에 담기 힘든 문자를 사용할 수 있도록 미리 정의해 둔 문자 조합.\n",
        "\n",
        "이스케이프 코드, 확장열 또는 Escape Sequence 라고 함.\n",
        "\n",
        "\\n 문자열 안에서 줄을 바꿀 때 사용 (개행할 때)\n",
        "\n",
        "\\' 작은 따옴표\n",
        "\n",
        "\\\" 큰 따옴표\n",
        "\n",
        "\\\\ \\문자\n",
        "\n",
        "\\t 문자열 사이에 탭 간격을 줄 때 사용\n",
        "\n",
        "행끝 +\\  이전 줄과 이후 줄이 하나의 문자열로 정의"
      ],
      "metadata": {
        "id": "-DJOFU3gR4q_"
      }
    },
    {
      "cell_type": "code",
      "source": [
        "# `\\t` 예시\n",
        "tabline = 'thirty\\tone'\n",
        "print(tabline)"
      ],
      "metadata": {
        "colab": {
          "base_uri": "https://localhost:8080/"
        },
        "id": "DiSwn_LlSqRr",
        "outputId": "220c38dc-5600-4670-8b50-e3ef4c9d68c1"
      },
      "execution_count": 34,
      "outputs": [
        {
          "output_type": "stream",
          "name": "stdout",
          "text": [
            "thirty\tone\n"
          ]
        }
      ]
    },
    {
      "cell_type": "code",
      "source": [
        "# `\\` 예시\n",
        "# 가독성이 좋게 3줄로 표시되어 있지만\n",
        "# 한 줄의 문자열로 정의된다.\n",
        "s = '동짓달 기나긴 밤을 한 허리를 베어내어 \\\n",
        "봄바람 이불 아래 서리서리 넣었다가 \\\n",
        "정든 임 오신 날 밤이거든 굽이굽이 펴리라'\n",
        "\n",
        "print(s)"
      ],
      "metadata": {
        "colab": {
          "base_uri": "https://localhost:8080/"
        },
        "id": "wNO11ImsSxOM",
        "outputId": "19ade417-1ac7-4758-fc7a-4f2299746dad"
      },
      "execution_count": 35,
      "outputs": [
        {
          "output_type": "stream",
          "name": "stdout",
          "text": [
            "동짓달 기나긴 밤을 한 허리를 베어내어 봄바람 이불 아래 서리서리 넣었다가 정든 임 오신 날 밤이거든 굽이굽이 펴리라\n"
          ]
        }
      ]
    },
    {
      "cell_type": "markdown",
      "source": [
        "# 6-5. 문자열 다루기 (자료형 (1))"
      ],
      "metadata": {
        "id": "GEbTzfVUTEES"
      }
    },
    {
      "cell_type": "markdown",
      "source": [
        "(1) 문자열 더하기 (= 문자열 연결하기)\n",
        "\n",
        "문자열에서 +연산자는 더하기 보다 연결의 의미"
      ],
      "metadata": {
        "id": "9ow9wL5oTQQv"
      }
    },
    {
      "cell_type": "code",
      "source": [
        "head = '꾸준히'\n",
        "tail = 'python'\n",
        "\n",
        "print(head + tail)"
      ],
      "metadata": {
        "id": "-71oSx9cS3zB",
        "colab": {
          "base_uri": "https://localhost:8080/"
        },
        "outputId": "ba298308-8f3c-4258-b8e1-d472ce716ad8"
      },
      "execution_count": 36,
      "outputs": [
        {
          "output_type": "stream",
          "name": "stdout",
          "text": [
            "꾸준히python\n"
          ]
        }
      ]
    },
    {
      "cell_type": "code",
      "source": [
        "# 공백도 더하기도 더해줄 수 있다.\n",
        "print(head + ' ' + tail)"
      ],
      "metadata": {
        "colab": {
          "base_uri": "https://localhost:8080/"
        },
        "id": "mPeQ8E60TJwS",
        "outputId": "44bd5b98-fa4a-4136-8cf5-cd46256318a6"
      },
      "execution_count": 37,
      "outputs": [
        {
          "output_type": "stream",
          "name": "stdout",
          "text": [
            "꾸준히 python\n"
          ]
        }
      ]
    },
    {
      "cell_type": "markdown",
      "source": [
        "(2) 문자열 곱하기"
      ],
      "metadata": {
        "id": "TSxPdPxTTVjS"
      }
    },
    {
      "cell_type": "code",
      "source": [
        "print('hey' * 10)"
      ],
      "metadata": {
        "colab": {
          "base_uri": "https://localhost:8080/"
        },
        "id": "FrOihcbFTSwB",
        "outputId": "316a87c5-80f5-47a5-f41a-01548098b8ce"
      },
      "execution_count": 38,
      "outputs": [
        {
          "output_type": "stream",
          "name": "stdout",
          "text": [
            "heyheyheyheyheyheyheyheyheyhey\n"
          ]
        }
      ]
    },
    {
      "cell_type": "code",
      "source": [
        "print('hey ' * 10)"
      ],
      "metadata": {
        "colab": {
          "base_uri": "https://localhost:8080/"
        },
        "id": "ZIEKzwP8TY7n",
        "outputId": "6d5bca6b-0cf6-422f-ba97-6b6a72a1c42d"
      },
      "execution_count": 39,
      "outputs": [
        {
          "output_type": "stream",
          "name": "stdout",
          "text": [
            "hey hey hey hey hey hey hey hey hey hey \n"
          ]
        }
      ]
    },
    {
      "cell_type": "code",
      "source": [
        "# 모든 문자열을 곱할 수 있다.\n",
        "print('=' * 50)\n",
        "print('My Assignment')\n",
        "print('=' * 50)"
      ],
      "metadata": {
        "colab": {
          "base_uri": "https://localhost:8080/"
        },
        "id": "jjDyfX9vTbFF",
        "outputId": "25037df3-4271-49ad-a24e-4b2e19c38a95"
      },
      "execution_count": 40,
      "outputs": [
        {
          "output_type": "stream",
          "name": "stdout",
          "text": [
            "==================================================\n",
            "My Assignment\n",
            "==================================================\n"
          ]
        }
      ]
    },
    {
      "cell_type": "markdown",
      "source": [
        "(3) 정수와 문자열을 더할 수 있을까?\n",
        "\n",
        "+ 연산자는 피연산자의 타입을 판별하여 숫자에 대해서는 덧셈을 하고 문자열에 대해서는 연결을 함.\n",
        "\n",
        "그렇다면 숫자와 문자열 사이에 + 연산자를 넣으면 어떻게 될까?"
      ],
      "metadata": {
        "id": "pPg7HNJvTdhg"
      }
    },
    {
      "cell_type": "code",
      "source": [
        "# `ctrl + /`으로 주석을 풀고 실행시켜보자\n",
        "# a = 7\n",
        "# b = 'lucky'\n",
        "# print(a + b)\n",
        "# str과 int는 더할 수 없다고 에러가 뜸.\n",
        "# 즉 숫자와 문자열 사이에서는 + 연산자를 쓸 수 없슴.\n",
        "# 그런데도 쓰고 싶다면 자료형을 일치시키고 쓸 수 있음.\n",
        "a = 7\n",
        "b = 'lucky'\n",
        "print(str(a) + b)"
      ],
      "metadata": {
        "colab": {
          "base_uri": "https://localhost:8080/"
        },
        "id": "1RY39JG_TkSi",
        "outputId": "9bcc9785-a8f5-4aa7-c349-2ea1dfb59e83"
      },
      "execution_count": 41,
      "outputs": [
        {
          "output_type": "stream",
          "name": "stdout",
          "text": [
            "7lucky\n"
          ]
        }
      ]
    },
    {
      "cell_type": "code",
      "source": [
        "# 자료형 일치\n",
        "print(str(1988) + ' Seoul Olympic')"
      ],
      "metadata": {
        "colab": {
          "base_uri": "https://localhost:8080/"
        },
        "id": "HkCUXNXxT_Ik",
        "outputId": "b4bb0f82-78dc-45a9-b09f-e802385bc4c4"
      },
      "execution_count": 42,
      "outputs": [
        {
          "output_type": "stream",
          "name": "stdout",
          "text": [
            "1988 Seoul Olympic\n"
          ]
        }
      ]
    },
    {
      "cell_type": "markdown",
      "source": [
        "(4) 문자열 길이 구하기\n",
        "\n",
        "정말 자주 쓰임.  \n",
        "\n",
        "len() 함수를 사용."
      ],
      "metadata": {
        "id": "J7jQYal2UE8I"
      }
    },
    {
      "cell_type": "code",
      "source": [
        "a = 'life'\n",
        "len(a)"
      ],
      "metadata": {
        "colab": {
          "base_uri": "https://localhost:8080/"
        },
        "id": "ZRXhgnFLUCyO",
        "outputId": "36e06383-eb53-45c6-d15b-36f619ce46cb"
      },
      "execution_count": 43,
      "outputs": [
        {
          "output_type": "execute_result",
          "data": {
            "text/plain": [
              "4"
            ]
          },
          "metadata": {},
          "execution_count": 43
        }
      ]
    },
    {
      "cell_type": "code",
      "source": [
        "# 공백 포함한 길이를 구한다.\n",
        "a = ' life '\n",
        "len(a)"
      ],
      "metadata": {
        "colab": {
          "base_uri": "https://localhost:8080/"
        },
        "id": "0glXW1VUUSIR",
        "outputId": "38c94531-20fd-4432-fd7f-1e0e87952ab9"
      },
      "execution_count": 44,
      "outputs": [
        {
          "output_type": "execute_result",
          "data": {
            "text/plain": [
              "6"
            ]
          },
          "metadata": {},
          "execution_count": 44
        }
      ]
    },
    {
      "cell_type": "markdown",
      "source": [
        "(5) 문자열 인덱싱\n",
        "\n",
        "인덱싱(Indexing)은 무엇인가를 가리킨다는 의미\n",
        "\n",
        "인덱싱의 번호를 주의하자\n",
        "\n",
        "[ ]괄호 안에 인덱싱 번호를 넣어서 인덱싱할 수 있다.\n",
        "\n",
        "0과 -0은 똑같기 때문에 a[0]와 a[-0]은 동일한 값을 보여준다.\n",
        "\n",
        "문자열이 길 때, 뒤에서 세는 인덱싱을 자주 사용한다."
      ],
      "metadata": {
        "id": "HC-fb8euUWXT"
      }
    },
    {
      "cell_type": "code",
      "source": [
        "# a[0]와 a[-0]은 동일한 값\n",
        "a = 'python'\n",
        "a[0], a[-0]"
      ],
      "metadata": {
        "colab": {
          "base_uri": "https://localhost:8080/"
        },
        "id": "8In3BGEeUcTJ",
        "outputId": "4c1c8bb2-d56e-42b6-b143-6f7a15e6b54d"
      },
      "execution_count": 45,
      "outputs": [
        {
          "output_type": "execute_result",
          "data": {
            "text/plain": [
              "('p', 'p')"
            ]
          },
          "metadata": {},
          "execution_count": 45
        }
      ]
    },
    {
      "cell_type": "code",
      "source": [
        "# 문자열이 길 때, 뒤에서 세는 인덱싱을 자주 사용한다.\n",
        "a = 'Where there is a will there is a way'\n",
        "a[-3]"
      ],
      "metadata": {
        "colab": {
          "base_uri": "https://localhost:8080/",
          "height": 36
        },
        "id": "6yjTqRmKUeqb",
        "outputId": "49d81882-95bc-4725-9b89-bedbc4842cb5"
      },
      "execution_count": 46,
      "outputs": [
        {
          "output_type": "execute_result",
          "data": {
            "text/plain": [
              "'w'"
            ],
            "application/vnd.google.colaboratory.intrinsic+json": {
              "type": "string"
            }
          },
          "metadata": {},
          "execution_count": 46
        }
      ]
    },
    {
      "cell_type": "markdown",
      "source": [
        "(6) 문자열 슬라이싱\n",
        "\n",
        "슬라이싱(Slicing)은 무엇인가를 잘라낸다는 의미\n",
        "\n",
        "한 문자가 아닌 단어를 뽑아낼 수 있음.\n",
        "\n",
        "a[시작 번호:끝 번호+1]로 잘라냄.\n",
        "\n",
        "인덱싱과 마찬가지로 마이너스 기호를 사용할 수 있음.\n",
        "\n",
        "슬라이싱 앞부분을 생략하면 처음부터 뽑아냄.\n",
        "\n",
        "슬라이싱 뒷부분을 생략하면 끝까지 뽑아냄.."
      ],
      "metadata": {
        "id": "xqZvQu8tUhko"
      }
    },
    {
      "cell_type": "code",
      "source": [
        "# a[시작 번호:끝 번호+1]로 잘라낸다.\n",
        "# 0부터 4까지 슬라이싱 하고 싶으면 [0:5]로 표시해야 된다.\n",
        "a = 'Where there is a will there is a way'\n",
        "a[0:5]"
      ],
      "metadata": {
        "colab": {
          "base_uri": "https://localhost:8080/",
          "height": 36
        },
        "id": "ukb6oMSAUr23",
        "outputId": "206abff1-7dc5-4e04-ae75-ff8f23e44e34"
      },
      "execution_count": 47,
      "outputs": [
        {
          "output_type": "execute_result",
          "data": {
            "text/plain": [
              "'Where'"
            ],
            "application/vnd.google.colaboratory.intrinsic+json": {
              "type": "string"
            }
          },
          "metadata": {},
          "execution_count": 47
        }
      ]
    },
    {
      "cell_type": "code",
      "source": [
        "# 음수일때도 마찬가지\n",
        "a = 'Where there is a will there is a way'\n",
        "a[-8:-6]"
      ],
      "metadata": {
        "colab": {
          "base_uri": "https://localhost:8080/",
          "height": 36
        },
        "id": "3bRBLEK-Uua8",
        "outputId": "ba40da8a-1253-45e2-b938-e0d24c7a3926"
      },
      "execution_count": 48,
      "outputs": [
        {
          "output_type": "execute_result",
          "data": {
            "text/plain": [
              "'is'"
            ],
            "application/vnd.google.colaboratory.intrinsic+json": {
              "type": "string"
            }
          },
          "metadata": {},
          "execution_count": 48
        }
      ]
    },
    {
      "cell_type": "code",
      "source": [
        "# 슬라이싱 앞부분을 생략하면 처음부터 뽑아낸다.\n",
        "a = 'Where there is a will there is a way'\n",
        "a[:5]"
      ],
      "metadata": {
        "colab": {
          "base_uri": "https://localhost:8080/",
          "height": 36
        },
        "id": "yWvIP-btUwLs",
        "outputId": "285ba877-1f31-4ddc-882e-0944e8f632ed"
      },
      "execution_count": 49,
      "outputs": [
        {
          "output_type": "execute_result",
          "data": {
            "text/plain": [
              "'Where'"
            ],
            "application/vnd.google.colaboratory.intrinsic+json": {
              "type": "string"
            }
          },
          "metadata": {},
          "execution_count": 49
        }
      ]
    },
    {
      "cell_type": "code",
      "source": [
        "# 슬라이싱 뒷부분을 생략하면 끝까지 뽑아낸다.\n",
        "a = 'Where there is a will there is a way'\n",
        "a[-3:]"
      ],
      "metadata": {
        "colab": {
          "base_uri": "https://localhost:8080/",
          "height": 36
        },
        "id": "bA-cDD0JUyEe",
        "outputId": "c4baf528-fdb9-44a5-b4f7-bdf66b29dfc3"
      },
      "execution_count": 50,
      "outputs": [
        {
          "output_type": "execute_result",
          "data": {
            "text/plain": [
              "'way'"
            ],
            "application/vnd.google.colaboratory.intrinsic+json": {
              "type": "string"
            }
          },
          "metadata": {},
          "execution_count": 50
        }
      ]
    },
    {
      "cell_type": "markdown",
      "source": [
        "(7) 문자열 바꾸기\n",
        "\n",
        "문자열 안의 문자열을 다른 문자열을 바꿀 때는 replace()함수를 사용.\n",
        "\n",
        "'기존문자열, replace('바꿀문자열', '새문자열')'"
      ],
      "metadata": {
        "id": "kUaqPgDuU3Vy"
      }
    },
    {
      "cell_type": "code",
      "source": [
        "a = 'Hello, world!'\n",
        "b = a.replace('world', 'Python')\n",
        "b"
      ],
      "metadata": {
        "colab": {
          "base_uri": "https://localhost:8080/",
          "height": 36
        },
        "id": "bLhjNGE5VFOM",
        "outputId": "e6889d11-776f-4661-a287-111d4b5606b1"
      },
      "execution_count": 51,
      "outputs": [
        {
          "output_type": "execute_result",
          "data": {
            "text/plain": [
              "'Hello, Python!'"
            ],
            "application/vnd.google.colaboratory.intrinsic+json": {
              "type": "string"
            }
          },
          "metadata": {},
          "execution_count": 51
        }
      ]
    },
    {
      "cell_type": "markdown",
      "source": [
        "# 7-2. 리스트 자료형 (자료형 (2))"
      ],
      "metadata": {
        "id": "Cw5vUR_PB5dr"
      }
    },
    {
      "cell_type": "markdown",
      "source": [
        "(1) 리스트(list)란?\n",
        "\n",
        "개별 변수는 정수면 정수, 실수면 실수 식으로 하나의 값만 저장하는 데 비해 리스트는 여러 개의 값을 순서가 있는 모음으로 저장함.\n",
        "\n",
        "대괄호[] 안에 요소를 콤마,로 구분.\n",
        "\n",
        "리스트명 = [요소1, 요소2, 요소3, ...]\n",
        "\n",
        "리스트에 소속되는 각각의 값을 요소(element) 라고 부름.\n",
        "\n",
        "리스트 안에는 어떠한 자료형도 포함시킬 수 있으며, 비어 있는 리스트로 생성할 수 있음."
      ],
      "metadata": {
        "id": "Vecc86SWCYed"
      }
    },
    {
      "cell_type": "code",
      "source": [
        "# 리스트 안에는 어떠한 자료형도 포함시킬 수 있다.\n",
        "a = [1, 2, 3]\n",
        "b = ['AIFFEL', '화이팅']\n",
        "c = [1, 2, 'AIFFEL', '화이팅']\n",
        "d = [1, 2, ['AIFFEL', '화이팅']]"
      ],
      "metadata": {
        "id": "4QufkVVqCGS6"
      },
      "execution_count": 52,
      "outputs": []
    },
    {
      "cell_type": "code",
      "source": [
        "# 비어 있는 리스트로 생성할 수 있다.\n",
        "e = []"
      ],
      "metadata": {
        "id": "YLUcEef8CN9d"
      },
      "execution_count": 53,
      "outputs": []
    },
    {
      "cell_type": "code",
      "source": [
        "# list() 함수를 사용해서 빈 리스트를 만들 수 있다.\n",
        "f = list()\n",
        "f"
      ],
      "metadata": {
        "colab": {
          "base_uri": "https://localhost:8080/"
        },
        "id": "Yc7PvXsACRQ3",
        "outputId": "cc4e1e7a-3061-426d-d1be-d0435b33020d"
      },
      "execution_count": 54,
      "outputs": [
        {
          "output_type": "execute_result",
          "data": {
            "text/plain": [
              "[]"
            ]
          },
          "metadata": {},
          "execution_count": 54
        }
      ]
    },
    {
      "cell_type": "markdown",
      "source": [
        "(2) 리스트의 인덱싱 & 슬라이싱\n",
        "\n",
        "문자열 때 배웠던 인덱싱 & 슬라이싱이 리스트에서도 가능.\n",
        "\n",
        "문자열 인덱싱 & 슬라이싱과 동일한 방법으로 다룰 수 있으며, 리스트 안에 element인 리스트도 인덱싱할 수 있음."
      ],
      "metadata": {
        "id": "gnWteQrlCq73"
      }
    },
    {
      "cell_type": "code",
      "source": [
        "# 문자열과 동일하게 인덱싱\n",
        "a = [1, 2, 3, 4, 5]\n",
        "a[4]"
      ],
      "metadata": {
        "colab": {
          "base_uri": "https://localhost:8080/"
        },
        "id": "MZFeudsYC07z",
        "outputId": "c1084a6b-2ea5-4f25-c633-2f09b8d302b3"
      },
      "execution_count": 55,
      "outputs": [
        {
          "output_type": "execute_result",
          "data": {
            "text/plain": [
              "5"
            ]
          },
          "metadata": {},
          "execution_count": 55
        }
      ]
    },
    {
      "cell_type": "code",
      "source": [
        "a[-1]"
      ],
      "metadata": {
        "colab": {
          "base_uri": "https://localhost:8080/"
        },
        "id": "Y2ehyRQ0C36Y",
        "outputId": "e24f911c-7715-4799-ee5e-d240431dbee9"
      },
      "execution_count": 56,
      "outputs": [
        {
          "output_type": "execute_result",
          "data": {
            "text/plain": [
              "5"
            ]
          },
          "metadata": {},
          "execution_count": 56
        }
      ]
    },
    {
      "cell_type": "code",
      "source": [
        "# 리스트 안에 element인 리스트도 인덱싱할 수 있다.\n",
        "a = [1, 2, ['AIFFEL', '화이팅'], 3, 4]\n",
        "a[2]"
      ],
      "metadata": {
        "colab": {
          "base_uri": "https://localhost:8080/"
        },
        "id": "8mJEvRJ4C528",
        "outputId": "1929af4e-c035-4f81-da37-8c0c2ef1f94d"
      },
      "execution_count": 57,
      "outputs": [
        {
          "output_type": "execute_result",
          "data": {
            "text/plain": [
              "['AIFFEL', '화이팅']"
            ]
          },
          "metadata": {},
          "execution_count": 57
        }
      ]
    },
    {
      "cell_type": "code",
      "source": [
        "# 'AIFFEL'만 인덱싱 할 수 있다.\n",
        "a[2][0]"
      ],
      "metadata": {
        "colab": {
          "base_uri": "https://localhost:8080/",
          "height": 36
        },
        "id": "FNYhxkTEC8df",
        "outputId": "9f7c2420-54ed-4239-81e0-113d00c9d788"
      },
      "execution_count": 58,
      "outputs": [
        {
          "output_type": "execute_result",
          "data": {
            "text/plain": [
              "'AIFFEL'"
            ],
            "application/vnd.google.colaboratory.intrinsic+json": {
              "type": "string"
            }
          },
          "metadata": {},
          "execution_count": 58
        }
      ]
    },
    {
      "cell_type": "code",
      "source": [
        "# 아래 변수 a와 슬라이싱을 활용하여 b, c, d를 만들어봐요.\n",
        "a = [1,2,3,4,5]\n",
        "# 변수 b에 리스트 [1,2,3]를 담아봐요.\n",
        "b = a[:3]\n",
        "# 변수 c에 리스트 [3,4]를 담아봐요.\n",
        "c = a[2:4]\n",
        "# 변수 d에 리스트 [3,4,5]를 담아봐요.\n",
        "d = a[2:]\n",
        "\n",
        "print(b)\n",
        "print(c)\n",
        "print(d)"
      ],
      "metadata": {
        "colab": {
          "base_uri": "https://localhost:8080/"
        },
        "id": "8vwZ_zmTDxC_",
        "outputId": "81e2dea2-3f31-44bb-91c3-160ff1e6bda8"
      },
      "execution_count": 59,
      "outputs": [
        {
          "output_type": "stream",
          "name": "stdout",
          "text": [
            "[1, 2, 3]\n",
            "[3, 4]\n",
            "[3, 4, 5]\n"
          ]
        }
      ]
    },
    {
      "cell_type": "markdown",
      "source": [
        "(3) 리스트 연산하기\n",
        "\n",
        "리스트 연산은 문자열 연산의 의미와 동일.\n",
        "\n",
        "리스트 사이의 더하기(+) 연산자는 리스트를 합치고, 리스트 사이의 곱셈(*) 연산자는 리스트를 반복하고, 리스트 요소의 개수는 len() 함수를 이용해서 구할 수 있음."
      ],
      "metadata": {
        "id": "UwMBYhzdDB6k"
      }
    },
    {
      "cell_type": "code",
      "source": [
        "# 리스트 사이의 더하기(+) 연산자는 리스트를 합친다.\n",
        "list1 = [1, 2, 3]\n",
        "list2 = ['a', 'b', 'c']\n",
        "list1 + list2"
      ],
      "metadata": {
        "colab": {
          "base_uri": "https://localhost:8080/"
        },
        "id": "YN8Y2pSqC-6m",
        "outputId": "b99e8682-a0d0-4324-ec17-bee059756e51"
      },
      "execution_count": 60,
      "outputs": [
        {
          "output_type": "execute_result",
          "data": {
            "text/plain": [
              "[1, 2, 3, 'a', 'b', 'c']"
            ]
          },
          "metadata": {},
          "execution_count": 60
        }
      ]
    },
    {
      "cell_type": "code",
      "source": [
        "# 리스트 사이의 곱셈(*) 연산자는 리스트를 반복한다.\n",
        "list2 * 2"
      ],
      "metadata": {
        "colab": {
          "base_uri": "https://localhost:8080/"
        },
        "id": "mRbjELHmDL9N",
        "outputId": "66f5ddb4-26a9-4649-d4ab-837d9b93a5cd"
      },
      "execution_count": 61,
      "outputs": [
        {
          "output_type": "execute_result",
          "data": {
            "text/plain": [
              "['a', 'b', 'c', 'a', 'b', 'c']"
            ]
          },
          "metadata": {},
          "execution_count": 61
        }
      ]
    },
    {
      "cell_type": "code",
      "source": [
        "# 리스트 요소의 개수는 len() 함수를 이용해서 구할 수 있다.\n",
        "len(list2 * 2)"
      ],
      "metadata": {
        "colab": {
          "base_uri": "https://localhost:8080/"
        },
        "id": "qD0C6QH1DO_o",
        "outputId": "75ba6821-cf7c-48f1-f66d-05dfb9a8eb53"
      },
      "execution_count": 62,
      "outputs": [
        {
          "output_type": "execute_result",
          "data": {
            "text/plain": [
              "6"
            ]
          },
          "metadata": {},
          "execution_count": 62
        }
      ]
    },
    {
      "cell_type": "markdown",
      "source": [
        "(4) 리스트의 수정 & 삭제(del)\n",
        "\n",
        "리스트의 요소는 수정(교체)할 수 있음.\n",
        "\n",
        "리스트[인덱스] = 새 요소\n",
        "예약어 del 을 이용해서 리스트 요소를 삭제할 수 있음\n",
        "\n",
        "del 객체\n",
        "\n",
        "예약어는 특정 기능을 수행하도록 미리 예약되어 있는 단어이며, 함수와는 다름."
      ],
      "metadata": {
        "id": "gv7Jc4fCDcVt"
      }
    },
    {
      "cell_type": "code",
      "source": [
        "# 리스트의 요소는 수정(교체)할 수 있다.\n",
        "a = ['a', 'b', 7, 'd']\n",
        "a[2] = 'c'\n",
        "a"
      ],
      "metadata": {
        "colab": {
          "base_uri": "https://localhost:8080/"
        },
        "id": "7cKR4tl5DmwN",
        "outputId": "57b32a26-792a-4c74-c6f1-da71f71fbec2"
      },
      "execution_count": 63,
      "outputs": [
        {
          "output_type": "execute_result",
          "data": {
            "text/plain": [
              "['a', 'b', 'c', 'd']"
            ]
          },
          "metadata": {},
          "execution_count": 63
        }
      ]
    },
    {
      "cell_type": "code",
      "source": [
        "# 예약어 del 을 이용해서 리스트 요소를 삭제할 수 있다.\n",
        "a = ['a', 'b', 7, 'd']\n",
        "del a[2]\n",
        "a"
      ],
      "metadata": {
        "colab": {
          "base_uri": "https://localhost:8080/"
        },
        "id": "rNt2RmmnDo6m",
        "outputId": "9e1bec75-a51b-4daa-c37e-2ded2f2f02c5"
      },
      "execution_count": 64,
      "outputs": [
        {
          "output_type": "execute_result",
          "data": {
            "text/plain": [
              "['a', 'b', 'd']"
            ]
          },
          "metadata": {},
          "execution_count": 64
        }
      ]
    },
    {
      "cell_type": "markdown",
      "source": [
        "# 7-3. 리스트 관련 함수들"
      ],
      "metadata": {
        "id": "CYFZKm7AELP6"
      }
    },
    {
      "cell_type": "markdown",
      "source": [
        "1) 추가(append(x))\n",
        "\n",
        "2) 정렬(sort())\n",
        "\n",
        "(3) 뒤집기(reverse())\n",
        "\n",
        "(4) 위치 반환(index(x))\n",
        "\n",
        "(5) 요소 삽입(insert(a, b))\n",
        "\n",
        "(6) 요소 제거(remove(x))\n",
        "\n",
        "(7) 요소 끄집어내기(pop())\n",
        "\n",
        "(8) 특정 개수 세기(count(x))\n",
        "\n",
        "(9) 리스트 확장(extend(x))"
      ],
      "metadata": {
        "id": "aW64h5wREVsV"
      }
    },
    {
      "cell_type": "markdown",
      "source": [
        "(1) 추가 (append(x))"
      ],
      "metadata": {
        "id": "CcLl59WkE6y6"
      }
    },
    {
      "cell_type": "code",
      "source": [
        "# 리스트 맨 마지막에 x를 추가하는 함수\n",
        "a = [1, 3, 5]\n",
        "a.append(7)\n",
        "a"
      ],
      "metadata": {
        "colab": {
          "base_uri": "https://localhost:8080/"
        },
        "id": "O69mSq-LESUG",
        "outputId": "652c2b02-e4be-4e0a-e619-65e6003f587c"
      },
      "execution_count": 65,
      "outputs": [
        {
          "output_type": "execute_result",
          "data": {
            "text/plain": [
              "[1, 3, 5, 7]"
            ]
          },
          "metadata": {},
          "execution_count": 65
        }
      ]
    },
    {
      "cell_type": "code",
      "source": [
        "# 요소는 위에서 설명한 것처럼 모든 자료형이 가능하다\n",
        "a.append([2, 4, 6, 8, 10])\n",
        "a"
      ],
      "metadata": {
        "colab": {
          "base_uri": "https://localhost:8080/"
        },
        "id": "_YvCwN-LEjFP",
        "outputId": "d647325e-2f43-4be9-a976-21af8694171c"
      },
      "execution_count": 66,
      "outputs": [
        {
          "output_type": "execute_result",
          "data": {
            "text/plain": [
              "[1, 3, 5, 7, [2, 4, 6, 8, 10]]"
            ]
          },
          "metadata": {},
          "execution_count": 66
        }
      ]
    },
    {
      "cell_type": "code",
      "source": [
        "# 하지만 여러 요소를 넣으면 에러가 뜬다.\n",
        "# [window] : `ctrl + /`, [mac] : `command + /` 를 눌러서 주석을 풀고 실행해보자.\n",
        "\n",
        "a.append(9)\n",
        "a.append(11)\n",
        "a"
      ],
      "metadata": {
        "colab": {
          "base_uri": "https://localhost:8080/"
        },
        "id": "TXs9WNDrElUp",
        "outputId": "2b19e951-80fd-42ef-96bc-13a44cff5dc0"
      },
      "execution_count": 67,
      "outputs": [
        {
          "output_type": "execute_result",
          "data": {
            "text/plain": [
              "[1, 3, 5, 7, [2, 4, 6, 8, 10], 9, 11]"
            ]
          },
          "metadata": {},
          "execution_count": 67
        }
      ]
    },
    {
      "cell_type": "markdown",
      "source": [
        "(2) 정렬 (sort())"
      ],
      "metadata": {
        "id": "hR-C7BiGFE8Y"
      }
    },
    {
      "cell_type": "code",
      "source": [
        "# sort 함수는 괄호 안에 아무것도 넣지 않는다.\n",
        "a = [5, 2, 3, 4, 1]\n",
        "a.sort()\n",
        "a"
      ],
      "metadata": {
        "colab": {
          "base_uri": "https://localhost:8080/"
        },
        "id": "xvRDjuX5E01v",
        "outputId": "7c616ef5-8ef0-4089-c93e-70b3d46450c1"
      },
      "execution_count": 68,
      "outputs": [
        {
          "output_type": "execute_result",
          "data": {
            "text/plain": [
              "[1, 2, 3, 4, 5]"
            ]
          },
          "metadata": {},
          "execution_count": 68
        }
      ]
    },
    {
      "cell_type": "markdown",
      "source": [
        "(3) 뒤집기(reverse())"
      ],
      "metadata": {
        "id": "erCV5-UvFYul"
      }
    },
    {
      "cell_type": "code",
      "source": [
        "# reverse 함수는 괄호 안에 아무것도 넣지 않는다.\n",
        "a = ['h', 'e', 'l', 'l', 'o']\n",
        "a.reverse()\n",
        "a"
      ],
      "metadata": {
        "colab": {
          "base_uri": "https://localhost:8080/"
        },
        "id": "TAmUMmRmFbke",
        "outputId": "96b52638-7263-4c22-db95-eb9334a40659"
      },
      "execution_count": 69,
      "outputs": [
        {
          "output_type": "execute_result",
          "data": {
            "text/plain": [
              "['o', 'l', 'l', 'e', 'h']"
            ]
          },
          "metadata": {},
          "execution_count": 69
        }
      ]
    },
    {
      "cell_type": "markdown",
      "source": [
        "(4) 위치 반환(index(x))"
      ],
      "metadata": {
        "id": "3q8RoRY6FfD1"
      }
    },
    {
      "cell_type": "code",
      "source": [
        "# index(x) 함수는 리스트에 x가 있으면 x의 위치 값을 돌려준다.\n",
        "a = ['h', 'e', 'l', 'l', 'o']\n",
        "a.index('e')"
      ],
      "metadata": {
        "colab": {
          "base_uri": "https://localhost:8080/"
        },
        "id": "rGMEZj5jFhBd",
        "outputId": "f256ce05-0a24-4770-cbb1-da93e37c556e"
      },
      "execution_count": 70,
      "outputs": [
        {
          "output_type": "execute_result",
          "data": {
            "text/plain": [
              "1"
            ]
          },
          "metadata": {},
          "execution_count": 70
        }
      ]
    },
    {
      "cell_type": "code",
      "source": [
        "# 중복인 요소가 있을 때 확인해보기\n",
        "\n",
        "a = ['h', 'e', 'l', 'l', 'o']\n",
        "a.index('l')"
      ],
      "metadata": {
        "colab": {
          "base_uri": "https://localhost:8080/"
        },
        "id": "9Nm0yYT4Flfg",
        "outputId": "5ff8894b-9202-4d0e-e1d2-4a67362765fd"
      },
      "execution_count": 71,
      "outputs": [
        {
          "output_type": "execute_result",
          "data": {
            "text/plain": [
              "2"
            ]
          },
          "metadata": {},
          "execution_count": 71
        }
      ]
    },
    {
      "cell_type": "code",
      "source": [
        "# 없는 요소를 x에 있을 때 확인해보기\n",
        "# [window] : `ctrl + /`, [mac] : `command + /` 를 눌러서 주석을 풀고 실행해보자.\n",
        "\n",
        "a = ['h', 'e', 'l', 'l', 'o']\n",
        "try:\n",
        "    index_of_b = a.index('b')\n",
        "    print(f\"The index of 'b' is: {index_of_b}\")\n",
        "except ValueError:\n",
        "    print(\"'b' is not in the list.\")"
      ],
      "metadata": {
        "colab": {
          "base_uri": "https://localhost:8080/"
        },
        "id": "erqcHd87FoIB",
        "outputId": "7e011cf9-fb1f-4a2c-d593-251f3719b535"
      },
      "execution_count": 72,
      "outputs": [
        {
          "output_type": "stream",
          "name": "stdout",
          "text": [
            "'b' is not in the list.\n"
          ]
        }
      ]
    },
    {
      "cell_type": "markdown",
      "source": [
        "(5) 요소 삽입(insert(a, b))"
      ],
      "metadata": {
        "id": "HaWG_ADmFjb0"
      }
    },
    {
      "cell_type": "code",
      "source": [
        "# insert(a, b)는 a번째 위치에 b 요소를 삽입한다.\n",
        "# 위치 인덱스는 0 부터 센다는 것을 잊지 말자.\n",
        "a = [1, 3, 5, 7, 9]\n",
        "a.insert(5, 11)\n",
        "a"
      ],
      "metadata": {
        "colab": {
          "base_uri": "https://localhost:8080/"
        },
        "id": "E7vCQFluF_La",
        "outputId": "b93a97df-cc0d-49b6-d263-5fbcef11d28e"
      },
      "execution_count": 73,
      "outputs": [
        {
          "output_type": "execute_result",
          "data": {
            "text/plain": [
              "[1, 3, 5, 7, 9, 11]"
            ]
          },
          "metadata": {},
          "execution_count": 73
        }
      ]
    },
    {
      "cell_type": "markdown",
      "source": [
        "(6) 요소 제거(remove(x))"
      ],
      "metadata": {
        "id": "rRmveVkAIFZ_"
      }
    },
    {
      "cell_type": "code",
      "source": [
        "# remove(x)는 요소 x를 삭제한다.\n",
        "a = ['e', 'x', 't', 'e', 'n', 'd']\n",
        "a.remove('x')\n",
        "a"
      ],
      "metadata": {
        "colab": {
          "base_uri": "https://localhost:8080/"
        },
        "id": "y204Y8GaIG_H",
        "outputId": "2a984fdc-6746-413b-92ed-8932540645fa"
      },
      "execution_count": 74,
      "outputs": [
        {
          "output_type": "execute_result",
          "data": {
            "text/plain": [
              "['e', 't', 'e', 'n', 'd']"
            ]
          },
          "metadata": {},
          "execution_count": 74
        }
      ]
    },
    {
      "cell_type": "code",
      "source": [
        "# 중복인 요소가 있을 때 확인하기\n",
        "# [window] : `ctrl + /`, [mac] : `command + /` 를 눌러서 주석을 풀고 실행해보자.\n",
        "\n",
        "a = ['e', 'x', 't', 'e', 'n', 'd']\n",
        "a.remove('e')\n",
        "a"
      ],
      "metadata": {
        "colab": {
          "base_uri": "https://localhost:8080/"
        },
        "id": "ciyaZIIYIJGD",
        "outputId": "f01fbffa-5350-46ba-e412-c06b57c5326b"
      },
      "execution_count": 75,
      "outputs": [
        {
          "output_type": "execute_result",
          "data": {
            "text/plain": [
              "['x', 't', 'e', 'n', 'd']"
            ]
          },
          "metadata": {},
          "execution_count": 75
        }
      ]
    },
    {
      "cell_type": "markdown",
      "source": [
        "(7) 요소 끄집어내기(pop())"
      ],
      "metadata": {
        "id": "XLlr_p8iIQ5f"
      }
    },
    {
      "cell_type": "code",
      "source": [
        "# pop()은 리스트 맨 마지막 요소를 반환하고 그 요소는 삭제한다.\n",
        "a = [1, 2, 3]\n",
        "a.pop()"
      ],
      "metadata": {
        "colab": {
          "base_uri": "https://localhost:8080/"
        },
        "id": "-NwpBeu0ISVk",
        "outputId": "f6fc0336-759d-4fdb-9989-e038c222057f"
      },
      "execution_count": 76,
      "outputs": [
        {
          "output_type": "execute_result",
          "data": {
            "text/plain": [
              "3"
            ]
          },
          "metadata": {},
          "execution_count": 76
        }
      ]
    },
    {
      "cell_type": "code",
      "source": [
        "# pop() 함수 이후에 제거 되었는지 확인\n",
        "a"
      ],
      "metadata": {
        "colab": {
          "base_uri": "https://localhost:8080/"
        },
        "id": "roOs43YyIWHc",
        "outputId": "de55d631-7729-412a-c28e-ac7632a89bc2"
      },
      "execution_count": 77,
      "outputs": [
        {
          "output_type": "execute_result",
          "data": {
            "text/plain": [
              "[1, 2]"
            ]
          },
          "metadata": {},
          "execution_count": 77
        }
      ]
    },
    {
      "cell_type": "markdown",
      "source": [
        "(8) 특정 개수 세기(count(x))"
      ],
      "metadata": {
        "id": "pHKrGwNFIYfk"
      }
    },
    {
      "cell_type": "code",
      "source": [
        "# count(x)는 리스트 안에 요소 x가 몇 개 있는지 개수를 세고 그 개수를 반환한다.\n",
        "a = ['h', 'e', 'l', 'l', 'o']\n",
        "a.count('l')"
      ],
      "metadata": {
        "colab": {
          "base_uri": "https://localhost:8080/"
        },
        "id": "03x0rkdNIZ0o",
        "outputId": "1b3289d2-26bf-4438-b8e3-5770a5e02b96"
      },
      "execution_count": 78,
      "outputs": [
        {
          "output_type": "execute_result",
          "data": {
            "text/plain": [
              "2"
            ]
          },
          "metadata": {},
          "execution_count": 78
        }
      ]
    },
    {
      "cell_type": "markdown",
      "source": [
        "(9) 리스트 확장(extend(x))"
      ],
      "metadata": {
        "id": "1AZbCj1hIecN"
      }
    },
    {
      "cell_type": "code",
      "source": [
        "# extend(x)에서 리스트 x를 기존 리스트에 연결한다.\n",
        "# x는 리스트만 올 수 있다.\n",
        "a = [1, 2, 3]\n",
        "a.extend([4, 5, 6])\n",
        "a"
      ],
      "metadata": {
        "colab": {
          "base_uri": "https://localhost:8080/"
        },
        "id": "5sQrJFnMIgAY",
        "outputId": "244fdddc-138b-49a6-8244-e91aaa1323fa"
      },
      "execution_count": 79,
      "outputs": [
        {
          "output_type": "execute_result",
          "data": {
            "text/plain": [
              "[1, 2, 3, 4, 5, 6]"
            ]
          },
          "metadata": {},
          "execution_count": 79
        }
      ]
    },
    {
      "cell_type": "code",
      "source": [
        "# a.extend(b) 는 a += b 와 동일하다.\n",
        "a = [1, 2, 3]\n",
        "b = [4, 5, 6]\n",
        "a += b\n",
        "a"
      ],
      "metadata": {
        "colab": {
          "base_uri": "https://localhost:8080/"
        },
        "id": "PID2zAswIiUT",
        "outputId": "28937fa8-5a98-44ef-9d25-b68ec8671d7f"
      },
      "execution_count": 80,
      "outputs": [
        {
          "output_type": "execute_result",
          "data": {
            "text/plain": [
              "[1, 2, 3, 4, 5, 6]"
            ]
          },
          "metadata": {},
          "execution_count": 80
        }
      ]
    },
    {
      "cell_type": "markdown",
      "source": [
        "# 7-4. 튜플 자료형 (자료형 (2))"
      ],
      "metadata": {
        "id": "ALMKnhdCImgy"
      }
    },
    {
      "cell_type": "markdown",
      "source": [
        "(1) 튜플(tuple)이란?\n",
        "여러 개의 값의 모음이라는 점에서 리스트와 비슷하지만 수정할 수 없다는 점에서 다름.\n",
        "\n",
        "소괄호() 안에 요소를 콤마,로 구분해 줌.\n",
        "\n",
        "튜플명 = (요소1, 요소2, 요소3, ...)\n",
        "\n",
        "소괄호()를 생략해도 무방함.\n",
        "\n",
        "튜플명 = 요소1, 요소2, 요소3, ...\n",
        "\n",
        "튜플에 소속되는 각각의 값 또한 요소(element) 라고 함.\n",
        "튜플 안에는 어떠한 자료형도 포함시킬 수 있으며, 비어 있는 튜플도 생성할 수 있음.\n",
        "\n",
        "\n",
        "(2) 튜플에서 가능한 것과 불가능한 것\n",
        "가능한 것\n",
        "\n",
        "튜플 요소를 인덱싱 & 슬라이싱할 수 있음.\n",
        "\n",
        "+ 연산자로 튜플을 연결할 수 있고, * 연산자로 튜플을 반복할 수 있음."
      ],
      "metadata": {
        "id": "hvIOns7EIwNm"
      }
    },
    {
      "cell_type": "code",
      "source": [
        "# 튜플 요소를 인덱싱 & 슬라이싱할 수 있다.\n",
        "tu1 = 1, 2, 3, 4, 5\n",
        "tu1[0]"
      ],
      "metadata": {
        "colab": {
          "base_uri": "https://localhost:8080/"
        },
        "id": "-1mnu7AHI-72",
        "outputId": "63ab4cc8-968f-4b5f-8015-8fb3c98104e5"
      },
      "execution_count": 81,
      "outputs": [
        {
          "output_type": "execute_result",
          "data": {
            "text/plain": [
              "1"
            ]
          },
          "metadata": {},
          "execution_count": 81
        }
      ]
    },
    {
      "cell_type": "code",
      "source": [
        "tu1[:3]"
      ],
      "metadata": {
        "colab": {
          "base_uri": "https://localhost:8080/"
        },
        "id": "DS8s063NJMkS",
        "outputId": "b4c98f68-bcc7-4302-ad1f-aac6b02e706c"
      },
      "execution_count": 82,
      "outputs": [
        {
          "output_type": "execute_result",
          "data": {
            "text/plain": [
              "(1, 2, 3)"
            ]
          },
          "metadata": {},
          "execution_count": 82
        }
      ]
    },
    {
      "cell_type": "code",
      "source": [
        "# + 연산자로 튜플을 연결할 수 있다.\n",
        "tu1 = 1, 2, 3, 4, 5\n",
        "tu2 = 6, 7, 8, 9\n",
        "tu1 + tu2"
      ],
      "metadata": {
        "colab": {
          "base_uri": "https://localhost:8080/"
        },
        "id": "q_t--Y1_JNvs",
        "outputId": "c8a5bccf-0c8d-40e7-a3a7-9eaa2eb8d82f"
      },
      "execution_count": 83,
      "outputs": [
        {
          "output_type": "execute_result",
          "data": {
            "text/plain": [
              "(1, 2, 3, 4, 5, 6, 7, 8, 9)"
            ]
          },
          "metadata": {},
          "execution_count": 83
        }
      ]
    },
    {
      "cell_type": "code",
      "source": [
        "# * 연산자로 튜플을 반복할 수 있다.\n",
        "tu1 = 1, 2, 3, 4, 5\n",
        "tu1 * 2"
      ],
      "metadata": {
        "colab": {
          "base_uri": "https://localhost:8080/"
        },
        "id": "yNumWzc6JPwy",
        "outputId": "d87eeffa-aeb7-49b6-cdac-57c9191cbdad"
      },
      "execution_count": 84,
      "outputs": [
        {
          "output_type": "execute_result",
          "data": {
            "text/plain": [
              "(1, 2, 3, 4, 5, 1, 2, 3, 4, 5)"
            ]
          },
          "metadata": {},
          "execution_count": 84
        }
      ]
    },
    {
      "cell_type": "markdown",
      "source": [
        "불가능한 것\n",
        "\n",
        "튜플 요소를 변경하거나 삭제하는 것은 불가능합니다."
      ],
      "metadata": {
        "id": "TWUV6XTTJU5-"
      }
    },
    {
      "cell_type": "code",
      "source": [
        "# 튜플 요소는 변경이 불가능하다.\n",
        "# [window] : `ctrl + /`, [mac] : `command + /` 를 눌러서 주석을 풀고 실행해보자.\n",
        "\n",
        "tu1 = (2, 4, 6)\n",
        "# tu1[0] = 1  # This line will raise a TypeError because tuples are immutable.\n",
        "# Explanation: Tuples cannot be modified after creation.\n",
        "# If you need to change data, you would typically create a new tuple.\n",
        "new_tu1 = (1,) + tu1[1:] # Example of creating a new tuple with a changed first element\n",
        "print(f\"Original tuple: {tu1}\")\n",
        "print(f\"Attempted change (causes error): tu1[0] = 1\")\n",
        "print(f\"New tuple with modified element (by creating a new tuple): {new_tu1}\")"
      ],
      "metadata": {
        "colab": {
          "base_uri": "https://localhost:8080/"
        },
        "id": "aXkN5ZQOJipH",
        "outputId": "3e74f7dd-df20-4063-fee8-751abc2485ff"
      },
      "execution_count": 85,
      "outputs": [
        {
          "output_type": "stream",
          "name": "stdout",
          "text": [
            "Original tuple: (2, 4, 6)\n",
            "Attempted change (causes error): tu1[0] = 1\n",
            "New tuple with modified element (by creating a new tuple): (1, 4, 6)\n"
          ]
        }
      ]
    },
    {
      "source": [
        "# 튜플 요소는 삭제가 불가능하다.\n",
        "# [window] : `ctrl + /`, [mac] : `command + /` 를 눌러서 주석을 풀고 실행해보자.\n",
        "\n",
        "tu1 = (2, 4, 6)\n",
        "# The following line will raise a TypeError because tuples are immutable\n",
        "# del tu1[0]\n",
        "# Explanation: Tuple objects do not support item deletion after creation.\n",
        "# If you need a sequence that can be modified, use a list instead.\n",
        "# If you need a tuple with some elements removed, you would typically create a new tuple\n",
        "# by slicing or other methods, effectively creating a copy without the desired elements.\n",
        "print(f\"Original tuple: {tu1}\")\n",
        "print(\"Attempting to delete an element from a tuple will raise a TypeError.\")\n",
        "# Example of creating a new tuple without the first element:\n",
        "new_tu1_without_first = tu1[1:]\n",
        "print(f\"New tuple without the first element (created by slicing): {new_tu1_without_first}\")"
      ],
      "cell_type": "code",
      "metadata": {
        "colab": {
          "base_uri": "https://localhost:8080/"
        },
        "id": "WH9mJzl_JwyT",
        "outputId": "4cc909f7-b4bf-4c7c-c04c-066222fe0aaf"
      },
      "execution_count": 86,
      "outputs": [
        {
          "output_type": "stream",
          "name": "stdout",
          "text": [
            "Original tuple: (2, 4, 6)\n",
            "Attempting to delete an element from a tuple will raise a TypeError.\n",
            "New tuple without the first element (created by slicing): (4, 6)\n"
          ]
        }
      ]
    },
    {
      "cell_type": "markdown",
      "source": [
        "(3) 튜플을 사용하는 이유\n",
        "\n",
        "튜플로 가능한 일은 리스트에서 모두 가능하나,오히려 리스트에서 가능한 것이 튜플에서는 불가능한 것들이 있음.\n",
        "\n",
        "그럼에도 불구하고 굳이 튜플을 사용하는 이유는, 튜플의 내부 구조가 단순한 만큼 더 적은 메모리를 사용하고 읽는 속도도 빠르기 때문.  (편집할 수 없기 때문에 안정적)"
      ],
      "metadata": {
        "id": "S8_xrILaJ270"
      }
    },
    {
      "cell_type": "markdown",
      "source": [
        "# 8-2. 딕셔너리 자료형 (자료형 (3))"
      ],
      "metadata": {
        "id": "Yy0lg2yTKEYK"
      }
    },
    {
      "cell_type": "markdown",
      "source": [
        "(1) 딕셔너리(Dictionary)란?\n",
        "\n",
        "딕셔너리는 키(Key)와 값(Value)의 쌍을 저장하는 대용량의 자료구조\n",
        "\n",
        "파이썬이 아닌 다른 언어에서도 이런 대응 관계를 가지는 자료형을 갖고 있는데,\n",
        "이를 연관 배열 또는 해시(Hash)라고 함.\n",
        "\n",
        "딕셔너리의 가장 큰 특징은 리스트나 튜플처럼 순차적으로(=인덱스로) 요소를 꺼낼 수 없고 Key를 통해 Value를 얻는 것.\n",
        "\n",
        "순차적으로 꺼내지 못하니 요소들의 순서는 의미가 없음..(=순서가 달라져도 동일한 딕셔너리이다.)\n",
        "\n",
        "중괄호{} 안에 Key:Value 형태를 넣고 콤마,로 구분해 줌.\n",
        "\n",
        "딕셔너리명 = {Key1:Value1, Key2:Value2, Key3:Value3, ...}\n",
        "\n",
        "키(Key)는 중복되면 안 되고, 값(Value)은 중복되어도 상관 없음."
      ],
      "metadata": {
        "id": "RZFq7-E_KqB2"
      }
    },
    {
      "cell_type": "code",
      "source": [
        "# 중괄호{} 안에 Key:Value 형태를 넣고 콤마,로 구분\n",
        "# 순서가 달라져도 동일한 딕셔너리이다.\n",
        "dic = {'apple':'사과', 'orange':'오렌지', 'melon':'멜론', 'num':8}\n",
        "dic"
      ],
      "metadata": {
        "colab": {
          "base_uri": "https://localhost:8080/"
        },
        "id": "iGpwvEhwKmkI",
        "outputId": "29c34e5a-fa40-43e6-c834-c808f04b613a"
      },
      "execution_count": 87,
      "outputs": [
        {
          "output_type": "execute_result",
          "data": {
            "text/plain": [
              "{'apple': '사과', 'orange': '오렌지', 'melon': '멜론', 'num': 8}"
            ]
          },
          "metadata": {},
          "execution_count": 87
        }
      ]
    },
    {
      "cell_type": "code",
      "source": [
        "# 키(Key)는 중복되면 안 되고, 값(Value)은 중복되어도 상관 없다.\n",
        "# 중복되는 키가 있을 때 확인해보기\n",
        "# 중복되는 key가 있으면 하나를 제외한 나머지 것들이 모두 무시됨\n",
        "dic = {'apple':'사과', 'orange':'오렌지', 'melon':'멜론', \\\n",
        "        'num':8, 'apple':'꿀사과', 'num_2':8}\n",
        "dic"
      ],
      "metadata": {
        "colab": {
          "base_uri": "https://localhost:8080/"
        },
        "id": "Su0ut4vtK31e",
        "outputId": "865be23d-8c78-4865-ec99-0a9aacf5b5e6"
      },
      "execution_count": 88,
      "outputs": [
        {
          "output_type": "execute_result",
          "data": {
            "text/plain": [
              "{'apple': '꿀사과', 'orange': '오렌지', 'melon': '멜론', 'num': 8, 'num_2': 8}"
            ]
          },
          "metadata": {},
          "execution_count": 88
        }
      ]
    },
    {
      "cell_type": "markdown",
      "source": [
        "# 8-3. 딕셔너리 관련 함수 (자료형 (3))"
      ],
      "metadata": {
        "id": "N3Tnq_UeKgdd"
      }
    },
    {
      "cell_type": "markdown",
      "source": [
        "딕셔너리 함수 & 예약어\n",
        "\n",
        "keys() : Key 리스트 만들기\n",
        "\n",
        "values() : Value 리스트 만들기\n",
        "\n",
        "items() : Key:Value 쌍 얻기\n",
        "\n",
        "clear() : Key:Value 쌍 모두 지우기\n",
        "\n",
        "get() : Key로 Value얻기\n",
        "\n",
        "in : 해당 Key가 딕셔너리 안에 있는지 조사하기"
      ],
      "metadata": {
        "id": "B-iK636aLL3Y"
      }
    },
    {
      "cell_type": "code",
      "source": [
        "# keys()\n",
        "dog = {'name':'규봉이', 'breed':'진돗개', 'color':'brown'}\n",
        "dog.keys()"
      ],
      "metadata": {
        "colab": {
          "base_uri": "https://localhost:8080/"
        },
        "id": "B9Q9cjR1LJJi",
        "outputId": "18f96282-dc58-4dac-d1c0-30bb9a959bc1"
      },
      "execution_count": 89,
      "outputs": [
        {
          "output_type": "execute_result",
          "data": {
            "text/plain": [
              "dict_keys(['name', 'breed', 'color'])"
            ]
          },
          "metadata": {},
          "execution_count": 89
        }
      ]
    },
    {
      "cell_type": "code",
      "source": [
        "# values()\n",
        "dog = {'name':'규봉이', 'breed':'진돗개', 'color':'brown'}\n",
        "dog.values()"
      ],
      "metadata": {
        "colab": {
          "base_uri": "https://localhost:8080/"
        },
        "id": "kFrqOt_KLSXj",
        "outputId": "53dfc11c-cdfa-4cbc-d643-6ccc4a508624"
      },
      "execution_count": 90,
      "outputs": [
        {
          "output_type": "execute_result",
          "data": {
            "text/plain": [
              "dict_values(['규봉이', '진돗개', 'brown'])"
            ]
          },
          "metadata": {},
          "execution_count": 90
        }
      ]
    },
    {
      "cell_type": "code",
      "source": [
        "# items()\n",
        "dog = {'name':'규봉이', 'breed':'진돗개', 'color':'brown'}\n",
        "dog.items()"
      ],
      "metadata": {
        "colab": {
          "base_uri": "https://localhost:8080/"
        },
        "id": "sTRVp6CDLUMI",
        "outputId": "4c299d3a-3248-4e99-f234-8a33ac53173b"
      },
      "execution_count": 91,
      "outputs": [
        {
          "output_type": "execute_result",
          "data": {
            "text/plain": [
              "dict_items([('name', '규봉이'), ('breed', '진돗개'), ('color', 'brown')])"
            ]
          },
          "metadata": {},
          "execution_count": 91
        }
      ]
    },
    {
      "cell_type": "code",
      "source": [
        "# clear()\n",
        "dog = {'name':'규봉이', 'breed':'진돗개', 'color':'brown'}\n",
        "dog.clear()\n",
        "dog"
      ],
      "metadata": {
        "colab": {
          "base_uri": "https://localhost:8080/"
        },
        "id": "JAs6kq1FLWH3",
        "outputId": "fe55d550-ba7a-442a-da7a-76aa0a8145bc"
      },
      "execution_count": 92,
      "outputs": [
        {
          "output_type": "execute_result",
          "data": {
            "text/plain": [
              "{}"
            ]
          },
          "metadata": {},
          "execution_count": 92
        }
      ]
    },
    {
      "cell_type": "markdown",
      "source": [
        "딕셔너리 쌍이 모두 지워졌다.\n",
        "\n",
        "= 빈 딕셔너리가 됐다.\n",
        "\n",
        "≠ 딕셔너리가 없어졌다.\n",
        "\n",
        "혼동하지 않도록 주의해야 합니다."
      ],
      "metadata": {
        "id": "Y6jbKhjxLYod"
      }
    },
    {
      "cell_type": "code",
      "source": [
        "# get()\n",
        "dog = {'name':'규봉이', 'breed':'진돗개', 'color':'brown'}\n",
        "dog.get('name')"
      ],
      "metadata": {
        "colab": {
          "base_uri": "https://localhost:8080/",
          "height": 36
        },
        "id": "1UJg3l2SLbm9",
        "outputId": "28f8ee02-d978-4f1c-adb7-0299ae70492e"
      },
      "execution_count": 93,
      "outputs": [
        {
          "output_type": "execute_result",
          "data": {
            "text/plain": [
              "'규봉이'"
            ],
            "application/vnd.google.colaboratory.intrinsic+json": {
              "type": "string"
            }
          },
          "metadata": {},
          "execution_count": 93
        }
      ]
    },
    {
      "cell_type": "code",
      "source": [
        "# dog.get('name') 와 dog['name'] 은 동일한 결과값을 냅니다.\n",
        "\n",
        "# in 은 Key만 확인 가능하다.\n",
        "dog = {'name':'규봉이', 'breed':'진돗개', 'color':'brown'}\n",
        "'name' in dog"
      ],
      "metadata": {
        "colab": {
          "base_uri": "https://localhost:8080/"
        },
        "id": "Bre0RY0bLdpD",
        "outputId": "c4402bb6-b2cf-4f4a-d33e-b18d0c194927"
      },
      "execution_count": 94,
      "outputs": [
        {
          "output_type": "execute_result",
          "data": {
            "text/plain": [
              "True"
            ]
          },
          "metadata": {},
          "execution_count": 94
        }
      ]
    },
    {
      "cell_type": "code",
      "source": [
        "# value 도 넣어보기\n",
        "'규봉이' in dog"
      ],
      "metadata": {
        "colab": {
          "base_uri": "https://localhost:8080/"
        },
        "id": "AXaG3091LlsC",
        "outputId": "2af90adc-bc19-4e01-b0c2-db64c242750f"
      },
      "execution_count": 95,
      "outputs": [
        {
          "output_type": "execute_result",
          "data": {
            "text/plain": [
              "False"
            ]
          },
          "metadata": {},
          "execution_count": 95
        }
      ]
    },
    {
      "cell_type": "markdown",
      "source": [
        "# 8-4. 집합(set) 자료형 (자료형 (3))"
      ],
      "metadata": {
        "id": "Is6dR35DLrFe"
      }
    },
    {
      "cell_type": "markdown",
      "source": [
        "(1) 집합(set)이란?\n",
        "\n",
        "수학 시간에 배운 집합과 같은 집합.\n",
        "\n",
        "어떤 값들의 모임일 뿐 순서는 없음 (=순서가 달라져도 동일한 집합이다.)\n",
        "\n",
        "중괄호{} 안에 value를 넣고 콤마,로 구분해 줌.\n",
        "\n",
        "집합명 = {value1, value2, value3, ...}\n",
        "\n",
        "set() 괄호 안에 리스트나 문자열을 입력해서 만들 수도 있음.\n",
        "집합은 값을 포함하고 있느냐 아니냐만 중요해서, 중복은 허락하지 않으며 순서도 별 의미 없음"
      ],
      "metadata": {
        "id": "OGdUe5nsLwuf"
      }
    },
    {
      "cell_type": "code",
      "source": [
        "# 중괄호{} 안에 value를 넣고 콤마,로 구분해 준다.\n",
        "# 중복은 허락되지 않는다.\n",
        "asia = {'korea', 'china', 'japan', 'korea'}\n",
        "asia"
      ],
      "metadata": {
        "colab": {
          "base_uri": "https://localhost:8080/"
        },
        "id": "1ot1pwJ-LuQh",
        "outputId": "ca9b800b-c00d-452e-e5a0-1152ff4cb655"
      },
      "execution_count": 96,
      "outputs": [
        {
          "output_type": "execute_result",
          "data": {
            "text/plain": [
              "{'china', 'japan', 'korea'}"
            ]
          },
          "metadata": {},
          "execution_count": 96
        }
      ]
    },
    {
      "cell_type": "code",
      "source": [
        "# 중복을 허용하지 않는 특징을 활용해서 중복 제거하기위한 필터 역할로 종종 사용 합니다.\n",
        "# set() 활용\n",
        "# 빈 집합 만들기\n",
        "a = set()\n",
        "a"
      ],
      "metadata": {
        "colab": {
          "base_uri": "https://localhost:8080/"
        },
        "id": "InCfiLWuL8EI",
        "outputId": "a758e9a1-6e31-4fba-89e5-387436cc9ee5"
      },
      "execution_count": 97,
      "outputs": [
        {
          "output_type": "execute_result",
          "data": {
            "text/plain": [
              "set()"
            ]
          },
          "metadata": {},
          "execution_count": 97
        }
      ]
    },
    {
      "cell_type": "code",
      "source": [
        "# 빈 딕셔너리와 혼동을 주의하자.\n",
        "a = {}\n",
        "type(a)"
      ],
      "metadata": {
        "colab": {
          "base_uri": "https://localhost:8080/"
        },
        "id": "prUILVbFMAYH",
        "outputId": "1d7318b0-1834-427b-96d9-c76ec28b715d"
      },
      "execution_count": 98,
      "outputs": [
        {
          "output_type": "execute_result",
          "data": {
            "text/plain": [
              "dict"
            ]
          },
          "metadata": {},
          "execution_count": 98
        }
      ]
    },
    {
      "cell_type": "code",
      "source": [
        "# set() 활용\n",
        "# 문자열 넣어보기\n",
        "a = set('hello')\n",
        "a"
      ],
      "metadata": {
        "colab": {
          "base_uri": "https://localhost:8080/"
        },
        "id": "M-bsyCnbMDZ8",
        "outputId": "3d4163b2-e36e-4bd9-c3bb-7d1652e57fbf"
      },
      "execution_count": 99,
      "outputs": [
        {
          "output_type": "execute_result",
          "data": {
            "text/plain": [
              "{'e', 'h', 'l', 'o'}"
            ]
          },
          "metadata": {},
          "execution_count": 99
        }
      ]
    },
    {
      "cell_type": "code",
      "source": [
        "# set() 활용\n",
        "# 리스트 넣어보기\n",
        "a = set([1, 2, 3])\n",
        "a"
      ],
      "metadata": {
        "colab": {
          "base_uri": "https://localhost:8080/"
        },
        "id": "VqG07Zp5MEsk",
        "outputId": "0edb26fd-09e7-4061-d04e-25781b3dcfbf"
      },
      "execution_count": 100,
      "outputs": [
        {
          "output_type": "execute_result",
          "data": {
            "text/plain": [
              "{1, 2, 3}"
            ]
          },
          "metadata": {},
          "execution_count": 100
        }
      ]
    },
    {
      "cell_type": "code",
      "source": [
        "# set() 활용\n",
        "# 튜플 넣어보기\n",
        "a = set((11, 13, 15))\n",
        "a"
      ],
      "metadata": {
        "colab": {
          "base_uri": "https://localhost:8080/"
        },
        "id": "D8phZ-pxMGdT",
        "outputId": "08c94009-c2ba-458f-f3c8-5f32dc33c306"
      },
      "execution_count": 101,
      "outputs": [
        {
          "output_type": "execute_result",
          "data": {
            "text/plain": [
              "{11, 13, 15}"
            ]
          },
          "metadata": {},
          "execution_count": 101
        }
      ]
    },
    {
      "cell_type": "code",
      "source": [
        "# set() 활용\n",
        "# 딕셔너리 넣어보기\n",
        "a = set({'name':'규봉이', 'breed':'진돗개', 'color':'brown'})\n",
        "a\n",
        "\n",
        "#key만 집합의 요소가 되어 나옴"
      ],
      "metadata": {
        "colab": {
          "base_uri": "https://localhost:8080/"
        },
        "id": "tLm1fdvZMJpc",
        "outputId": "70d6fede-1517-4b62-818c-3624e9acbe70"
      },
      "execution_count": 102,
      "outputs": [
        {
          "output_type": "execute_result",
          "data": {
            "text/plain": [
              "{'breed', 'color', 'name'}"
            ]
          },
          "metadata": {},
          "execution_count": 102
        }
      ]
    },
    {
      "cell_type": "markdown",
      "source": [
        "(2) 집합 연산\n",
        "\n",
        "합집합 | unoion()  두 집합의 모든 원소\n",
        "\n",
        "교집합 & intersection()  두 집합에 모두 있는 원소\n",
        "\n",
        "차집합 - difference()  왼쪽 집합 원소 중 오른쪽 집합 원소를 뺀 것\n",
        "\n",
        "배타적 차집합 ^ symmetric_difference()  한쪽 집합에만 있는 원소의 합"
      ],
      "metadata": {
        "id": "YOuiFOGjMU1l"
      }
    },
    {
      "cell_type": "code",
      "source": [
        "a = {2, 4, 6, 8, 10, 12}  # 2의 배수\n",
        "b = {3, 6, 9, 12, 15}     # 3의 배수"
      ],
      "metadata": {
        "id": "JXtj5y3JM4ZN"
      },
      "execution_count": 103,
      "outputs": []
    },
    {
      "cell_type": "code",
      "source": [
        "# 합집합 기호\n",
        "a|b"
      ],
      "metadata": {
        "colab": {
          "base_uri": "https://localhost:8080/"
        },
        "id": "RF45wFCDM6wK",
        "outputId": "480c5abb-ae57-4d18-9435-ceefeb4f8cfa"
      },
      "execution_count": 104,
      "outputs": [
        {
          "output_type": "execute_result",
          "data": {
            "text/plain": [
              "{2, 3, 4, 6, 8, 9, 10, 12, 15}"
            ]
          },
          "metadata": {},
          "execution_count": 104
        }
      ]
    },
    {
      "cell_type": "code",
      "source": [
        "# 합집합 함수\n",
        "a.union(b)"
      ],
      "metadata": {
        "colab": {
          "base_uri": "https://localhost:8080/"
        },
        "id": "bewy1G3dM991",
        "outputId": "a032cbfa-7009-467d-a316-0a0c54c543cd"
      },
      "execution_count": 105,
      "outputs": [
        {
          "output_type": "execute_result",
          "data": {
            "text/plain": [
              "{2, 3, 4, 6, 8, 9, 10, 12, 15}"
            ]
          },
          "metadata": {},
          "execution_count": 105
        }
      ]
    },
    {
      "cell_type": "code",
      "source": [
        "# 교집합 기호\n",
        "a&b"
      ],
      "metadata": {
        "colab": {
          "base_uri": "https://localhost:8080/"
        },
        "id": "jhZmccseNADb",
        "outputId": "a54db07a-0e23-4663-d097-49c002d75c46"
      },
      "execution_count": 106,
      "outputs": [
        {
          "output_type": "execute_result",
          "data": {
            "text/plain": [
              "{6, 12}"
            ]
          },
          "metadata": {},
          "execution_count": 106
        }
      ]
    },
    {
      "cell_type": "code",
      "source": [
        "# 교집합 함수\n",
        "a.intersection(b)"
      ],
      "metadata": {
        "colab": {
          "base_uri": "https://localhost:8080/"
        },
        "id": "2OgEOj_hNB22",
        "outputId": "e0121e44-dfa4-4844-e947-de92fc9fe34f"
      },
      "execution_count": 107,
      "outputs": [
        {
          "output_type": "execute_result",
          "data": {
            "text/plain": [
              "{6, 12}"
            ]
          },
          "metadata": {},
          "execution_count": 107
        }
      ]
    },
    {
      "cell_type": "code",
      "source": [
        "# 차집합 기호\n",
        "a-b"
      ],
      "metadata": {
        "colab": {
          "base_uri": "https://localhost:8080/"
        },
        "id": "JK07z9c8NDny",
        "outputId": "fa857f8f-8cde-4586-daa0-41c566391ee5"
      },
      "execution_count": 108,
      "outputs": [
        {
          "output_type": "execute_result",
          "data": {
            "text/plain": [
              "{2, 4, 8, 10}"
            ]
          },
          "metadata": {},
          "execution_count": 108
        }
      ]
    },
    {
      "cell_type": "code",
      "source": [
        "# 차집합 함수\n",
        "a.difference(b)"
      ],
      "metadata": {
        "colab": {
          "base_uri": "https://localhost:8080/"
        },
        "id": "yzORSKn9NF2b",
        "outputId": "11f3118a-0ac9-49c8-8663-5b70547d6252"
      },
      "execution_count": 109,
      "outputs": [
        {
          "output_type": "execute_result",
          "data": {
            "text/plain": [
              "{2, 4, 8, 10}"
            ]
          },
          "metadata": {},
          "execution_count": 109
        }
      ]
    },
    {
      "cell_type": "code",
      "source": [
        "# 배타적 차집합 기호\n",
        "a^b"
      ],
      "metadata": {
        "colab": {
          "base_uri": "https://localhost:8080/"
        },
        "id": "vqHUcKzDNHjv",
        "outputId": "f54a3eba-87db-4561-e64e-e14adf937b52"
      },
      "execution_count": 110,
      "outputs": [
        {
          "output_type": "execute_result",
          "data": {
            "text/plain": [
              "{2, 3, 4, 8, 9, 10, 15}"
            ]
          },
          "metadata": {},
          "execution_count": 110
        }
      ]
    },
    {
      "cell_type": "code",
      "source": [
        "# 배타적 차집합 함수\n",
        "a.symmetric_difference(b)"
      ],
      "metadata": {
        "colab": {
          "base_uri": "https://localhost:8080/"
        },
        "id": "C8OG073zNJmp",
        "outputId": "13bce1bf-892c-474d-bf15-0cf91ba4e8f0"
      },
      "execution_count": 111,
      "outputs": [
        {
          "output_type": "execute_result",
          "data": {
            "text/plain": [
              "{2, 3, 4, 8, 9, 10, 15}"
            ]
          },
          "metadata": {},
          "execution_count": 111
        }
      ]
    },
    {
      "cell_type": "markdown",
      "source": [
        "(3) 집합 관련 함수\n",
        "\n",
        "add() : 원소 한 개 추가하기\n",
        "\n",
        "update() : 원소 여러 개 추가하기\n",
        "\n",
        "remove() : 특정 값 한 개 제거하기"
      ],
      "metadata": {
        "id": "A_C5jkpmNMdO"
      }
    },
    {
      "cell_type": "code",
      "source": [
        "# add()\n",
        "a = {1, 2, 3}\n",
        "a.add('넷')\n",
        "a"
      ],
      "metadata": {
        "colab": {
          "base_uri": "https://localhost:8080/"
        },
        "id": "J9LjGaB9NQOT",
        "outputId": "d01ea282-cd3e-43f1-9c42-abbefc3e0ef1"
      },
      "execution_count": 112,
      "outputs": [
        {
          "output_type": "execute_result",
          "data": {
            "text/plain": [
              "{1, 2, 3, '넷'}"
            ]
          },
          "metadata": {},
          "execution_count": 112
        }
      ]
    },
    {
      "cell_type": "code",
      "source": [
        "# udate()\n",
        "a = set([6, 5, 4])\n",
        "a.update({1, 3, 2})\n",
        "a"
      ],
      "metadata": {
        "colab": {
          "base_uri": "https://localhost:8080/"
        },
        "id": "2XvtY6dXNSMY",
        "outputId": "496912be-ab40-4e66-f8a1-319e7a7e2aed"
      },
      "execution_count": 113,
      "outputs": [
        {
          "output_type": "execute_result",
          "data": {
            "text/plain": [
              "{1, 2, 3, 4, 5, 6}"
            ]
          },
          "metadata": {},
          "execution_count": 113
        }
      ]
    },
    {
      "cell_type": "code",
      "source": [
        "# remove()\n",
        "a = {1, 2, 3, 4, 5, 6}\n",
        "a.remove(2)\n",
        "a"
      ],
      "metadata": {
        "colab": {
          "base_uri": "https://localhost:8080/"
        },
        "id": "jaOKokR6NUD0",
        "outputId": "bd752fa7-eeb7-4695-9079-fc408b62d573"
      },
      "execution_count": 114,
      "outputs": [
        {
          "output_type": "execute_result",
          "data": {
            "text/plain": [
              "{1, 3, 4, 5, 6}"
            ]
          },
          "metadata": {},
          "execution_count": 114
        }
      ]
    },
    {
      "cell_type": "markdown",
      "source": [
        "# 8-5. 불(bool) 자료형 (자료형 (3))"
      ],
      "metadata": {
        "id": "LaXczKXVNYoL"
      }
    },
    {
      "cell_type": "markdown",
      "source": [
        "(1) 불(bool)이란?\n",
        "\n",
        "불린(boolean)의 약자로 불(bool)로 부르기도 한다.\n",
        "\n",
        "불(bool) 자료형은 참(True)와 거짓(False) 딱 두 가지 상태만을 표현하는 타입\n",
        "\n",
        "True, False의 첫 자가 대문자임을 유의해야 하며, true, false 소문자로 적으면 불 자료형이 아님.\n",
        "\n",
        "조건문의 반환 값으로도 사용됨.\n",
        "\n",
        "https://docs.python.org/3/library/stdtypes.html#"
      ],
      "metadata": {
        "id": "BtelWWV6Nc43"
      }
    },
    {
      "cell_type": "code",
      "source": [
        "# type 확인해보기\n",
        "a = True\n",
        "type(a)"
      ],
      "metadata": {
        "colab": {
          "base_uri": "https://localhost:8080/"
        },
        "id": "CTaqr-L1NlxT",
        "outputId": "570abc7f-ca75-4061-f78d-4449f3983620"
      },
      "execution_count": 115,
      "outputs": [
        {
          "output_type": "execute_result",
          "data": {
            "text/plain": [
              "bool"
            ]
          },
          "metadata": {},
          "execution_count": 115
        }
      ]
    },
    {
      "cell_type": "code",
      "source": [
        "# 따옴표로 감싸지 않은 문자열을 변수에 할당해서 오류가 발생할 것 같지만. 불 자료형으로 인식하기 때문에 잘 실행됩니다.\n",
        "\n",
        "# 소문자로 적은 true 확인해보기\n",
        "# b = true\n",
        "# type(b)   틀린 함수임"
      ],
      "metadata": {
        "id": "ZvKNuCfINoWX"
      },
      "execution_count": 116,
      "outputs": []
    },
    {
      "cell_type": "code",
      "source": [
        "# 5가 4보다 큰지 물어보는 조건문이다.\n",
        "5 > 4"
      ],
      "metadata": {
        "colab": {
          "base_uri": "https://localhost:8080/"
        },
        "id": "ZP644BR7N4tU",
        "outputId": "b0add0b1-9bd0-40c3-8e0d-c6eac308da1a"
      },
      "execution_count": 117,
      "outputs": [
        {
          "output_type": "execute_result",
          "data": {
            "text/plain": [
              "True"
            ]
          },
          "metadata": {},
          "execution_count": 117
        }
      ]
    },
    {
      "cell_type": "markdown",
      "source": [
        "(2) 자료형의 참과 거짓\n",
        "\n",
        "파이썬 자료형은 참과 거짓이 분명하게 있음.\n",
        "\n",
        "불 타입을 확인할 때는 bool() 함수를 이용해서 할 수 있음."
      ],
      "metadata": {
        "id": "XCitiqjnN9Ok"
      }
    },
    {
      "cell_type": "code",
      "source": [
        "# 자료형 불 타입 확인해보기\n",
        "bool(0.0)"
      ],
      "metadata": {
        "colab": {
          "base_uri": "https://localhost:8080/"
        },
        "id": "n9ePNIQHN7RC",
        "outputId": "37171470-1ccd-41a7-bd21-bc766f59292a"
      },
      "execution_count": 118,
      "outputs": [
        {
          "output_type": "execute_result",
          "data": {
            "text/plain": [
              "False"
            ]
          },
          "metadata": {},
          "execution_count": 118
        }
      ]
    },
    {
      "cell_type": "code",
      "source": [
        "# 스스로 확인해보고 싶은 자료형 불 타입 확인해보기\n",
        "bool()"
      ],
      "metadata": {
        "colab": {
          "base_uri": "https://localhost:8080/"
        },
        "id": "-eY4wKBUOzp8",
        "outputId": "e2c145dc-78c7-407b-91d4-89beef8c3e29"
      },
      "execution_count": 119,
      "outputs": [
        {
          "output_type": "execute_result",
          "data": {
            "text/plain": [
              "False"
            ]
          },
          "metadata": {},
          "execution_count": 119
        }
      ]
    },
    {
      "cell_type": "markdown",
      "source": [
        "# 8-6. 변수 (자료형 (3))"
      ],
      "metadata": {
        "id": "UOMzoqufPCz1"
      }
    },
    {
      "cell_type": "markdown",
      "source": [
        "(1) 변수란?\n",
        "\n",
        "우리는 이때까지 자료형을 공부하면서 이미 변수를 사용해 왔는데, 이번에는 변수를 중심으로 알아보는 section.\n",
        "\n",
        "변수를 만들 때는 =(assignment) 기호를 사용함.\n",
        "\n",
        "변수명 = 변수에 저장할 값"
      ],
      "metadata": {
        "id": "q56hJOA6PNu8"
      }
    },
    {
      "cell_type": "code",
      "source": [
        "#  변수명 = 변수에 저장할 값\n",
        "aiffel = 'modu'"
      ],
      "metadata": {
        "id": "M1R5sSTcPW4M"
      },
      "execution_count": 120,
      "outputs": []
    },
    {
      "cell_type": "markdown",
      "source": [
        "(2) 변수명의 규칙\n",
        "\n",
        "영문자(대, 소문자 구분), 숫자, 언더바(_)만 사용 가능\n",
        "\n",
        "첫 자리에는 숫자를 사용할 수 없으며, 예약어(파이썬 키워드)는 변수명으로 사용할 없음."
      ],
      "metadata": {
        "id": "0e22qOnDPbUf"
      }
    },
    {
      "cell_type": "code",
      "source": [
        "# 영문자(대, 소문자 구분), 숫자, 언더바(_)만 사용 가능\n",
        "List_01 = [1, 3, 5]\n",
        "list_01 = [2, 4, 6]\n",
        "\n",
        "List_01"
      ],
      "metadata": {
        "colab": {
          "base_uri": "https://localhost:8080/"
        },
        "id": "r008sRElPgkW",
        "outputId": "5a1029f3-8641-4ce0-902c-263d9fcda7cd"
      },
      "execution_count": 121,
      "outputs": [
        {
          "output_type": "execute_result",
          "data": {
            "text/plain": [
              "[1, 3, 5]"
            ]
          },
          "metadata": {},
          "execution_count": 121
        }
      ]
    },
    {
      "cell_type": "code",
      "source": [
        "list_01"
      ],
      "metadata": {
        "colab": {
          "base_uri": "https://localhost:8080/"
        },
        "id": "TqBon5skPiYm",
        "outputId": "f53ef3df-ae0f-4e85-c1ba-95ccfa2cc66f"
      },
      "execution_count": 122,
      "outputs": [
        {
          "output_type": "execute_result",
          "data": {
            "text/plain": [
              "[2, 4, 6]"
            ]
          },
          "metadata": {},
          "execution_count": 122
        }
      ]
    },
    {
      "cell_type": "code",
      "source": [
        "# 첫 자리에는 숫자를 사용할 수 없다.\n",
        "# 주석을 풀어서 확인해보기\n",
        "# 첫 자리에는 숫자를 사용할 수 없다.\n",
        "# 주석을 풀어서 확인해보기\n",
        "# 00dic = {1:11, 2:22}\n",
        "# 00dic\n",
        "_00dic = {1:11, 2:22}\n",
        "_00dic"
      ],
      "metadata": {
        "colab": {
          "base_uri": "https://localhost:8080/"
        },
        "id": "1iReGkriPnPC",
        "outputId": "d899bb66-3342-4e43-cade-1567b2ee7296"
      },
      "execution_count": 123,
      "outputs": [
        {
          "output_type": "execute_result",
          "data": {
            "text/plain": [
              "{1: 11, 2: 22}"
            ]
          },
          "metadata": {},
          "execution_count": 123
        }
      ]
    },
    {
      "cell_type": "code",
      "source": [
        "# 예약어(파이썬 키워드)는 변수명으로 사용할 수 없다.\n",
        "# 주석을 풀어서 확인해보기\n",
        "# True = set(\"aiffel\")\n",
        "# True\n",
        "# True는 예약어이므로, 코드가 작동안함."
      ],
      "metadata": {
        "id": "1Z0HY4lbPyQO"
      },
      "execution_count": 124,
      "outputs": []
    },
    {
      "cell_type": "markdown",
      "source": [
        "(3) 변수를 만드는 여러 가지 방법"
      ],
      "metadata": {
        "id": "Lww2iWmYQIQ6"
      }
    },
    {
      "cell_type": "code",
      "source": [
        "# 아무 괄호가 없다면 => 튜플\n",
        "# 튜플로 변수에 값을 할당할 수 있다.\n",
        "a, b, c = 11, 22, 33\n",
        "b"
      ],
      "metadata": {
        "colab": {
          "base_uri": "https://localhost:8080/"
        },
        "id": "UCGqUO4sQVuH",
        "outputId": "c46a04c8-acf8-46f3-a863-83bf5ac8b92b"
      },
      "execution_count": 125,
      "outputs": [
        {
          "output_type": "execute_result",
          "data": {
            "text/plain": [
              "22"
            ]
          },
          "metadata": {},
          "execution_count": 125
        }
      ]
    },
    {
      "cell_type": "code",
      "source": [
        "# 리스트로도 가능\n",
        "[d, e] = ['Hello', 'world']\n",
        "d"
      ],
      "metadata": {
        "colab": {
          "base_uri": "https://localhost:8080/",
          "height": 36
        },
        "id": "usaDWTRUQXQk",
        "outputId": "49472ad7-24b2-4e66-c02a-39b6f2ea3b43"
      },
      "execution_count": 126,
      "outputs": [
        {
          "output_type": "execute_result",
          "data": {
            "text/plain": [
              "'Hello'"
            ],
            "application/vnd.google.colaboratory.intrinsic+json": {
              "type": "string"
            }
          },
          "metadata": {},
          "execution_count": 126
        }
      ]
    },
    {
      "cell_type": "code",
      "source": [
        "# 여러 개의 변수에 같은 값을 할당할 수 있다.\n",
        "f = g =  True\n",
        "f"
      ],
      "metadata": {
        "colab": {
          "base_uri": "https://localhost:8080/"
        },
        "id": "7crTSUyRQaIS",
        "outputId": "5b33c584-dce0-4dd1-b29e-062ee368723d"
      },
      "execution_count": 127,
      "outputs": [
        {
          "output_type": "execute_result",
          "data": {
            "text/plain": [
              "True"
            ]
          },
          "metadata": {},
          "execution_count": 127
        }
      ]
    },
    {
      "cell_type": "code",
      "source": [
        "# 위의 방법을 사용해서 두 변수의 값을 간단히 바꿀 수 있다.\n",
        "a = 'Hello, python world'\n",
        "b = 10\n",
        "a, b = b, a  # 읽고 이해할 수 있는 지 스스로 생각해보기\n",
        "a, b"
      ],
      "metadata": {
        "colab": {
          "base_uri": "https://localhost:8080/"
        },
        "id": "9S_h-d3TQbEF",
        "outputId": "a1ea9e9f-f79d-42d5-fbd6-3b97c9fb0e05"
      },
      "execution_count": 128,
      "outputs": [
        {
          "output_type": "execute_result",
          "data": {
            "text/plain": [
              "(10, 'Hello, python world')"
            ]
          },
          "metadata": {},
          "execution_count": 128
        }
      ]
    },
    {
      "cell_type": "markdown",
      "source": [
        "# 9-2. 연산자 (조건문)"
      ],
      "metadata": {
        "id": "iiQm_rMXQp-x"
      }
    },
    {
      "cell_type": "markdown",
      "source": [
        "(1) 비교 연산자\n",
        "\n",
        "조건식에서는 주로 변수값을 비교하는 문장이 오며, 변수가 특정 값인지 평가함.\n",
        "\n",
        "이때 비교 연산자는 두 값의 상등 여부나 대소관계를 비교하게 됨.\n",
        "\n",
        "그래서 두 연산자를 비교하는 비교연산자를 알아야함."
      ],
      "metadata": {
        "id": "Zv4ukn2oQ0A4"
      }
    },
    {
      "cell_type": "code",
      "source": [
        "# =기호는 대입 연산자 이고, ==는 비교 연산자 임.\n",
        "# ==는 좌변, 우변이 같으면 True를 리턴하고 다르면 False를 리턴합니다.\n",
        "8 == 9"
      ],
      "metadata": {
        "colab": {
          "base_uri": "https://localhost:8080/"
        },
        "id": "2HiiwK-ZQxed",
        "outputId": "fb81abca-0023-40a7-b781-d02ce1f36aa8"
      },
      "execution_count": 129,
      "outputs": [
        {
          "output_type": "execute_result",
          "data": {
            "text/plain": [
              "False"
            ]
          },
          "metadata": {},
          "execution_count": 129
        }
      ]
    },
    {
      "cell_type": "code",
      "source": [
        "# != 같지 않다\n",
        "8 != 9"
      ],
      "metadata": {
        "colab": {
          "base_uri": "https://localhost:8080/"
        },
        "id": "tmk1aRYPRUkS",
        "outputId": "823ce98d-77dc-4a94-ef5f-7bcd4e6a6a46"
      },
      "execution_count": 130,
      "outputs": [
        {
          "output_type": "execute_result",
          "data": {
            "text/plain": [
              "True"
            ]
          },
          "metadata": {},
          "execution_count": 130
        }
      ]
    },
    {
      "cell_type": "code",
      "source": [
        "# =!\n",
        "# 순서가 바껴도 코드가 돌아갈지 확인해봅시다.\n",
        "# 8 =! 9\n",
        "# 코드 작동안함"
      ],
      "metadata": {
        "id": "fPTkpRvpRad4"
      },
      "execution_count": 131,
      "outputs": []
    },
    {
      "cell_type": "markdown",
      "source": [
        "(2) 논리 연산자\n",
        "\n",
        "두 개 이상의 조건을 점검할 때는 논리 연산자를 사용해봄."
      ],
      "metadata": {
        "id": "sDI484rmRoZG"
      }
    },
    {
      "cell_type": "code",
      "source": [
        "# True and True 일 때\n",
        "3 >= 1 and 3 >= 2"
      ],
      "metadata": {
        "colab": {
          "base_uri": "https://localhost:8080/"
        },
        "id": "HnAAc_GURkWV",
        "outputId": "4899fa83-e014-4c48-efba-4fb938e075a4"
      },
      "execution_count": 132,
      "outputs": [
        {
          "output_type": "execute_result",
          "data": {
            "text/plain": [
              "True"
            ]
          },
          "metadata": {},
          "execution_count": 132
        }
      ]
    },
    {
      "cell_type": "code",
      "source": [
        "# False and True 일 때\n",
        "3 >= 1 and 3 >= 4"
      ],
      "metadata": {
        "colab": {
          "base_uri": "https://localhost:8080/"
        },
        "id": "S5xY15xeRyJH",
        "outputId": "20d34ce4-b85e-46b8-fca1-362743ad60f6"
      },
      "execution_count": 133,
      "outputs": [
        {
          "output_type": "execute_result",
          "data": {
            "text/plain": [
              "False"
            ]
          },
          "metadata": {},
          "execution_count": 133
        }
      ]
    },
    {
      "cell_type": "code",
      "source": [
        "# False and True 일 때\n",
        "3 >= 1 and 3 >= 4"
      ],
      "metadata": {
        "colab": {
          "base_uri": "https://localhost:8080/"
        },
        "id": "yHbZ8UO1R0Yr",
        "outputId": "2f7023bf-8501-41a8-8286-b84d4fc3d51b"
      },
      "execution_count": 134,
      "outputs": [
        {
          "output_type": "execute_result",
          "data": {
            "text/plain": [
              "False"
            ]
          },
          "metadata": {},
          "execution_count": 134
        }
      ]
    },
    {
      "cell_type": "code",
      "source": [
        "# not True -> False\n",
        "not 3 > 1"
      ],
      "metadata": {
        "colab": {
          "base_uri": "https://localhost:8080/"
        },
        "id": "6l17rMkXR1-J",
        "outputId": "c8fdcbf1-f2ed-4089-eb73-cb0547abd011"
      },
      "execution_count": 135,
      "outputs": [
        {
          "output_type": "execute_result",
          "data": {
            "text/plain": [
              "False"
            ]
          },
          "metadata": {},
          "execution_count": 135
        }
      ]
    },
    {
      "cell_type": "code",
      "source": [
        "# not False -> True\n",
        "not 3 > 5"
      ],
      "metadata": {
        "colab": {
          "base_uri": "https://localhost:8080/"
        },
        "id": "IF2k20viR4Fg",
        "outputId": "c714f790-524c-46fc-aa86-02f01c7d3b60"
      },
      "execution_count": 136,
      "outputs": [
        {
          "output_type": "execute_result",
          "data": {
            "text/plain": [
              "True"
            ]
          },
          "metadata": {},
          "execution_count": 136
        }
      ]
    },
    {
      "cell_type": "markdown",
      "source": [
        "(3) 기타 연산자"
      ],
      "metadata": {
        "id": "-RHUlnNRR7ip"
      }
    },
    {
      "cell_type": "code",
      "source": [
        "# 리스트 확인해보기\n",
        "1 in [1, 3, 5, 7, 9]  # 번역 : [1, 3, 5, 7, 9] 안에 1이 있는가?"
      ],
      "metadata": {
        "colab": {
          "base_uri": "https://localhost:8080/"
        },
        "id": "DGiUlJPmSCtm",
        "outputId": "ce966345-1725-465b-f5b4-72815a2ac680"
      },
      "execution_count": 137,
      "outputs": [
        {
          "output_type": "execute_result",
          "data": {
            "text/plain": [
              "True"
            ]
          },
          "metadata": {},
          "execution_count": 137
        }
      ]
    },
    {
      "cell_type": "code",
      "source": [
        "1 not in [1, 3, 5, 7, 9]  # 번역 : [1, 3, 5, 7, 9] 안에 1이 있는가?"
      ],
      "metadata": {
        "colab": {
          "base_uri": "https://localhost:8080/"
        },
        "id": "XTfzXheGSFMH",
        "outputId": "4909b215-3411-4602-faf7-5aafd24cbe05"
      },
      "execution_count": 138,
      "outputs": [
        {
          "output_type": "execute_result",
          "data": {
            "text/plain": [
              "False"
            ]
          },
          "metadata": {},
          "execution_count": 138
        }
      ]
    },
    {
      "cell_type": "code",
      "source": [
        "# 튜플 확인해보기\n",
        "'a' not in ('a', 'i', 'f', 'f', 'e', 'l')"
      ],
      "metadata": {
        "colab": {
          "base_uri": "https://localhost:8080/"
        },
        "id": "lIudWKrhSIFw",
        "outputId": "50697639-c831-4900-d90c-86e4a853131c"
      },
      "execution_count": 139,
      "outputs": [
        {
          "output_type": "execute_result",
          "data": {
            "text/plain": [
              "False"
            ]
          },
          "metadata": {},
          "execution_count": 139
        }
      ]
    },
    {
      "cell_type": "code",
      "source": [
        "# 문자열 확인해보기\n",
        "'y' in 'python'"
      ],
      "metadata": {
        "colab": {
          "base_uri": "https://localhost:8080/"
        },
        "id": "iDjrrxykSJfg",
        "outputId": "3edd0742-9d79-4138-85d5-02e38f68a990"
      },
      "execution_count": 140,
      "outputs": [
        {
          "output_type": "execute_result",
          "data": {
            "text/plain": [
              "True"
            ]
          },
          "metadata": {},
          "execution_count": 140
        }
      ]
    },
    {
      "cell_type": "markdown",
      "source": [
        "# 9-3. if 조건문 (조건문)"
      ],
      "metadata": {
        "id": "hBJu2LkNSNIr"
      }
    },
    {
      "cell_type": "markdown",
      "source": [
        "(1) if문 기본 구조\n",
        "\n",
        "if문은 조건의 진위 여부에 따라 포함된 문장의 수행 여부를 제어함.   기본구조는 아래와 같음.\n",
        "\n",
        "if 조건:\n",
        "    수행할 문장\n",
        "\n",
        "제일 앞에 키워드 if를 쓰고 점검할 조건과 콜론을 찍고, 그 다음 줄에 tab 또는 스페이스 4번을 띄어쓰고, 조건이 참일 때 수행할 문장을 작성.\n",
        "\n",
        "조건이 거짓이면 수행할 문장을 무시하고 지나치게 됨."
      ],
      "metadata": {
        "id": "kjEcEi2ISVTB"
      }
    },
    {
      "cell_type": "code",
      "source": [
        "# 0이 아닌 숫자는 True\n",
        "if 1:\n",
        "    print('조건이 참이니까 출력')"
      ],
      "metadata": {
        "colab": {
          "base_uri": "https://localhost:8080/"
        },
        "id": "cQ4haf_TSSYd",
        "outputId": "84ec20bb-f801-4abd-f837-9a183688b693"
      },
      "execution_count": 141,
      "outputs": [
        {
          "output_type": "stream",
          "name": "stdout",
          "text": [
            "조건이 참이니까 출력\n"
          ]
        }
      ]
    },
    {
      "cell_type": "code",
      "source": [
        "# 0은 False\n",
        "if 0:\n",
        "    print('과연 이건 출력이 될 것인가')\n",
        "\n",
        "# 출력안됨"
      ],
      "metadata": {
        "id": "hMfxg3OUShhg"
      },
      "execution_count": 142,
      "outputs": []
    },
    {
      "cell_type": "markdown",
      "source": [
        "(2) 블럭 구조\n",
        "\n",
        "조건이 참일 때, 수행할 문장이 2개 이상일 때 아래에 명령을 나열합니다.\n",
        "\n",
        "if 조건:\n",
        "\n",
        "    수행할 문장1\n",
        "\n",
        "    수행할 문장2\n",
        "\n",
        "    수행할 문장3\n",
        "\n",
        "   \n",
        "이 처럼 들여쓰기는 맞춰서 쓴 구조를 블럭 구조라고 함"
      ],
      "metadata": {
        "id": "ZoVhL9AxSmv2"
      }
    },
    {
      "cell_type": "code",
      "source": [
        "# 블럭 구조 if문 예시\n",
        "num = 10\n",
        "if num > 5:\n",
        "    print('num는')\n",
        "    print('5보다')\n",
        "    print('큽니다.')"
      ],
      "metadata": {
        "colab": {
          "base_uri": "https://localhost:8080/"
        },
        "id": "WHlETAM4SwE7",
        "outputId": "aad15fd2-a542-4ccf-b68f-f86ae850f795"
      },
      "execution_count": 143,
      "outputs": [
        {
          "output_type": "stream",
          "name": "stdout",
          "text": [
            "num는\n",
            "5보다\n",
            "큽니다.\n"
          ]
        }
      ]
    },
    {
      "cell_type": "code",
      "source": [
        "# 블럭 구조를 지키 않았을 때를 확인해보자\n",
        "# num = 10\n",
        "# if num > 5:\n",
        "#     print('num는')\n",
        "# print('5보다')\n",
        "#     print('큽니다.')\n",
        "\n",
        "# 코드 작동 안함"
      ],
      "metadata": {
        "id": "G9eYBgS1S7aH"
      },
      "execution_count": 144,
      "outputs": []
    },
    {
      "cell_type": "markdown",
      "source": [
        "(3) if문 예시"
      ],
      "metadata": {
        "id": "AkwFfFopTHaI"
      }
    },
    {
      "cell_type": "code",
      "source": [
        "# if문 예시\n",
        "a = 7\n",
        "if a == 7:\n",
        "    print(\"Lucky!\")"
      ],
      "metadata": {
        "colab": {
          "base_uri": "https://localhost:8080/"
        },
        "id": "IRxXQ7hITJ9f",
        "outputId": "91f7d27e-56f0-4105-feab-dbc84320b71d"
      },
      "execution_count": 145,
      "outputs": [
        {
          "output_type": "stream",
          "name": "stdout",
          "text": [
            "Lucky!\n"
          ]
        }
      ]
    },
    {
      "cell_type": "markdown",
      "source": [
        "# 9-4. else 사용하기 (조건문)"
      ],
      "metadata": {
        "id": "APuSwWyGTM73"
      }
    },
    {
      "cell_type": "markdown",
      "source": [
        "(1) else문\n",
        "\n",
        "if문 예시\n",
        "\n",
        "a = 7\n",
        "\n",
        "if a == 7:\n",
        "\n",
        "    print(\"Lucky!\")\n",
        "\n",
        "위의 단순한 if문은 참일때 문장을 수행하고 거짓이면 아무것도 하지 않았음.\n",
        "\n",
        "이번에 배울 else문을 활용하면 조건문이 거짓일 때 다른 문장을 수행할 수 있음.\n",
        "\n",
        "(2) else문 블럭 구조\n",
        "\n",
        "else문 블럭 구조는 if문과 동일하나, 단, if문 이후에 쓰여야 작동한다는 것만 주의하면 됨.\n",
        "\n",
        "if 조건:\n",
        "\n",
        "    수행할 문장1\n",
        "\n",
        "    수행할 문장2\n",
        "\n",
        "else:\n",
        "\n",
        "    수행할 문장3\n",
        "\n",
        "    수행할 문장4\n",
        "\n",
        "(3) if else문 예시\n",
        "내 점수는 90점이고 점수가 65점 이상이면 합격,\n",
        "미만이면 불합격이라는 단어를 출력하는 코드를 함께 확인하는 코드"
      ],
      "metadata": {
        "id": "qF94tqK4TVDM"
      }
    },
    {
      "cell_type": "code",
      "source": [
        "# if else문 예시\n",
        "score = 90\n",
        "if score >= 65:\n",
        "    print('합격')\n",
        "else:\n",
        "    print('불합격')"
      ],
      "metadata": {
        "colab": {
          "base_uri": "https://localhost:8080/"
        },
        "id": "_FiXusAzTRex",
        "outputId": "d32cb7d2-137b-48e1-e18d-ac6333deeb56"
      },
      "execution_count": 146,
      "outputs": [
        {
          "output_type": "stream",
          "name": "stdout",
          "text": [
            "합격\n"
          ]
        }
      ]
    },
    {
      "cell_type": "markdown",
      "source": [
        "# 9-5. elif 사용하기 (조건문)"
      ],
      "metadata": {
        "id": "FFyoeBnET3AY"
      }
    },
    {
      "cell_type": "markdown",
      "source": [
        "(1) elif문\n",
        "\n",
        "if else문을 더 확장하면 elif문이 중간에 들어감.\n",
        "\n",
        "if문의 조건을 만족하지 않을 때 elif문의 다른 세부 조건을 점검할 수 있음.\n",
        "\n",
        "if 조건_1:\n",
        "\n",
        "    수행할 문장1\n",
        "\n",
        "    수행할 문장2\n",
        "\n",
        "elif 조건_2:\n",
        "\n",
        "    수행할 문장3\n",
        "\n",
        "    수행할 문장4    \n",
        "\n",
        "else:\n",
        "\n",
        "    수행할 문장5\n",
        "\n",
        "    수행할 문장6\n",
        "\n",
        "구조는 이때까지 본 것과 동일하니, 순서에만 유의!\n",
        "\n",
        "if → elif → else"
      ],
      "metadata": {
        "id": "nb47MnUxT64M"
      }
    },
    {
      "cell_type": "code",
      "source": [
        "money = int(input('현재 돈이 얼마인지?'))\n",
        "if money >= 16000:\n",
        "    print('택시도 타고, 커피도 사먹는다.')\n",
        "elif money >= 12000:\n",
        "    print('커피는 포기하고 택시를 탄다.')\n",
        "elif money >= 5300:\n",
        "    print('아메리카노 사고 버스에 탄다.')\n",
        "else:\n",
        "    print('목이 마른건 참고 버스를 탄다.')"
      ],
      "metadata": {
        "colab": {
          "base_uri": "https://localhost:8080/"
        },
        "id": "CUCDXL1wUL8d",
        "outputId": "bda5820d-c2aa-4cfd-aeaa-0214d23030e8"
      },
      "execution_count": 147,
      "outputs": [
        {
          "output_type": "stream",
          "name": "stdout",
          "text": [
            "현재 돈이 얼마인지?5000\n",
            "목이 마른건 참고 버스를 탄다.\n"
          ]
        }
      ]
    },
    {
      "cell_type": "markdown",
      "source": [
        "# 9-6. 조건문 연습하기 (조건문)"
      ],
      "metadata": {
        "id": "LmItYhI0UVVC"
      }
    },
    {
      "cell_type": "markdown",
      "source": [
        "(1) if 조건문\n",
        "\n",
        "1번 문제\n",
        "자연수 x가 짝수일때만 '짝수입니다'를 출력."
      ],
      "metadata": {
        "id": "49-sw0ZbUiVK"
      }
    },
    {
      "cell_type": "code",
      "source": [
        "x = 4\n",
        "if x%2==0:  # x가 짝수인지 확인하는 조건\n",
        "    print('짝수입니다')"
      ],
      "metadata": {
        "colab": {
          "base_uri": "https://localhost:8080/"
        },
        "id": "3y8J9bUOUnQj",
        "outputId": "304445fd-4586-4274-95d2-cb60b72b27e3"
      },
      "execution_count": 148,
      "outputs": [
        {
          "output_type": "stream",
          "name": "stdout",
          "text": [
            "짝수입니다\n"
          ]
        }
      ]
    },
    {
      "cell_type": "markdown",
      "source": [
        "(2)코드에서 홀수인지 짝수인지 확인할 때 흔히 쓰이는 방법은 2로 나눴을 때 나머지를 확인하는 방법.\n",
        "\n",
        "% 연산자는 나누기를 하고 나머지만 출력하는 연산자."
      ],
      "metadata": {
        "id": "RqEaNBn9UujG"
      }
    },
    {
      "cell_type": "code",
      "source": [
        "6 % 4"
      ],
      "metadata": {
        "colab": {
          "base_uri": "https://localhost:8080/"
        },
        "id": "GfqB8nIbUrUf",
        "outputId": "cbe2fef3-a5e9-4c8f-a268-fbb73849d0ca"
      },
      "execution_count": 149,
      "outputs": [
        {
          "output_type": "execute_result",
          "data": {
            "text/plain": [
              "2"
            ]
          },
          "metadata": {},
          "execution_count": 149
        }
      ]
    },
    {
      "cell_type": "markdown",
      "source": [
        "그래서 x % 2 가 0인지 1인지를 확인하면 홀, 짝을 알 수 있음"
      ],
      "metadata": {
        "id": "fuSTNx-LU3qM"
      }
    },
    {
      "cell_type": "markdown",
      "source": [
        "(2) else 사용하기\n",
        "\n",
        "자연수 x가 짝수일 때는 '짝수입니다'를, 홀수일 때는 '홀수입니다'를 출력"
      ],
      "metadata": {
        "id": "P1iO47glU9vB"
      }
    },
    {
      "cell_type": "code",
      "source": [
        "x = 5\n",
        "if x % 2 == 0:\n",
        "    print('짝수입니다')\n",
        "else:\n",
        "    print('홀수입니다')"
      ],
      "metadata": {
        "colab": {
          "base_uri": "https://localhost:8080/"
        },
        "id": "rKJ3jeRoVEB6",
        "outputId": "4f59c0b8-c890-49cf-ca9d-f1329fdc4faa"
      },
      "execution_count": 150,
      "outputs": [
        {
          "output_type": "stream",
          "name": "stdout",
          "text": [
            "홀수입니다\n"
          ]
        }
      ]
    },
    {
      "cell_type": "markdown",
      "source": [
        "(3) elif 사용하기\n",
        "\n",
        "자연수 x가 10의 배수인지, 2 또는 5의 배수인지, 2와 5 둘 다의 배수가 아닌지 확인"
      ],
      "metadata": {
        "id": "Wnjx5mqQVMSk"
      }
    },
    {
      "cell_type": "code",
      "source": [
        "x = 7\n",
        "if x % 10 == 0:\n",
        "    print('10의 배수입니다')\n",
        "elif x%2==0 or x%5==0:\n",
        "    print('2 또는 5의 배수입니다')\n",
        "else:\n",
        "    print('2 와 5의 배수가 아닙니다.')"
      ],
      "metadata": {
        "colab": {
          "base_uri": "https://localhost:8080/"
        },
        "id": "l2IfWcR6VVEz",
        "outputId": "8bf9ac5f-88de-4761-ca5f-331f8e28901a"
      },
      "execution_count": 151,
      "outputs": [
        {
          "output_type": "stream",
          "name": "stdout",
          "text": [
            "2 와 5의 배수가 아닙니다.\n"
          ]
        }
      ]
    },
    {
      "cell_type": "markdown",
      "source": [
        "# 10-2. while 반복문 (조건문)"
      ],
      "metadata": {
        "id": "9Zq9JTB9VfPq"
      }
    },
    {
      "cell_type": "markdown",
      "source": [
        "(1) while문 기본 구조\n",
        "\n",
        "반복문은 유사한 명령을 계속 수행하는 제어문\n",
        "\n",
        "while 조건:\n",
        "\n",
        "    수행할 문장\n",
        "\n",
        "if 키워드 대신에 while을 쓰면 됨."
      ],
      "metadata": {
        "id": "QJ7uutyJVkC0"
      }
    },
    {
      "cell_type": "code",
      "source": [
        "# 1~10까지 출력하는 코드를 while문으로\n",
        "num = 1\n",
        "while num <= 10:\n",
        "    print(num)\n",
        "    num += 1"
      ],
      "metadata": {
        "colab": {
          "base_uri": "https://localhost:8080/"
        },
        "id": "cwxnY0kGVti6",
        "outputId": "74c446e1-70ae-4770-d74d-c595ec3ce857"
      },
      "execution_count": 152,
      "outputs": [
        {
          "output_type": "stream",
          "name": "stdout",
          "text": [
            "1\n",
            "2\n",
            "3\n",
            "4\n",
            "5\n",
            "6\n",
            "7\n",
            "8\n",
            "9\n",
            "10\n"
          ]
        }
      ]
    },
    {
      "cell_type": "markdown",
      "source": [
        "(2) while문 만들고 번역하기\n",
        "\n",
        "등차 수열의 합 while 문을 활용해서 1부터 10까지 더하는 코드"
      ],
      "metadata": {
        "id": "EmNUegMzVynT"
      }
    },
    {
      "cell_type": "code",
      "source": [
        "# 등차 수열의 합\n",
        "num = 1\n",
        "sum = 0\n",
        "while num <= 10:\n",
        "    sum += num\n",
        "    num += 1\n",
        "print(sum)"
      ],
      "metadata": {
        "colab": {
          "base_uri": "https://localhost:8080/"
        },
        "id": "WsMrKZ9-V2uK",
        "outputId": "bd96b0d9-640e-48f1-9087-190287df023e"
      },
      "execution_count": 153,
      "outputs": [
        {
          "output_type": "stream",
          "name": "stdout",
          "text": [
            "55\n"
          ]
        }
      ]
    },
    {
      "cell_type": "markdown",
      "source": [
        "num, sum의 변수에 먼저 숫자를 할당주었는데, 그렇지 않으면 다음에 나오는 while문에서 변수가 존재하지 않는다는 오류가 뜨게됨."
      ],
      "metadata": {
        "id": "nGBygs78V6Ih"
      }
    },
    {
      "cell_type": "markdown",
      "source": [
        "(3) while문 강제로 빠져나가기\n",
        "\n",
        "반복문은 조건을 만족하는 동안 반복문 안의 내용을 계속 실행함.\n",
        "\n",
        "하지만 중간에 반복을 중지하거나 현재 반복을 건너뛰어야 할 경우에 break를 사용함. 예를 들어, 꽈배기 10개를 준비한 상황에서 11번째 주문이 들어온다면 품절이라고 출력되어야 함."
      ],
      "metadata": {
        "id": "9Y6UJD51WEUi"
      }
    },
    {
      "cell_type": "code",
      "source": [
        "# 꽈배기 품절일 때\n",
        "korean_pretzel = 10\n",
        "while korean_pretzel:\n",
        "    print('꽈배기 ', korean_pretzel, '개 있습니다.')\n",
        "    order = int(input('주문 개수 : '))\n",
        "    korean_pretzel -= order\n",
        "    print('남은 꽈배기는 ', korean_pretzel, '개 입니다.')\n",
        "    print('*'*25)\n",
        "    if korean_pretzel <= 0:\n",
        "        print('꽈배기 품절입니다.')\n",
        "        break"
      ],
      "metadata": {
        "colab": {
          "base_uri": "https://localhost:8080/"
        },
        "id": "DGEdv9YtWKTJ",
        "outputId": "3a559b78-a673-4556-daaa-cc7a11b339cf"
      },
      "execution_count": 154,
      "outputs": [
        {
          "output_type": "stream",
          "name": "stdout",
          "text": [
            "꽈배기  10 개 있습니다.\n",
            "주문 개수 : 9\n",
            "남은 꽈배기는  1 개 입니다.\n",
            "*************************\n",
            "꽈배기  1 개 있습니다.\n",
            "주문 개수 : 4\n",
            "남은 꽈배기는  -3 개 입니다.\n",
            "*************************\n",
            "꽈배기 품절입니다.\n"
          ]
        }
      ]
    },
    {
      "cell_type": "markdown",
      "source": [
        "(4) while문과 continue\n",
        "\n",
        "break 명령은 루프를 탈출하는 데 비해 continue 명령은 이번 루프만 건너뛰고 나머지는 계속 수행 함.\n",
        "\n",
        "break는 루프를 빠져 나오는 것이고, continue는 하나만 건너 뛰고 선두로 돌아 루프를 계속 실행."
      ],
      "metadata": {
        "id": "lPQtzsgzWOtr"
      }
    },
    {
      "cell_type": "code",
      "source": [
        "# break\n",
        "a = 0\n",
        "while a < 10:\n",
        "    a += 1\n",
        "    if a % 2 ==0:\n",
        "        break\n",
        "    print(a)"
      ],
      "metadata": {
        "colab": {
          "base_uri": "https://localhost:8080/"
        },
        "id": "xIZiKuF0WAxr",
        "outputId": "8da0b52f-783d-4b37-abe5-c1cc6123d08f"
      },
      "execution_count": 155,
      "outputs": [
        {
          "output_type": "stream",
          "name": "stdout",
          "text": [
            "1\n"
          ]
        }
      ]
    },
    {
      "cell_type": "code",
      "source": [
        "# continue\n",
        "a = 0\n",
        "while a < 10:\n",
        "    a += 1\n",
        "    if a % 2 ==0:\n",
        "        continue\n",
        "    print(a)"
      ],
      "metadata": {
        "colab": {
          "base_uri": "https://localhost:8080/"
        },
        "id": "dIzfdceYWXHA",
        "outputId": "8753475b-85ee-4123-ad69-a5d631fb9354"
      },
      "execution_count": 156,
      "outputs": [
        {
          "output_type": "stream",
          "name": "stdout",
          "text": [
            "1\n",
            "3\n",
            "5\n",
            "7\n",
            "9\n"
          ]
        }
      ]
    },
    {
      "cell_type": "markdown",
      "source": [
        "(5) 무한 루프\n",
        "\n",
        "무한 루프는 반복 횟수를 정하지 않고 무한히 반복하는 루프를 뜻함.\n",
        "\n",
        "while문으로 작성하고 뒤에 배울 for문으로는 무한 루프를 만들 수 없음."
      ],
      "metadata": {
        "id": "uub9dZZih3hk"
      }
    },
    {
      "cell_type": "code",
      "source": [
        "# 주석을 풀고 무한 루프를 돌려보자\n",
        "# while True:\n",
        "    # print(\"코드 블럭 왼쪽 위에 ■을 눌러 코드 실행 중지를 눌러 주세요.\")"
      ],
      "metadata": {
        "id": "Zp67aKSih_oo"
      },
      "execution_count": 157,
      "outputs": []
    },
    {
      "cell_type": "markdown",
      "source": [
        "# 10-3. for문과 range함수 (조건문)"
      ],
      "metadata": {
        "id": "G8L5HbAAiHwK"
      }
    },
    {
      "cell_type": "markdown",
      "source": [
        "(1) for문의 기본 구조\n",
        "\n",
        "for문은 컬렉션의 요소를 순서대로 반복하면서 수행할 문장을 실행하는 반복문.\n",
        "\n",
        "컬렉션(collection) 은 여러 개의 값을 모아 놓은 집합.\n",
        "대표적인 컬렉션은 리스트, 튜플, 문자열이 있음.\n",
        "\n",
        "for문의 기본 구조\n",
        "\n",
        "for 변수 in 컬렉션:\n",
        "\n",
        "    수행할 문장\n",
        "\n",
        "이 때 변수는 i를 자주 씀.\n",
        "\n",
        "(2) for문 예시\n",
        "\n",
        "for문은 예제를 통해서 보는 것이 가장 이해가 쉬움.\n",
        "\n",
        "리스트로 반복문 만들기\n",
        "\n",
        "문자열로 반복문 만들기\n",
        "\n",
        "다양한 for문 활용"
      ],
      "metadata": {
        "id": "kRL8s6RKiLkV"
      }
    },
    {
      "cell_type": "code",
      "source": [
        "# 리스트로 반복문 만들기\n",
        "a = [1, 2, 3]\n",
        "for i in a:\n",
        "    print(i,'번 출력')"
      ],
      "metadata": {
        "colab": {
          "base_uri": "https://localhost:8080/"
        },
        "id": "UgzazZXwigG2",
        "outputId": "46c3168e-d02b-4892-8b6e-35a738418175"
      },
      "execution_count": 158,
      "outputs": [
        {
          "output_type": "stream",
          "name": "stdout",
          "text": [
            "1 번 출력\n",
            "2 번 출력\n",
            "3 번 출력\n"
          ]
        }
      ]
    },
    {
      "cell_type": "code",
      "source": [
        "# 문자열로 반복문 만들기\n",
        "a = 'aiffel'\n",
        "for i in a:\n",
        "    print(i)"
      ],
      "metadata": {
        "colab": {
          "base_uri": "https://localhost:8080/"
        },
        "id": "CdphBsjpii9V",
        "outputId": "729298cd-8da8-4112-ca11-f703f0505171"
      },
      "execution_count": 159,
      "outputs": [
        {
          "output_type": "stream",
          "name": "stdout",
          "text": [
            "a\n",
            "i\n",
            "f\n",
            "f\n",
            "e\n",
            "l\n"
          ]
        }
      ]
    },
    {
      "cell_type": "code",
      "source": [
        "# 다양한 for문 활용\n",
        "a =[('apple','사과'), ('banana', '바나나'), ('melon', '멜론')]\n",
        "for (en, ko) in a:\n",
        "    print(en, '는(은) 한국어로', ko, '입니다.')"
      ],
      "metadata": {
        "colab": {
          "base_uri": "https://localhost:8080/"
        },
        "id": "tAIX-FKximQu",
        "outputId": "89e59341-5c25-4263-98e9-9dcc7b7b3a57"
      },
      "execution_count": 160,
      "outputs": [
        {
          "output_type": "stream",
          "name": "stdout",
          "text": [
            "apple 는(은) 한국어로 사과 입니다.\n",
            "banana 는(은) 한국어로 바나나 입니다.\n",
            "melon 는(은) 한국어로 멜론 입니다.\n"
          ]
        }
      ]
    },
    {
      "cell_type": "markdown",
      "source": [
        "(3) for문과 continue\n",
        "\n",
        "for문에서도 continue를 사용할 수 있음.  (while과 동일하게 작용하기 때문)\n",
        "\n",
        "5명 학생들의 점수 데이터를 보고 60점 이상을 받아서 합격한 학생들에게만 축하 메세지를 출력해봄."
      ],
      "metadata": {
        "id": "iMtfRqc_irEI"
      }
    },
    {
      "cell_type": "code",
      "source": [
        "# for문과 continue 예시\n",
        "a = [('은정', 98), ('경애', 59), ('초희',  72), ('선영', 80), ('영미', 50)]\n",
        "for (name, score) in a:\n",
        "    if score < 60:\n",
        "        continue\n",
        "    print(name,'님 합격을 축하합니다.')"
      ],
      "metadata": {
        "colab": {
          "base_uri": "https://localhost:8080/"
        },
        "id": "6K5XKmooi6Hy",
        "outputId": "64cc444d-af52-40b0-9df2-9335c63197d2"
      },
      "execution_count": 161,
      "outputs": [
        {
          "output_type": "stream",
          "name": "stdout",
          "text": [
            "은정 님 합격을 축하합니다.\n",
            "초희 님 합격을 축하합니다.\n",
            "선영 님 합격을 축하합니다.\n"
          ]
        }
      ]
    },
    {
      "cell_type": "markdown",
      "source": [
        "(4) for문 + range함수\n",
        "\n",
        "for문은 range함수와 함께 자주 쓰임.\n",
        "\n",
        "range함수를 이용해서 간단하게 숫자들의 컬렉션을 만들 수 있기 때문에.\n",
        "\n",
        "range(시작 값, 끝 값+1, 증가 값)의 형태로 사용함.\n",
        "\n",
        "여기서 시작 값과 증가값은 생략 가능하고 그 값은 각각 자동으로 0, 1이 됨."
      ],
      "metadata": {
        "id": "_hurdRmji_R4"
      }
    },
    {
      "cell_type": "code",
      "source": [
        "# 예시\n",
        "for i in range(0,6,2):\n",
        "    print(i)"
      ],
      "metadata": {
        "colab": {
          "base_uri": "https://localhost:8080/"
        },
        "id": "IZmkjrN6uuJ9",
        "outputId": "2566de1e-37d7-4dbe-845b-c590a77111d1"
      },
      "execution_count": 162,
      "outputs": [
        {
          "output_type": "stream",
          "name": "stdout",
          "text": [
            "0\n",
            "2\n",
            "4\n"
          ]
        }
      ]
    },
    {
      "cell_type": "code",
      "source": [
        "# 증가 값 생략\n",
        "for i in range(0,6):\n",
        "    print(i)"
      ],
      "metadata": {
        "colab": {
          "base_uri": "https://localhost:8080/"
        },
        "id": "NfXJ3bawuxR_",
        "outputId": "d38462ee-7ca0-4cc2-de81-dc8d89ac537e"
      },
      "execution_count": 163,
      "outputs": [
        {
          "output_type": "stream",
          "name": "stdout",
          "text": [
            "0\n",
            "1\n",
            "2\n",
            "3\n",
            "4\n",
            "5\n"
          ]
        }
      ]
    },
    {
      "cell_type": "code",
      "source": [
        "# 증가 값, 시작 값 생략\n",
        "for i in range(6):\n",
        "    print(i)"
      ],
      "metadata": {
        "colab": {
          "base_uri": "https://localhost:8080/"
        },
        "id": "ROoicXBSu1TH",
        "outputId": "21627ed6-4248-44e8-bc68-9eb8cf77821d"
      },
      "execution_count": 164,
      "outputs": [
        {
          "output_type": "stream",
          "name": "stdout",
          "text": [
            "0\n",
            "1\n",
            "2\n",
            "3\n",
            "4\n",
            "5\n"
          ]
        }
      ]
    },
    {
      "cell_type": "code",
      "source": [
        "# 음수인 증가값과 함께 쓰면 역순으로도 가능\n",
        "for i in range(6,0,-1):\n",
        "    print(i)"
      ],
      "metadata": {
        "colab": {
          "base_uri": "https://localhost:8080/"
        },
        "id": "X_q5zHDRu4d9",
        "outputId": "a9b7276a-7922-4f76-decb-b7402c7101ab"
      },
      "execution_count": 165,
      "outputs": [
        {
          "output_type": "stream",
          "name": "stdout",
          "text": [
            "6\n",
            "5\n",
            "4\n",
            "3\n",
            "2\n",
            "1\n"
          ]
        }
      ]
    },
    {
      "cell_type": "code",
      "source": [
        "# 0까지 출력하고 싶다면 '0-1' 값을 넣어주면 됩니다.\n",
        "for i in range(6,-1,-2):\n",
        "    print(i)"
      ],
      "metadata": {
        "colab": {
          "base_uri": "https://localhost:8080/"
        },
        "id": "5VNAZPz3u7YL",
        "outputId": "38cb8db7-13be-4bfe-aaaa-92f126402a85"
      },
      "execution_count": 166,
      "outputs": [
        {
          "output_type": "stream",
          "name": "stdout",
          "text": [
            "6\n",
            "4\n",
            "2\n",
            "0\n"
          ]
        }
      ]
    },
    {
      "cell_type": "markdown",
      "source": [
        "# 11-2. 예약어(Reserved Words) (함수)"
      ],
      "metadata": {
        "id": "bQdQ25nbvHDw"
      }
    },
    {
      "cell_type": "markdown",
      "source": [
        "(1) 예약어 (Reserved Words)\n",
        "\n",
        "예약어란 단어 그대로 특정 기능을 수행하도록 미리 예약되어 있는 단어를 뜻함.\n",
        "\n",
        "여기서 중요한 것은 예약어는 절대로 변수명으로 쓰일 수 없음.\n",
        "이는 파이썬을 포함하여 어떤 언어를 배울 때도 동일한 규칙임."
      ],
      "metadata": {
        "id": "xlHrXDL-vVcr"
      }
    },
    {
      "cell_type": "code",
      "source": [
        "# 파이썬의 버전 확인하기\n",
        "!python --version"
      ],
      "metadata": {
        "colab": {
          "base_uri": "https://localhost:8080/"
        },
        "id": "C_vU58PovSnw",
        "outputId": "0ef4285c-6444-496b-af22-9f249ccefcee"
      },
      "execution_count": 167,
      "outputs": [
        {
          "output_type": "stream",
          "name": "stdout",
          "text": [
            "Python 3.11.13\n"
          ]
        }
      ]
    },
    {
      "cell_type": "code",
      "source": [
        "# 파이썬 예약어 리스트 출력하기\n",
        "import keyword\n",
        "keyword.kwlist"
      ],
      "metadata": {
        "colab": {
          "base_uri": "https://localhost:8080/"
        },
        "id": "3jYEOoIbvpb1",
        "outputId": "57e4cc19-7602-4fa2-9957-c09792cf8dbe"
      },
      "execution_count": 168,
      "outputs": [
        {
          "output_type": "execute_result",
          "data": {
            "text/plain": [
              "['False',\n",
              " 'None',\n",
              " 'True',\n",
              " 'and',\n",
              " 'as',\n",
              " 'assert',\n",
              " 'async',\n",
              " 'await',\n",
              " 'break',\n",
              " 'class',\n",
              " 'continue',\n",
              " 'def',\n",
              " 'del',\n",
              " 'elif',\n",
              " 'else',\n",
              " 'except',\n",
              " 'finally',\n",
              " 'for',\n",
              " 'from',\n",
              " 'global',\n",
              " 'if',\n",
              " 'import',\n",
              " 'in',\n",
              " 'is',\n",
              " 'lambda',\n",
              " 'nonlocal',\n",
              " 'not',\n",
              " 'or',\n",
              " 'pass',\n",
              " 'raise',\n",
              " 'return',\n",
              " 'try',\n",
              " 'while',\n",
              " 'with',\n",
              " 'yield']"
            ]
          },
          "metadata": {},
          "execution_count": 168
        }
      ]
    },
    {
      "cell_type": "code",
      "source": [
        "# 예약어 리스트의 개수\n",
        "len(keyword.kwlist)"
      ],
      "metadata": {
        "colab": {
          "base_uri": "https://localhost:8080/"
        },
        "id": "66WvLe3zvtSr",
        "outputId": "e7cb29d1-3369-4cd5-e501-0540a64ff641"
      },
      "execution_count": 169,
      "outputs": [
        {
          "output_type": "execute_result",
          "data": {
            "text/plain": [
              "35"
            ]
          },
          "metadata": {},
          "execution_count": 169
        }
      ]
    },
    {
      "cell_type": "markdown",
      "source": [
        "(2) 25개 예약어 톺아보기\n",
        "\n",
        "예약어 중 True, False, None 을 제외하고는 모두 소문자로 이루어져 있음.\n",
        "\n",
        "즉, 예약어는 대,소문자를 구별하니 주의해야 함.\n",
        "\n",
        "톺아볼 예약어를 낯이 익은 예약어와 낯선 예약어로 나눠서 보면,\n",
        "\n",
        "https://humahumahuma.tistory.com/2"
      ],
      "metadata": {
        "id": "BAI0UavJwWEY"
      }
    },
    {
      "cell_type": "code",
      "source": [
        "# None 데이터 타입 찍어보기\n",
        "type(None)"
      ],
      "metadata": {
        "colab": {
          "base_uri": "https://localhost:8080/"
        },
        "id": "YjNZt-87w7Ms",
        "outputId": "cb36b6da-83d7-488f-8ebc-4e95196a9a5f"
      },
      "execution_count": 170,
      "outputs": [
        {
          "output_type": "execute_result",
          "data": {
            "text/plain": [
              "NoneType"
            ]
          },
          "metadata": {},
          "execution_count": 170
        }
      ]
    },
    {
      "cell_type": "markdown",
      "source": [
        "# 11-3. 함수 (함수)"
      ],
      "metadata": {
        "id": "GsLO9bMwyw4d"
      }
    },
    {
      "cell_type": "markdown",
      "source": [
        "(1) 파이썬에서 함수란?\n",
        "\n",
        "파이썬에서는 식별자 뒤에 괄호가 붙어 있으면 해당 식별자를 함수라고 부름.\n",
        "\n",
        "type(), len() 등은 파이썬에 내장되어 있는 함수이고, 사용자가 직접 정의할 수도 있음.\n",
        "\n",
        "함수를 쓰는 이유는 프로그래밍 자체가 반복적으로 사용되는 코드 자주 쓰는데\n",
        "매번 동일한 코드를 반복해서 쓰는 것보다 함수로 한번 정의해 놓고 계속 사용하는 것이 효율적이기 때문.\n",
        "\n",
        "함수에 대한 용어\n",
        "\n",
        "함수를 만드는 것을 함수를 정의한다고 표현함.\n",
        "\n",
        "정의한 함수를 사용하는 것은 함수를 호출한다고 표현함.\n",
        "\n",
        "함수 괄호 내부에 여러 가지 자료를 넣게 되는데, 이 자료를 매개변수(parameter) 라고 부름.\n",
        "\n",
        "함수를 호출할 때 넣는 값을 인수(argument) 라고 부름.\n",
        "\n",
        "함수의 결과를 리턴값(return) 이라고 부름.\n",
        "\n",
        "\n",
        "(2) 함수의 기본 구조\n",
        "\n",
        "함수는 한마디로 '코드의 집합'임.  기본구조는 아래와 같음.\n",
        "\n",
        "def 함수 이름(매개변수):\n",
        "\n",
        "  수행할 문장 1\n",
        "\n",
        "  수행할 문장 2\n",
        "\n",
        "\n",
        "def add(a, b):  # 함수 이름은 add이고 입력 두개(a, b)값을 받으면\n",
        "\n",
        "  return a+b  # 리턴값은 입력 두개 (a,b)를 더한 값이다.\n",
        "  \n",
        "\n",
        "함수 이름은 add\n",
        "\n",
        "매개변수는 a, b\n",
        "\n",
        "리턴값은 a + b"
      ],
      "metadata": {
        "id": "4jfm5yJ7cV18"
      }
    },
    {
      "cell_type": "code",
      "source": [
        "# 간단한 함수를 통해 매개변수와 인수의 차이를 느껴 보세요\n",
        "def add(a, b):    # a, b는 매개변수\n",
        "    return a + b\n",
        "\n",
        "add(1, 2)  # 1, 2는 인수"
      ],
      "metadata": {
        "colab": {
          "base_uri": "https://localhost:8080/"
        },
        "id": "8ZTAEqzAdVK2",
        "outputId": "830d9d5e-4680-4571-ca26-ef7b2eb98782"
      },
      "execution_count": 171,
      "outputs": [
        {
          "output_type": "execute_result",
          "data": {
            "text/plain": [
              "3"
            ]
          },
          "metadata": {},
          "execution_count": 171
        }
      ]
    },
    {
      "cell_type": "markdown",
      "source": [
        "# 11-4. 다양한 함수의 형태 (함수)"
      ],
      "metadata": {
        "id": "8n8qWMq1dZKX"
      }
    },
    {
      "cell_type": "markdown",
      "source": [
        "(1) 입력값, 결과값이 있는 함수\n",
        "\n",
        "입력값, 결과값이 있는 함수는 가장 일반적인 함수."
      ],
      "metadata": {
        "id": "epmbjgtndcax"
      }
    },
    {
      "cell_type": "code",
      "source": [
        "# 입력값, 결과값이 있는 함수\n",
        "def divide(a, b):\n",
        "    return a//b\n",
        "\n",
        "divide(10, 3)\n",
        "# 입력값은 10, 3 이고 결과값은 3"
      ],
      "metadata": {
        "colab": {
          "base_uri": "https://localhost:8080/"
        },
        "id": "lWFH_VC7dn83",
        "outputId": "c70eb710-5822-4d87-a691-7c846283f305"
      },
      "execution_count": 173,
      "outputs": [
        {
          "output_type": "execute_result",
          "data": {
            "text/plain": [
              "3"
            ]
          },
          "metadata": {},
          "execution_count": 173
        }
      ]
    },
    {
      "cell_type": "markdown",
      "source": [
        "(2) 입력값이 없는 함수\n",
        "\n",
        "입력값이 없는 함수도 있음.\n",
        "함수를 만들 때 매개변수를 넣지 않고 괄호를 비워두면 됨."
      ],
      "metadata": {
        "id": "aqzFT8OsdhIl"
      }
    },
    {
      "cell_type": "code",
      "source": [
        "# 입력값이 없는 함수\n",
        "def hello():\n",
        "     return 'hi!'\n",
        "\n",
        "hello()"
      ],
      "metadata": {
        "colab": {
          "base_uri": "https://localhost:8080/",
          "height": 36
        },
        "id": "nqgBpMB0d2x8",
        "outputId": "c6d2c347-1c90-4700-833a-cd6be3dd7254"
      },
      "execution_count": 174,
      "outputs": [
        {
          "output_type": "execute_result",
          "data": {
            "text/plain": [
              "'hi!'"
            ],
            "application/vnd.google.colaboratory.intrinsic+json": {
              "type": "string"
            }
          },
          "metadata": {},
          "execution_count": 174
        }
      ]
    },
    {
      "cell_type": "markdown",
      "source": [
        "(3) 결과값이 없는 함수\n",
        "\n",
        "결과값이 없는 함수도 있음"
      ],
      "metadata": {
        "id": "VOFpk4YNdgMM"
      }
    },
    {
      "cell_type": "code",
      "source": [
        "# 결과값이 없는 함수\n",
        "def repeat(a, b):\n",
        "    print(a*b)\n",
        "\n",
        "repeat('aiffel', 3)\n",
        "\n",
        "# 결과값은 함수가 최종으로 리턴하는 값을 말함. .\n",
        "# 그런데 위에 출력된 값은 수행할 문장안에 있는 print함수가 실행된 것 뿐임"
      ],
      "metadata": {
        "colab": {
          "base_uri": "https://localhost:8080/"
        },
        "id": "Yrr7zvTed-7L",
        "outputId": "93f01cd7-8460-4e5f-9ad1-489c83a195c6"
      },
      "execution_count": 175,
      "outputs": [
        {
          "output_type": "stream",
          "name": "stdout",
          "text": [
            "aiffelaiffelaiffel\n"
          ]
        }
      ]
    },
    {
      "cell_type": "code",
      "source": [
        "# 변수에 함수 할당하기\n",
        "check = repeat('aiffel', 3)"
      ],
      "metadata": {
        "colab": {
          "base_uri": "https://localhost:8080/"
        },
        "id": "6rQa2QwceMaC",
        "outputId": "20026a67-174c-48a4-ffa1-8c0ca2b55cd9"
      },
      "execution_count": 176,
      "outputs": [
        {
          "output_type": "stream",
          "name": "stdout",
          "text": [
            "aiffelaiffelaiffel\n"
          ]
        }
      ]
    },
    {
      "cell_type": "code",
      "source": [
        "print(check)\n",
        "# repeat함수가 호출 되어서 출력 값이 나왔지만\n",
        "# 해당 함수를 할당한 check변수를 출력하면 None이 나오는 것을 확인할 수 있음.\n",
        "# 예약어에서 언급했듯이 None은 값이 없음을 의미. 즉 결과값은 없음."
      ],
      "metadata": {
        "colab": {
          "base_uri": "https://localhost:8080/"
        },
        "id": "1TVw_FvPeRwd",
        "outputId": "934bace8-34db-4e3b-da9c-2e19c8e0ca3d"
      },
      "execution_count": 177,
      "outputs": [
        {
          "output_type": "stream",
          "name": "stdout",
          "text": [
            "None\n"
          ]
        }
      ]
    },
    {
      "cell_type": "markdown",
      "source": [
        "(4) 입력값도 결과값도 없는 함수\n"
      ],
      "metadata": {
        "id": "oOOHqM5yehne"
      }
    },
    {
      "cell_type": "code",
      "source": [
        "# 입력값도 결과값도 없는 함수\n",
        "def repeat():           # repeat이라는 함수는\n",
        "    print('Hello! Python')    # 'Hello! Python!' 출력한다.\n",
        "\n",
        "repeat()"
      ],
      "metadata": {
        "colab": {
          "base_uri": "https://localhost:8080/"
        },
        "id": "DPvGiyIgemhV",
        "outputId": "5c9c0071-f8da-47c5-961e-85eb0e3b9bbc"
      },
      "execution_count": 178,
      "outputs": [
        {
          "output_type": "stream",
          "name": "stdout",
          "text": [
            "Hello! Python\n"
          ]
        }
      ]
    },
    {
      "cell_type": "code",
      "source": [
        "a = repeat()"
      ],
      "metadata": {
        "colab": {
          "base_uri": "https://localhost:8080/"
        },
        "id": "-ZvH20-neq7p",
        "outputId": "7253ebb5-5769-43c7-a4b7-de76e4728e77"
      },
      "execution_count": 179,
      "outputs": [
        {
          "output_type": "stream",
          "name": "stdout",
          "text": [
            "Hello! Python\n"
          ]
        }
      ]
    },
    {
      "cell_type": "code",
      "source": [
        "print(a)\n",
        "\n",
        "# 입력 인수를 받는 매개변수도 없고 return문도 없으니 입력값도 결과값도 없는 함수임."
      ],
      "metadata": {
        "colab": {
          "base_uri": "https://localhost:8080/"
        },
        "id": "71EVcnMMesKK",
        "outputId": "20cac577-9037-4ebc-8116-b58afbcbcc20"
      },
      "execution_count": 181,
      "outputs": [
        {
          "output_type": "stream",
          "name": "stdout",
          "text": [
            "None\n"
          ]
        }
      ]
    },
    {
      "cell_type": "markdown",
      "source": [
        "# 12-2. 인수의 형식 (함수 활용하기)"
      ],
      "metadata": {
        "id": "ViOhaya9e4E-"
      }
    },
    {
      "cell_type": "markdown",
      "source": [
        "1. 인수의 형식\n",
        "\n",
        "(1) 위치 인수\n",
        "\n",
        "함수에 넣는 인수의 위치가 정해져 있는 방식을 위치 인수(positional argument)라고 함"
      ],
      "metadata": {
        "id": "HEJfgNXPfKWP"
      }
    },
    {
      "cell_type": "code",
      "source": [
        "def print_nums(a, b, c):\n",
        "    print(c)\n",
        "    print(b)\n",
        "    print(a)\n",
        "\n",
        "print_nums(10, 20, 30)"
      ],
      "metadata": {
        "colab": {
          "base_uri": "https://localhost:8080/"
        },
        "id": "OwJwjqhufXM-",
        "outputId": "a6a1890f-cb03-44fc-9d11-b6a57834795f"
      },
      "execution_count": 182,
      "outputs": [
        {
          "output_type": "stream",
          "name": "stdout",
          "text": [
            "30\n",
            "20\n",
            "10\n"
          ]
        }
      ]
    },
    {
      "cell_type": "markdown",
      "source": [
        "인수를 순서대로 넣을 때, 리스트나 튜플을 사용할 수도 있음.\n",
        "\n",
        "아래 예시처럼 리스트나 튜플 앞에 *(애스터리스크)를 붙여서 함수에 넣어주면 됨."
      ],
      "metadata": {
        "id": "mD7z5tEJfb3z"
      }
    },
    {
      "cell_type": "code",
      "source": [
        "a = [10, 20, 30]\n",
        "print_nums(*a)"
      ],
      "metadata": {
        "colab": {
          "base_uri": "https://localhost:8080/"
        },
        "id": "4zolcr4rfeXx",
        "outputId": "16a8cb3f-d5c8-45c3-ef76-d7290433f2ad"
      },
      "execution_count": 183,
      "outputs": [
        {
          "output_type": "stream",
          "name": "stdout",
          "text": [
            "30\n",
            "20\n",
            "10\n"
          ]
        }
      ]
    },
    {
      "cell_type": "markdown",
      "source": [
        "세 개의 인수를 가각 넣지 않고 요소가 3개인 리스트 앞에 *만 붙였는데 함수가 잘 작동함.\n",
        "\n",
        "리스트 앞에 *를 붙이면 언패킹(unpacking)이 되어서 print_nums(10, 20, 30)와 똑같은 동작이 되기 때문임.\n",
        ".\n",
        "언패킹(unpacking)은 말 그대로 리스트나 튜플의 포장을 푼다는 뜻.\n",
        "\n",
        "리스트 변수 말고 직접 *을 붙여도 동작은 같음."
      ],
      "metadata": {
        "id": "agCNAMwRfjAm"
      }
    },
    {
      "cell_type": "code",
      "source": [
        "print_nums(*[10, 20, 30])"
      ],
      "metadata": {
        "colab": {
          "base_uri": "https://localhost:8080/"
        },
        "id": "8Ofy8idvfoOx",
        "outputId": "6646700b-2d31-4a39-88c0-f5c65429eec2"
      },
      "execution_count": 184,
      "outputs": [
        {
          "output_type": "stream",
          "name": "stdout",
          "text": [
            "30\n",
            "20\n",
            "10\n"
          ]
        }
      ]
    },
    {
      "cell_type": "markdown",
      "source": [
        "단, 매개 변수의 개수와 리스트의 요소 개수가 같아야 함. 같지 않으면 에러가 발생."
      ],
      "metadata": {
        "id": "ghmZiSDofrv2"
      }
    },
    {
      "cell_type": "code",
      "source": [
        "# 주석을 풀고 확인해보세요\n",
        "# a = [10, 20, 30, 40]\n",
        "# print_nums(*a)\n",
        "\n",
        "# TypeError: print_nums() takes 3 positional arguments but 4 were given"
      ],
      "metadata": {
        "id": "ffwW9TbifyE5"
      },
      "execution_count": 186,
      "outputs": []
    },
    {
      "cell_type": "markdown",
      "source": [
        "(2) 가변 인수\n",
        "\n",
        "이때까지 배운 함수에서는 요구하는 개수만큼만 인수를 전달 해야함.\n",
        "\n",
        "예를 들어 def aiffel(a, b, c) 함수는 인수를 3개만 전달해야 하고 def aiffe_2(a) 함수는 인수를 1개만 전달해야 함.\n",
        "\n",
        "이에 비해 지금 배울 가변 인수(variable argument) 는 임의 개수의 인수를 받을 수 있음.\n",
        "\n",
        "매개변수 앞에 * 기호를 붙이면 됨.\n",
        "\n",
        "def 함수명(*매개변수):\n",
        "\n",
        "  코드\n",
        "  \n",
        "주의할 점은 언팩킹은 인자에 * 기호를 붙이는 것이고, 가변 인수는 매개변수 앞에 * 기호를 붙여야함."
      ],
      "metadata": {
        "id": "qeHy1QaDgJ4s"
      }
    },
    {
      "cell_type": "code",
      "source": [
        "def sum_nums(*args):\n",
        "    sum = 0\n",
        "    for arg in args:\n",
        "        sum += arg\n",
        "    return sum"
      ],
      "metadata": {
        "id": "joOzDOw4gBCb"
      },
      "execution_count": 188,
      "outputs": []
    },
    {
      "cell_type": "code",
      "source": [
        "sum_nums(1, 2, 3)"
      ],
      "metadata": {
        "colab": {
          "base_uri": "https://localhost:8080/"
        },
        "id": "cOhyqQpOgjvC",
        "outputId": "cb6a2296-fb8d-4f7d-f200-421ded930648"
      },
      "execution_count": 189,
      "outputs": [
        {
          "output_type": "execute_result",
          "data": {
            "text/plain": [
              "6"
            ]
          },
          "metadata": {},
          "execution_count": 189
        }
      ]
    },
    {
      "cell_type": "code",
      "source": [
        "sum_nums(1, 2, 3, 4, 5, 6, 7, 8, 9, 10)"
      ],
      "metadata": {
        "colab": {
          "base_uri": "https://localhost:8080/"
        },
        "id": "HEoBOqeagl0U",
        "outputId": "d1a91c1c-6912-438a-bfcb-4350a09cd917"
      },
      "execution_count": 190,
      "outputs": [
        {
          "output_type": "execute_result",
          "data": {
            "text/plain": [
              "55"
            ]
          },
          "metadata": {},
          "execution_count": 190
        }
      ]
    },
    {
      "cell_type": "code",
      "source": [
        "sum_nums()"
      ],
      "metadata": {
        "colab": {
          "base_uri": "https://localhost:8080/"
        },
        "id": "F7sFqHjZgm7a",
        "outputId": "97c5f5eb-169e-464d-ce63-55954b6a4ac6"
      },
      "execution_count": 191,
      "outputs": [
        {
          "output_type": "execute_result",
          "data": {
            "text/plain": [
              "0"
            ]
          },
          "metadata": {},
          "execution_count": 191
        }
      ]
    },
    {
      "cell_type": "markdown",
      "source": [
        "임의 개수의 인수를 받기 때문에 3개, 10개뿐만 아니라 아무런 인수가 없어도 에러 없이 리턴값을 출력함.\n",
        "\n",
        "이렇게 함수에 인수를 직접 여러 개 넣어도 되고, 리스트나 튜플 언패킹을 사용해도 됨."
      ],
      "metadata": {
        "id": "GqE7i9CAgrOF"
      }
    },
    {
      "cell_type": "code",
      "source": [
        "a = (1, 3, 5, 7, 9)\n",
        "\n",
        "sum_nums(*a)"
      ],
      "metadata": {
        "colab": {
          "base_uri": "https://localhost:8080/"
        },
        "id": "ghpoB6zPgv1v",
        "outputId": "01764d42-ac9a-4513-82ca-60462fc214ea"
      },
      "execution_count": 192,
      "outputs": [
        {
          "output_type": "execute_result",
          "data": {
            "text/plain": [
              "25"
            ]
          },
          "metadata": {},
          "execution_count": 192
        }
      ]
    },
    {
      "cell_type": "markdown",
      "source": [
        "(3) 키워드 인수\n",
        "\n",
        "지금까지 함수에 인수를 넣을 때 값이나 변수를 그대로 넣었는데,  이러면 각각의 인수가 무슨 용도인지 알기가 어려웠음.\n",
        "\n",
        "이런 점을 보완하기 위해 키워드 인수를 사용할 수 있음.\n",
        "\n",
        "용도를 알고 있으면 순서와 상관없이 용도에 맞게 인수가 자기 자리를 찾을 수 있도록 키워드 인수를 사용함.\n",
        "\n",
        "예를 들어 반려견의 정보를 출력하는 함수로 실슴."
      ],
      "metadata": {
        "id": "fclPwG7Dg0EG"
      }
    },
    {
      "cell_type": "code",
      "source": [
        "def dog_info(name, age, breed):\n",
        "    print('이름 :', name)\n",
        "    print('나이 :', age)\n",
        "    print('품종 :',  breed)"
      ],
      "metadata": {
        "id": "tDZE5kMRgyFE"
      },
      "execution_count": 193,
      "outputs": []
    },
    {
      "cell_type": "code",
      "source": [
        "# 알맞은 순서\n",
        "dog_info('규봉이', 10, '진돗개')"
      ],
      "metadata": {
        "colab": {
          "base_uri": "https://localhost:8080/"
        },
        "id": "lzoMkFhMhFnt",
        "outputId": "ff5e028f-5023-434d-c10b-5deb3506c3f5"
      },
      "execution_count": 194,
      "outputs": [
        {
          "output_type": "stream",
          "name": "stdout",
          "text": [
            "이름 : 규봉이\n",
            "나이 : 10\n",
            "품종 : 진돗개\n"
          ]
        }
      ]
    },
    {
      "cell_type": "code",
      "source": [
        "# 잘못된 순서\n",
        "dog_info(10, '진돗개', '규봉이')"
      ],
      "metadata": {
        "colab": {
          "base_uri": "https://localhost:8080/"
        },
        "id": "OZAOC4AOhJQF",
        "outputId": "966215f8-04af-4c7f-8e59-933e39e8b1cb"
      },
      "execution_count": 195,
      "outputs": [
        {
          "output_type": "stream",
          "name": "stdout",
          "text": [
            "이름 : 10\n",
            "나이 : 진돗개\n",
            "품종 : 규봉이\n"
          ]
        }
      ]
    },
    {
      "cell_type": "markdown",
      "source": [
        "파이썬에서는 인수의 순서와 용도를 매번 기억하지 않아도 되도록 키워드 인수(keyword argument)라는 기능을 제공.\n",
        "\n",
        "키워드 인수는 말 그대로 인수에 키워드를 붙여서 순서와 상관없이 자기 용도에 맞게 쓸 수 있게 만들어줌."
      ],
      "metadata": {
        "id": "L1BpvS3xhQQa"
      }
    },
    {
      "cell_type": "code",
      "source": [
        "dog_info(age=10, breed='진돗개', name='규봉이')"
      ],
      "metadata": {
        "colab": {
          "base_uri": "https://localhost:8080/"
        },
        "id": "yaCXbVQghfXr",
        "outputId": "03c30d88-ed7f-4d1b-9915-7c762c8f92ce"
      },
      "execution_count": 196,
      "outputs": [
        {
          "output_type": "stream",
          "name": "stdout",
          "text": [
            "이름 : 규봉이\n",
            "나이 : 10\n",
            "품종 : 진돗개\n"
          ]
        }
      ]
    },
    {
      "cell_type": "code",
      "source": [
        "# 키워드 인수 중 가장 대표적인 것은 print함수의 sep, end.\n",
        "\n",
        "print(10, 20, 30, 40, 50, sep=':', end='끝')"
      ],
      "metadata": {
        "colab": {
          "base_uri": "https://localhost:8080/"
        },
        "id": "d3C5DUWyhlcK",
        "outputId": "97970c2f-1b52-47c7-f73b-705d7dd18de5"
      },
      "execution_count": 197,
      "outputs": [
        {
          "output_type": "stream",
          "name": "stdout",
          "text": [
            "10:20:30:40:50끝"
          ]
        }
      ]
    },
    {
      "cell_type": "markdown",
      "source": [
        "(4) 키워드 인수 + 딕셔너리 언패킹\n",
        "\n",
        "딕셔너리를 사용해서 키워드 인수로 값을 넣는 딕셔너리 언패킹.\n",
        "\n",
        "딕셔너리 언패킹은 딕셔너리 앞에 ** (애스터리스크 두 개)를 붙여서 함수에 넣어줌.."
      ],
      "metadata": {
        "id": "uzkGwQnAhs7z"
      }
    },
    {
      "cell_type": "code",
      "source": [
        "def dog_info(name, age, breed):\n",
        "    print('이름 :', name)\n",
        "    print('나이 :', age)\n",
        "    print('품종 :',  breed)"
      ],
      "metadata": {
        "id": "lwWFpjruhzQl"
      },
      "execution_count": 198,
      "outputs": []
    },
    {
      "cell_type": "code",
      "source": [
        "# 딕셔너리에 '키워드': 값 의 형식으로 인수를 저장하고 앞에 ** 붙여서 함수에 넣어줌.\n",
        "\n",
        "a = {'name':'규봉이', 'age':10, 'breed':'진돗개'}\n",
        "\n",
        "dog_info(**a)"
      ],
      "metadata": {
        "colab": {
          "base_uri": "https://localhost:8080/"
        },
        "id": "yP400l-xh5MA",
        "outputId": "a310b91c-ff40-4979-e490-9a2a5dfc3277"
      },
      "execution_count": 199,
      "outputs": [
        {
          "output_type": "stream",
          "name": "stdout",
          "text": [
            "이름 : 규봉이\n",
            "나이 : 10\n",
            "품종 : 진돗개\n"
          ]
        }
      ]
    },
    {
      "cell_type": "code",
      "source": [
        "# 리스트나 튜플을 언패킹할 때 처럼 변수 대신 딕셔너리 앞에 바로 ** 를 붙여도 동작은 같음.\n",
        "\n",
        "dog_info(**{'name':'규봉이', 'age':10, 'breed':'진돗개'})"
      ],
      "metadata": {
        "colab": {
          "base_uri": "https://localhost:8080/"
        },
        "id": "XfMo-vxaiC3X",
        "outputId": "11517b1b-db4c-4b70-9d4d-4d6bcb108d63"
      },
      "execution_count": 200,
      "outputs": [
        {
          "output_type": "stream",
          "name": "stdout",
          "text": [
            "이름 : 규봉이\n",
            "나이 : 10\n",
            "품종 : 진돗개\n"
          ]
        }
      ]
    },
    {
      "cell_type": "code",
      "source": [
        "# 딕셔너리만 *을 두 번 사용하는 이유는, 딕셔너리는 키:값 쌍의 형태로 값이 저장되어 있기 때문.\n",
        "# *을 한 번만 사용하면,  오류가 나지 않지만, key 만 출력됨.  따라서 ** 를 사용해야함.\n",
        "\n",
        "dog_info(*{'name':'규봉이', 'age':10, 'breed':'진돗개'})"
      ],
      "metadata": {
        "colab": {
          "base_uri": "https://localhost:8080/"
        },
        "id": "VPOL43C6iJfW",
        "outputId": "9601b1b0-5c0a-4d2a-a8fb-335384b6c472"
      },
      "execution_count": 201,
      "outputs": [
        {
          "output_type": "stream",
          "name": "stdout",
          "text": [
            "이름 : name\n",
            "나이 : age\n",
            "품종 : breed\n"
          ]
        }
      ]
    },
    {
      "cell_type": "markdown",
      "source": [
        "(5) 키워드 가변 인수\n",
        "\n",
        "키워드 인수를 사용하면서 동시에 가변 인수 함수를 만들 수 있음.\n",
        "\n",
        "이 함수를 만드는 방법은 가변 인수 함수를 만드는 것과 동일함.\n",
        "\n",
        "다른 점은 인수를 함수에 넣을 때, 키워드와 함께 넣어야 한다는 점."
      ],
      "metadata": {
        "id": "a0FrQbnoifuG"
      }
    },
    {
      "cell_type": "code",
      "source": [
        "# 키워드 가변 인수 함수인 dog_info 함수를 새롭게 만들고 인수를 넣어보면\n",
        "\n",
        "def dog_info(**kwargs):\n",
        "    for kword, arg in kwargs.items():\n",
        "        print(kword, ':', arg)"
      ],
      "metadata": {
        "id": "ffX5PjB3imQr"
      },
      "execution_count": 202,
      "outputs": []
    },
    {
      "cell_type": "code",
      "source": [
        "# items() 딕셔너리의 Key:Value 쌍을 얻을 때 쓰는 함수.\n",
        "# 키워드와 인수를 넣었을 때, 자동으로 키워드와 인수를 저장해줌.\n",
        "\n",
        "dog_info(name='규봉이')"
      ],
      "metadata": {
        "colab": {
          "base_uri": "https://localhost:8080/"
        },
        "id": "ewmZ2UQQi0o1",
        "outputId": "68aac93a-e425-40d9-9e98-cab27348fe5e"
      },
      "execution_count": 203,
      "outputs": [
        {
          "output_type": "stream",
          "name": "stdout",
          "text": [
            "name : 규봉이\n"
          ]
        }
      ]
    },
    {
      "cell_type": "code",
      "source": [
        "dog_info(name='규봉이', age=10, gender='male')"
      ],
      "metadata": {
        "colab": {
          "base_uri": "https://localhost:8080/"
        },
        "id": "4YeDWaDBjCYi",
        "outputId": "f026603e-28ab-4d49-ee47-a32960fcb3af"
      },
      "execution_count": 204,
      "outputs": [
        {
          "output_type": "stream",
          "name": "stdout",
          "text": [
            "name : 규봉이\n",
            "age : 10\n",
            "gender : male\n"
          ]
        }
      ]
    },
    {
      "cell_type": "code",
      "source": [
        "# 위 처럼 인수를 직접 넣어도 되고 딕셔너리를 언팩킹해도 됨\n",
        "a = {'name':'규봉이', 'age':10, 'breed':'진돗개', 'gender':'male'}\n",
        "\n",
        "dog_info(**a)"
      ],
      "metadata": {
        "colab": {
          "base_uri": "https://localhost:8080/"
        },
        "id": "VqCOGGn6jFP9",
        "outputId": "2601d66b-b533-469b-c7f1-cb1f72545887"
      },
      "execution_count": 206,
      "outputs": [
        {
          "output_type": "stream",
          "name": "stdout",
          "text": [
            "name : 규봉이\n",
            "age : 10\n",
            "breed : 진돗개\n",
            "gender : male\n"
          ]
        }
      ]
    },
    {
      "cell_type": "markdown",
      "source": [
        "# 12-3. 변수의 범위 variable scope (함수 활용하기)"
      ],
      "metadata": {
        "id": "uNupDVhBjQ_K"
      }
    },
    {
      "cell_type": "markdown",
      "source": [
        "파이썬에서는 변수의 선언 위치에 따라 변수가 영향을 미치는 범위가 달라짐\n",
        "\n",
        "변수의 범위에 따라 지역 변수와 전역 변수로 나뉨.\n",
        "\n",
        "1) 지역 변수(local variable)\n",
        "\n",
        "함수는 동작에 필요한 변수를 얼마든지 사용할 수 있는데, 함수 내부에서 선언하는 변수를 지역 변수라고 부름.\n",
        "\n",
        "앞서 만든 함수 sum_nums에서 누적 합을 저장하기 위해 sum이라는 변수를 사용했는데, 이 sum변수는 함수 내에서 선언했기 때문에 지역 변수임.\n",
        "\n",
        "지역 변수를 사용하는 이유는 함수에 필요한 모든 것을 내부에 포함시켜 독립성을 향상 시키기 위함임.\n",
        "\n",
        "또 지역 변수는 함수 동작에 필요한 모든 것을 내부에 완벽하게 소유할 수 있도록 하여 재활용성이 향상됨."
      ],
      "metadata": {
        "id": "QPrAexwPjdSm"
      }
    },
    {
      "cell_type": "code",
      "source": [
        "def sum_nums(*args):\n",
        "    sum = 0\n",
        "    for arg in args:\n",
        "        sum += arg\n",
        "    return sum"
      ],
      "metadata": {
        "id": "tL7mTeyejZrZ"
      },
      "execution_count": 207,
      "outputs": []
    },
    {
      "cell_type": "code",
      "source": [
        "def mango():\n",
        "    temp='망고'\n",
        "    print(temp)\n",
        "\n",
        "mango()\n",
        "# print(temp)\n",
        "\n",
        "# mango함수 안에서 temp 지역 변수에 '망고' 를 대입하고 출력했음.\n",
        "# 함수를 호출하면 mango은 내부적으로 temp 변수를 만들고 사용한 다음에 함수가 종료되면 사라짐..\n",
        "# 그렇기 때문에 함수 밖에서 temp 변수를 출력하려고하면 존재하지 않는다는 에러가 뜨게 됨.."
      ],
      "metadata": {
        "colab": {
          "base_uri": "https://localhost:8080/"
        },
        "id": "OCIprw5TjrVj",
        "outputId": "022ed5e8-ae3e-4ff8-aeee-7042039bedbe"
      },
      "execution_count": 209,
      "outputs": [
        {
          "output_type": "stream",
          "name": "stdout",
          "text": [
            "망고\n"
          ]
        }
      ]
    },
    {
      "cell_type": "markdown",
      "source": [
        "(2) 전역 변수(global variable)\n",
        "\n",
        "지역 변수와 반대로 함수 바깥에서 선언하는 변수를 전역 변수 라고 함.\n",
        "\n",
        "전역 변수는 지역 변수와 달리 어디에서나 참조 할 수 있음\n"
      ],
      "metadata": {
        "id": "_NtO1bbWkFvB"
      }
    },
    {
      "cell_type": "code",
      "source": [
        "sale_rate = 0.15\n",
        "\n",
        "def notice():\n",
        "    print('오늘 할인율은', sale_rate*100, '% 입니다.')\n",
        "\n",
        "def cal_price(price):\n",
        "    print('할인된 가격은', price*(1-sale_rate), '원 입니다.')\n",
        "\n",
        "notice()\n",
        "\n",
        "# 여기서 sale_rate이 전역 변수임.  그렇기 때문에 두 개 함수에서 모두 참조할 수 있음"
      ],
      "metadata": {
        "colab": {
          "base_uri": "https://localhost:8080/"
        },
        "id": "ATdRC6h9kMx1",
        "outputId": "5692984f-48ed-470d-8017-7ff0713e752e"
      },
      "execution_count": 212,
      "outputs": [
        {
          "output_type": "stream",
          "name": "stdout",
          "text": [
            "오늘 할인율은 15.0 % 입니다.\n"
          ]
        }
      ]
    },
    {
      "cell_type": "code",
      "source": [
        "cal_price(10000)"
      ],
      "metadata": {
        "colab": {
          "base_uri": "https://localhost:8080/"
        },
        "id": "x2xKhLFFkQZ-",
        "outputId": "8f5009f8-c895-4829-c3da-634d4ed2d755"
      },
      "execution_count": 213,
      "outputs": [
        {
          "output_type": "stream",
          "name": "stdout",
          "text": [
            "할인된 가격은 8500.0 원 입니다.\n"
          ]
        }
      ]
    },
    {
      "cell_type": "code",
      "source": [
        "# sale_rate이 전역 변수이므로,  sale_rate을 바꾸면, 함수의 결과값도 바뀌게 됨.\n",
        "sale_rate = 0.3\n",
        "\n",
        "notice()\n",
        "cal_price(10000)"
      ],
      "metadata": {
        "colab": {
          "base_uri": "https://localhost:8080/"
        },
        "id": "FDRqSGbEkeeK",
        "outputId": "cece15b2-153d-4fba-ea77-922ab916f43e"
      },
      "execution_count": 215,
      "outputs": [
        {
          "output_type": "stream",
          "name": "stdout",
          "text": [
            "오늘 할인율은 30.0 % 입니다.\n",
            "할인된 가격은 7000.0 원 입니다.\n"
          ]
        }
      ]
    },
    {
      "cell_type": "markdown",
      "source": [
        "# 12-4. 함수에서 재귀호출 사용하기 (함수 활용하기)"
      ],
      "metadata": {
        "id": "u39no5AskrRQ"
      }
    },
    {
      "cell_type": "markdown",
      "source": [
        "(1) 재귀 호출이란?\n",
        "\n",
        "함수 안에서 함수 자기자신을 호출하는 방식을 재귀호출(recursive call)이라고 함.\n",
        "\n",
        "자주 쓰이지는 않지만 추후에 알고리즘을 구현할 때 매우 유용 (알고리즘에 따라서 반복문으로 구현한 코드보다 재귀호출로 구현한 코드가 직관이고 이해하기 쉬운 경우가 많음.)"
      ],
      "metadata": {
        "id": "tzdo1zuskyZB"
      }
    },
    {
      "cell_type": "code",
      "source": [
        "def hello():\n",
        "    print('Hello, world!')\n",
        "    hello()\n",
        "\n",
        "# hello()\n",
        "\n",
        "# 재귀 깊이를 정해주지 않으면 error가 나게됨.왜냐하면 파이썬에서 최대 재귀깊이가 1,000으로 정해져 있어서.\n",
        "# 그러니 재귀 호출이 1,000까지 가지 않도록 종료 조건을 반드시 만들어주어야 함."
      ],
      "metadata": {
        "id": "a1kD5w7-lB9V"
      },
      "execution_count": 216,
      "outputs": []
    },
    {
      "cell_type": "code",
      "source": [
        "def hello(count):\n",
        "    if count == 0:  # 종료 조건\n",
        "        return      # if문이 참이면 그대로 끝\n",
        "\n",
        "    print('Hello, world!',  count)\n",
        "    count -= 1\n",
        "    hello(count)\n",
        "\n",
        "hello(3)"
      ],
      "metadata": {
        "colab": {
          "base_uri": "https://localhost:8080/"
        },
        "id": "g_2o1-AVlWYX",
        "outputId": "7ea9d1a0-96f3-4b49-fd8d-6d2128a35427"
      },
      "execution_count": 217,
      "outputs": [
        {
          "output_type": "stream",
          "name": "stdout",
          "text": [
            "Hello, world! 3\n",
            "Hello, world! 2\n",
            "Hello, world! 1\n"
          ]
        }
      ]
    },
    {
      "cell_type": "markdown",
      "source": [
        "# 13-2. 리스트를 다루는 여러가지 방법 (리스트, 딕셔너리 다루기)"
      ],
      "metadata": {
        "id": "hH14tWuPlhhZ"
      }
    },
    {
      "cell_type": "markdown",
      "source": [
        "🔶 1차원 리스트\n",
        "\n",
        "한 줄로 늘어선 리스트는 1차원 리스트.\n",
        "\n",
        "리스트는 다차원으로 만들 수도 있음.  \n",
        "\n",
        "평면 모양의 2차원 리스트는 가로 x 세로 형태로 이루어져 있고, 가로는 행(row), 세로는 열(column)이라고 부름.  행과 열의 인덱스는 모두 0부터 시작.\n",
        "\n",
        "🔶 2차원 리스트\n",
        "\n",
        "1차원과 비슷하게 나열한 것처럼 보이지만, 2차원 리스트는 행렬 모양으로 구성된 모습임.\n",
        "\n",
        "🔶 3차원 리스트\n",
        "\n",
        "3차원 리스트는 행, 열 이외에 depth라는 개념이 생김\n",
        "\n",
        "2차원일 때는 [행][열] 순서로 적었다면 3차원일때는 [depth][행][열]로 적고 이를 통해 인덱싱할 수 있음"
      ],
      "metadata": {
        "id": "weryUv2ulop1"
      }
    },
    {
      "cell_type": "code",
      "source": [
        "list_o = ['a', 'i', 'f', 'f', 'e', 'l']   # 1차원 리스트\n",
        "list_o"
      ],
      "metadata": {
        "colab": {
          "base_uri": "https://localhost:8080/"
        },
        "id": "t5wDnOkxmJuT",
        "outputId": "62548349-3565-4a28-eb14-d8afc52df9ed"
      },
      "execution_count": 219,
      "outputs": [
        {
          "output_type": "execute_result",
          "data": {
            "text/plain": [
              "['a', 'i', 'f', 'f', 'e', 'l']"
            ]
          },
          "metadata": {},
          "execution_count": 219
        }
      ]
    },
    {
      "cell_type": "code",
      "source": [
        "list_tw = [[1, 2], ['ㄱ', 'ㄴ'], ['a', 'b']] # 2차원 리스트\n",
        "list_tw"
      ],
      "metadata": {
        "colab": {
          "base_uri": "https://localhost:8080/"
        },
        "id": "taZuALSQmQiU",
        "outputId": "de20610c-5e00-4227-ecb2-6cea279c83c9"
      },
      "execution_count": 221,
      "outputs": [
        {
          "output_type": "execute_result",
          "data": {
            "text/plain": [
              "[[1, 2], ['ㄱ', 'ㄴ'], ['a', 'b']]"
            ]
          },
          "metadata": {},
          "execution_count": 221
        }
      ]
    },
    {
      "cell_type": "code",
      "source": [
        "len(list_tw) # 2차원 리스트의 길이"
      ],
      "metadata": {
        "colab": {
          "base_uri": "https://localhost:8080/"
        },
        "id": "Z1P89YGzmcRR",
        "outputId": "b72614cb-9423-4134-c238-5bfb9cc6666d"
      },
      "execution_count": 223,
      "outputs": [
        {
          "output_type": "execute_result",
          "data": {
            "text/plain": [
              "3"
            ]
          },
          "metadata": {},
          "execution_count": 223
        }
      ]
    },
    {
      "cell_type": "code",
      "source": [
        "# 2차원 리스트의 인덱싱  list[행][열]\n",
        "# 3행 1열 출력\n",
        "list_tw[2][0]"
      ],
      "metadata": {
        "colab": {
          "base_uri": "https://localhost:8080/",
          "height": 36
        },
        "id": "_FNcG5pvmihF",
        "outputId": "b0ed7350-a2de-4e16-facb-9ceb3a83cb5a"
      },
      "execution_count": 226,
      "outputs": [
        {
          "output_type": "execute_result",
          "data": {
            "text/plain": [
              "'a'"
            ],
            "application/vnd.google.colaboratory.intrinsic+json": {
              "type": "string"
            }
          },
          "metadata": {},
          "execution_count": 226
        }
      ]
    },
    {
      "cell_type": "code",
      "source": [
        "# Q. 2행 2열을 출력해보세요.\n",
        "list_tw[1][1]"
      ],
      "metadata": {
        "colab": {
          "base_uri": "https://localhost:8080/",
          "height": 36
        },
        "id": "M1ZSX4fDmxn7",
        "outputId": "941279d0-f991-46d6-c7c5-01c8eb3c52d5"
      },
      "execution_count": 228,
      "outputs": [
        {
          "output_type": "execute_result",
          "data": {
            "text/plain": [
              "'ㄴ'"
            ],
            "application/vnd.google.colaboratory.intrinsic+json": {
              "type": "string"
            }
          },
          "metadata": {},
          "execution_count": 228
        }
      ]
    },
    {
      "cell_type": "code",
      "source": [
        "# 인덱싱 한개만 써보면, 2번행 전체가 출력됨\n",
        "list_tw[2]"
      ],
      "metadata": {
        "colab": {
          "base_uri": "https://localhost:8080/"
        },
        "id": "yHk8OqjNnAyn",
        "outputId": "d1a3bbfe-6e97-4783-cbca-17aed71e3de6"
      },
      "execution_count": 229,
      "outputs": [
        {
          "output_type": "execute_result",
          "data": {
            "text/plain": [
              "['a', 'b']"
            ]
          },
          "metadata": {},
          "execution_count": 229
        }
      ]
    },
    {
      "cell_type": "code",
      "source": [
        "# 4행, 3열, depth 2인 3차원 리스트\n",
        "list_th = [[[1, 2, 3], [4, 5, 6], [7, 8, 9], [10, 11, 12]],\\\n",
        "           [['a', 'b', 'c'], ['d', 'e', 'f'], ['g', 'h', 'i'], ['j', 'k', 'l']]]\n",
        "list_th"
      ],
      "metadata": {
        "colab": {
          "base_uri": "https://localhost:8080/"
        },
        "id": "EbR2K3M2nXuw",
        "outputId": "7b2e4be3-03a7-4562-97e6-7c986ce31ac4"
      },
      "execution_count": 230,
      "outputs": [
        {
          "output_type": "execute_result",
          "data": {
            "text/plain": [
              "[[[1, 2, 3], [4, 5, 6], [7, 8, 9], [10, 11, 12]],\n",
              " [['a', 'b', 'c'], ['d', 'e', 'f'], ['g', 'h', 'i'], ['j', 'k', 'l']]]"
            ]
          },
          "metadata": {},
          "execution_count": 230
        }
      ]
    },
    {
      "cell_type": "code",
      "source": [
        "# 3차원 리스트의 길이\n",
        "len(list_th)\n",
        "\n",
        "# 인덱싱 첫번째 순서가 depth였기 때문에 depth의 길이가 나옴."
      ],
      "metadata": {
        "colab": {
          "base_uri": "https://localhost:8080/"
        },
        "id": "4TXCSmkznb04",
        "outputId": "823c4748-cc27-42f9-d23e-a65b0df829fc"
      },
      "execution_count": 233,
      "outputs": [
        {
          "output_type": "execute_result",
          "data": {
            "text/plain": [
              "2"
            ]
          },
          "metadata": {},
          "execution_count": 233
        }
      ]
    },
    {
      "cell_type": "code",
      "source": [
        "# [1, 2, 3]이 나오도록 3차원 리스트 list_th를 인덱싱해 보면,\n",
        "# [1, 2, 3]은 depth와 행의 인덱스가 0이고, 열은 전체를 인덱싱해야 하니까 생략할 수 있음\n",
        "# 열 생략 ver.\n",
        "list_th[0][0]"
      ],
      "metadata": {
        "colab": {
          "base_uri": "https://localhost:8080/"
        },
        "id": "wI4OkMR4nnfn",
        "outputId": "4de6ece1-4f71-40db-db51-9738df1cc01f"
      },
      "execution_count": 234,
      "outputs": [
        {
          "output_type": "execute_result",
          "data": {
            "text/plain": [
              "[1, 2, 3]"
            ]
          },
          "metadata": {},
          "execution_count": 234
        }
      ]
    },
    {
      "cell_type": "code",
      "source": [
        "# 열 기재 ver.\n",
        "# depth 1, 1행, 열 전체\n",
        "list_th[0][0][:]"
      ],
      "metadata": {
        "colab": {
          "base_uri": "https://localhost:8080/"
        },
        "id": "XarbsJVjn4m-",
        "outputId": "1d03c59a-d440-4769-9d6c-6fbeb9d9c8f2"
      },
      "execution_count": 235,
      "outputs": [
        {
          "output_type": "execute_result",
          "data": {
            "text/plain": [
              "[1, 2, 3]"
            ]
          },
          "metadata": {},
          "execution_count": 235
        }
      ]
    },
    {
      "cell_type": "code",
      "source": [
        "# 이번에는 c 요소를 인덱싱해보겠습니다. depth는 1, 행의 인덱스가 0이고 열의 인덱스는 2입니다.\n",
        "# depth 2, 1행, 3열\n",
        "list_th[1][0][2]"
      ],
      "metadata": {
        "colab": {
          "base_uri": "https://localhost:8080/",
          "height": 36
        },
        "id": "P22oLq03n9Mr",
        "outputId": "13a94b5b-055f-45f8-bc19-80a923d95869"
      },
      "execution_count": 236,
      "outputs": [
        {
          "output_type": "execute_result",
          "data": {
            "text/plain": [
              "'c'"
            ],
            "application/vnd.google.colaboratory.intrinsic+json": {
              "type": "string"
            }
          },
          "metadata": {},
          "execution_count": 236
        }
      ]
    },
    {
      "cell_type": "code",
      "source": [
        "# Q. ['d', 'e', 'f']를 선택하려면 인덱싱을 어떻게 해야 할까요?\n",
        "list_th[1][1]"
      ],
      "metadata": {
        "colab": {
          "base_uri": "https://localhost:8080/"
        },
        "id": "6l_g3iMLoM_1",
        "outputId": "d1be4751-6d18-412e-ac5b-346756bb0071"
      },
      "execution_count": 238,
      "outputs": [
        {
          "output_type": "execute_result",
          "data": {
            "text/plain": [
              "['d', 'e', 'f']"
            ]
          },
          "metadata": {},
          "execution_count": 238
        }
      ]
    },
    {
      "cell_type": "markdown",
      "source": [
        "리스트 함수\n",
        "\n",
        "🔶 min(), max()\n",
        "리스트에서 최댓값과 최솟값을 구하는 함수\n",
        "\n",
        "🔶 sum()\n",
        "sum() 함수는 인자로 들어온 리스트나 튜플의 숫자형 자료형들을 모두 더하는 함수.\n",
        "\n",
        "반복문을 통해서 더할 수 있지만 내장함수인 sum()을 이용하면 더 간단하게 전체합을 구할 수 있음.\n",
        "\n",
        "\n",
        "🔶 enumerate()\n",
        "리스트의 원소에 순서값을 부여해줌. enumerate()는 for문과 함께 쓰임.\n",
        "\n",
        "ragen()와 비슷.\n",
        "\n",
        "🔶 zip()\n",
        "zip() 함수는 여러 개의 순회 가능한(iterable) 객체를 인자로 받고, 각 객체가 담고 있는 원소를 순차적으로 접근할 수 있는 반복자(iterator)를 반환.\n",
        "\n",
        "이 때 반복자, 즉 이터레이터는 파이썬에서 반복적으로 요소를 하나씩 꺼내어 처리할 수 있는 객체를 부르는 이름."
      ],
      "metadata": {
        "id": "sDN5lQS7ojDd"
      }
    },
    {
      "cell_type": "code",
      "source": [
        "kims_age = [60, 28, 30, 34, 66, 11]\n",
        "kims_age"
      ],
      "metadata": {
        "colab": {
          "base_uri": "https://localhost:8080/"
        },
        "id": "ZzRs8ktmrGg1",
        "outputId": "a3139b2b-8e3a-49d2-f748-d55f15048ab2"
      },
      "execution_count": 259,
      "outputs": [
        {
          "output_type": "execute_result",
          "data": {
            "text/plain": [
              "[60, 28, 30, 34, 66, 11]"
            ]
          },
          "metadata": {},
          "execution_count": 259
        }
      ]
    },
    {
      "cell_type": "code",
      "source": [
        "max(kims_age)"
      ],
      "metadata": {
        "colab": {
          "base_uri": "https://localhost:8080/"
        },
        "id": "2Q3ZzKzFo-wN",
        "outputId": "605a4cdc-c77a-4fd1-c7c4-91e58d46b964"
      },
      "execution_count": 260,
      "outputs": [
        {
          "output_type": "execute_result",
          "data": {
            "text/plain": [
              "66"
            ]
          },
          "metadata": {},
          "execution_count": 260
        }
      ]
    },
    {
      "cell_type": "code",
      "source": [
        "min(kims_age)"
      ],
      "metadata": {
        "colab": {
          "base_uri": "https://localhost:8080/"
        },
        "id": "s55Mm7THpKFi",
        "outputId": "58f7ccd2-6930-49eb-f021-8436408d349d"
      },
      "execution_count": 241,
      "outputs": [
        {
          "output_type": "execute_result",
          "data": {
            "text/plain": [
              "11"
            ]
          },
          "metadata": {},
          "execution_count": 241
        }
      ]
    },
    {
      "cell_type": "code",
      "source": [
        "# 이탈리아 축구 팀인 '나폴리'의 선수와 번호입니다 :)\n",
        "napoli = ['minjae', 3, '크바라츠헬리아', 77, 'Osimhen', 9, 'Anguissa', 99]\n",
        "\n",
        "# 아래 주석을 풀어보면\n",
        "# min(napoli), max(napoli)\n",
        "\n",
        "# '<' not supported between instances of 'int' and 'str' 라는 오류가 뜸.\n",
        "#  int형과 str형은 서로의 크고 작음을 비교할 수 없기 때문임."
      ],
      "metadata": {
        "id": "3nDkcFGfpQvk"
      },
      "execution_count": null,
      "outputs": []
    },
    {
      "cell_type": "code",
      "source": [
        "# 문자열만 있는 리스트에 min() & max() 함수를 사용.\n",
        "napoli_player = ['minjae', '크바라츠헬리아', 'Osimhen', 'Anguissa']  # 문자열만 있는 리스트\n",
        "max(napoli_player)\n"
      ],
      "metadata": {
        "colab": {
          "base_uri": "https://localhost:8080/",
          "height": 36
        },
        "id": "_ggiJLVrplbK",
        "outputId": "41a09a38-e09a-4d97-bee8-d9647d5fdb16"
      },
      "execution_count": 249,
      "outputs": [
        {
          "output_type": "execute_result",
          "data": {
            "text/plain": [
              "'크바라츠헬리아'"
            ],
            "application/vnd.google.colaboratory.intrinsic+json": {
              "type": "string"
            }
          },
          "metadata": {},
          "execution_count": 249
        }
      ]
    },
    {
      "cell_type": "code",
      "source": [
        "# 문자열만 있는 리스트에 min() & max() 함수를 사용.\n",
        "napoli_player = ['minjae', '크바라츠헬리아', 'Osimhen', 'Anguissa']  # 문자열만 있는 리스트\n",
        "min(napoli_player)"
      ],
      "metadata": {
        "colab": {
          "base_uri": "https://localhost:8080/",
          "height": 36
        },
        "id": "bfVOZxZCpsP1",
        "outputId": "3e83a4e8-2c6d-4611-abb4-f1cbe45812ff"
      },
      "execution_count": 250,
      "outputs": [
        {
          "output_type": "execute_result",
          "data": {
            "text/plain": [
              "'Anguissa'"
            ],
            "application/vnd.google.colaboratory.intrinsic+json": {
              "type": "string"
            }
          },
          "metadata": {},
          "execution_count": 250
        }
      ]
    },
    {
      "cell_type": "markdown",
      "source": [
        "이때 문자열을 비교하는 기준은 아스키 코드(ASCII) 아스키 코드는 정보를 교환하는 부호.\n",
        "\n",
        "문자열이나 기호를 컴퓨터가 이해할 수 있도록 인코딩(encoding)한 신호임.\n",
        "\n",
        "아스키 코드 ➔ 문자열로 변화하는 함수는 chr()이고, 문자열 ➔ 아스키 코드로 변환하는 함수는 ord().\n",
        "\n",
        "아스키 코드는 소문자, 대문자, 자음, 자음+모음을 모두 구분."
      ],
      "metadata": {
        "id": "-4Nkn8OUqRJa"
      }
    },
    {
      "cell_type": "code",
      "source": [
        "# 아스키 코드 ➔ 문자열\n",
        "chr(105), chr(110), chr(121), chr(111), chr(117)"
      ],
      "metadata": {
        "colab": {
          "base_uri": "https://localhost:8080/"
        },
        "id": "ZR7OepuxqNQ_",
        "outputId": "7b3f993d-5102-4823-b28d-e87e79f2acdd"
      },
      "execution_count": 252,
      "outputs": [
        {
          "output_type": "execute_result",
          "data": {
            "text/plain": [
              "('i', 'n', 'y', 'o', 'u')"
            ]
          },
          "metadata": {},
          "execution_count": 252
        }
      ]
    },
    {
      "cell_type": "code",
      "source": [
        "# 문자열 ➔ 아스키 코드\n",
        "ord('m'), ord('크'), ord('O'), ord('A')"
      ],
      "metadata": {
        "colab": {
          "base_uri": "https://localhost:8080/"
        },
        "id": "4Dnx5BtEqcVv",
        "outputId": "84634721-d095-43b7-98bf-9e8975afbd93"
      },
      "execution_count": 253,
      "outputs": [
        {
          "output_type": "execute_result",
          "data": {
            "text/plain": [
              "(109, 53356, 79, 65)"
            ]
          },
          "metadata": {},
          "execution_count": 253
        }
      ]
    },
    {
      "cell_type": "code",
      "source": [
        "# 반복문으로 리스트의 모든 값 더하기\n",
        "total_sum = 0\n",
        "for i in kims_age:\n",
        "    total_sum += i\n",
        "\n",
        "print(total_sum)"
      ],
      "metadata": {
        "colab": {
          "base_uri": "https://localhost:8080/"
        },
        "id": "S2nxGKetqk-O",
        "outputId": "8f32f9fd-a3d4-4dd8-c6aa-e57f116fbd75"
      },
      "execution_count": 264,
      "outputs": [
        {
          "output_type": "stream",
          "name": "stdout",
          "text": [
            "229\n"
          ]
        }
      ]
    },
    {
      "cell_type": "code",
      "source": [
        "# sum()함수로 더하기\n",
        "# sum(kims_age)\n",
        "\n",
        "# TypeError: 'int' object is not callable"
      ],
      "metadata": {
        "id": "q4H64tslr4oy"
      },
      "execution_count": 269,
      "outputs": []
    },
    {
      "cell_type": "code",
      "source": [
        "for i in enumerate(kims_age):\n",
        "    print(i)"
      ],
      "metadata": {
        "colab": {
          "base_uri": "https://localhost:8080/"
        },
        "id": "RVzh5u6nsAyq",
        "outputId": "4ab82278-88b2-49f4-f688-573334545093"
      },
      "execution_count": 271,
      "outputs": [
        {
          "output_type": "stream",
          "name": "stdout",
          "text": [
            "(0, 60)\n",
            "(1, 28)\n",
            "(2, 30)\n",
            "(3, 34)\n",
            "(4, 66)\n",
            "(5, 11)\n"
          ]
        }
      ]
    },
    {
      "cell_type": "code",
      "source": [
        "# zip만 출력해보기\n",
        "napoli_num = [3, 77, 9, 99]\n",
        "napoli_player = ['minjae', '크바라츠헬리아', 'Osimhen', 'Anguissa']\n",
        "zip(napoli_num, napoli_player)"
      ],
      "metadata": {
        "colab": {
          "base_uri": "https://localhost:8080/"
        },
        "id": "xl8Pm3lEscfy",
        "outputId": "877e97a5-7248-4baf-dbb0-58fbf9be3f23"
      },
      "execution_count": 272,
      "outputs": [
        {
          "output_type": "execute_result",
          "data": {
            "text/plain": [
              "<zip at 0x7b5d4f0dd6c0>"
            ]
          },
          "metadata": {},
          "execution_count": 272
        }
      ]
    },
    {
      "cell_type": "code",
      "source": [
        "# for문에 zip을 넣고 출력해보기\n",
        "napoli_num = [3, 77, 9, 99]\n",
        "napoli_player = ['minjae', '크바라츠헬리아', 'Osimhen', 'Anguissa']\n",
        "\n",
        "for i in zip(napoli_num, napoli_player):\n",
        "    print(i)"
      ],
      "metadata": {
        "colab": {
          "base_uri": "https://localhost:8080/"
        },
        "id": "SyWvGvfwsg7h",
        "outputId": "bcb2ecfe-9b37-4484-87e9-f31e39eb6077"
      },
      "execution_count": 273,
      "outputs": [
        {
          "output_type": "stream",
          "name": "stdout",
          "text": [
            "(3, 'minjae')\n",
            "(77, '크바라츠헬리아')\n",
            "(9, 'Osimhen')\n",
            "(99, 'Anguissa')\n"
          ]
        }
      ]
    },
    {
      "cell_type": "code",
      "source": [
        "# 다시 한 번 확인\n",
        "napoli_num = [3, 77, 9, 99]\n",
        "napoli_player = ['minjae', '크바라츠헬리아', 'Osimhen', 'Anguissa']\n",
        "\n",
        "check_zip = list(zip(napoli_num, napoli_player))\n",
        "\n",
        "# zip이 잘 되었는지 확인해볼까요?\n",
        "print(check_zip)"
      ],
      "metadata": {
        "colab": {
          "base_uri": "https://localhost:8080/"
        },
        "id": "FggDGuRksjs0",
        "outputId": "3ed186ac-8d46-439a-da75-07d63a48a702"
      },
      "execution_count": 274,
      "outputs": [
        {
          "output_type": "stream",
          "name": "stdout",
          "text": [
            "[(3, 'minjae'), (77, '크바라츠헬리아'), (9, 'Osimhen'), (99, 'Anguissa')]\n"
          ]
        }
      ]
    },
    {
      "cell_type": "code",
      "source": [
        "# unzip 활용해서 해체\n",
        "new_num, new_player = zip(*check_zip)\n",
        "print(new_num)\n",
        "print(new_player)"
      ],
      "metadata": {
        "colab": {
          "base_uri": "https://localhost:8080/"
        },
        "id": "7WDRstWYsmhL",
        "outputId": "2b94cc79-b41e-4a6e-8f8c-40434e9024a8"
      },
      "execution_count": 275,
      "outputs": [
        {
          "output_type": "stream",
          "name": "stdout",
          "text": [
            "(3, 77, 9, 99)\n",
            "('minjae', '크바라츠헬리아', 'Osimhen', 'Anguissa')\n"
          ]
        }
      ]
    },
    {
      "cell_type": "markdown",
      "source": [
        "# 13-3. 딕셔너리를 다루는 여러가지 방법 (리스트, 딕셔너리 다루기)"
      ],
      "metadata": {
        "id": "F5ZLJj-ysqF-"
      }
    },
    {
      "cell_type": "markdown",
      "source": [
        "🔶 key-value 추가하기 : setdefault(), update() 딕셔너리에 key-value를 추가하는 메서드는 두 가지가 있음.\n",
        "\n",
        "🔶 setdefault()\n",
        "\n",
        "딕셔너리.setdefault(key, value)\n",
        "\n",
        "이미 해당 key가 있을 때: 그 key의 value를 반환\n",
        "\n",
        "key가 없을 때: 딕셔너리에 key:value를 저장하고 value를 반환\n",
        "\n",
        "🔶 update()\n",
        "\n",
        "딕셔너리.update(iterable)\n",
        "\n",
        "특정 key-value 조합을 삽입\n",
        "\n",
        "🔶 key-value 삭제하기 : pop(), popitem()\n",
        "del 예약어를 통해 특정 key를 지정해서 삭제.  딕셔너리 요소 쌍을 삭제하는 함수에는 pop()이 있음.\n",
        "\n",
        "🔶 pop()\n",
        "\n",
        "리스트에서 pop() 함수는 마지막 요소를 출력하고 그 이후에 마지막 요소를 삭제.\n",
        "\n",
        "🔶 popitem()\n",
        "\n",
        "리스트에서 pop()처럼 딕셔너리에서 특정 key를 지정하지 않아도 마지막 value만 출력해주는 함수\n",
        "\n",
        "🔶 딕셔너리 생성 : fromkeys()\n",
        "\n",
        "dict.fromkeys(리스트 또는 튜플)\n",
        "fromkeys()는 리스트나 튜플을 넣으면 자동으로 딕셔너리를 만들 수 있는 함수"
      ],
      "metadata": {
        "id": "jWMvCrWRs0-b"
      }
    },
    {
      "cell_type": "code",
      "source": [
        "# 반복문으로 아스키 코드 확인\n",
        "for i in ['a', 'b', 'c', 'd']:\n",
        "    print(ord(i))"
      ],
      "metadata": {
        "colab": {
          "base_uri": "https://localhost:8080/"
        },
        "id": "Yl7RMEZ0s-n7",
        "outputId": "e80cb7b7-c157-4bda-93e3-e4545df77600"
      },
      "execution_count": 276,
      "outputs": [
        {
          "output_type": "stream",
          "name": "stdout",
          "text": [
            "97\n",
            "98\n",
            "99\n",
            "100\n"
          ]
        }
      ]
    },
    {
      "cell_type": "code",
      "source": [
        "# 딕셔너리의 형태는 {Key1:Value1, Key2:Value2, Key3:Value3, ...}\n",
        "dict_uni = {'a':97, 'b':98, 'c':99, 'd':100}\n",
        "dict_uni"
      ],
      "metadata": {
        "colab": {
          "base_uri": "https://localhost:8080/"
        },
        "id": "rIEzGwGytDJQ",
        "outputId": "15460ccb-fc9d-44a1-9edb-7f9c8b3c8b4e"
      },
      "execution_count": 279,
      "outputs": [
        {
          "output_type": "execute_result",
          "data": {
            "text/plain": [
              "{'a': 97, 'b': 98, 'c': 99, 'd': 100}"
            ]
          },
          "metadata": {},
          "execution_count": 279
        }
      ]
    },
    {
      "cell_type": "code",
      "source": [
        "# 딕셔너리에 이미 있는 key 넣어보기\n",
        "dict_uni.setdefault('c')"
      ],
      "metadata": {
        "colab": {
          "base_uri": "https://localhost:8080/"
        },
        "id": "P4PePBzNtJ4L",
        "outputId": "f37cc752-c8a4-460b-fd76-e01c5cb8648f"
      },
      "execution_count": 280,
      "outputs": [
        {
          "output_type": "execute_result",
          "data": {
            "text/plain": [
              "99"
            ]
          },
          "metadata": {},
          "execution_count": 280
        }
      ]
    },
    {
      "cell_type": "code",
      "source": [
        "# 새로운 key만 넣기\n",
        "dict_uni.setdefault('e')\n",
        "dict_uni"
      ],
      "metadata": {
        "colab": {
          "base_uri": "https://localhost:8080/"
        },
        "id": "dGNOM2kLtbH6",
        "outputId": "366e67da-8c62-49a4-80f4-e97977767dbe"
      },
      "execution_count": 281,
      "outputs": [
        {
          "output_type": "execute_result",
          "data": {
            "text/plain": [
              "{'a': 97, 'b': 98, 'c': 99, 'd': 100, 'e': None}"
            ]
          },
          "metadata": {},
          "execution_count": 281
        }
      ]
    },
    {
      "cell_type": "code",
      "source": [
        "# 'e'값을 삭제하고 다시 넣어보겠습니다.\n",
        "del dict_uni['e']\n",
        "dict_uni"
      ],
      "metadata": {
        "colab": {
          "base_uri": "https://localhost:8080/"
        },
        "id": "OdLKNAJgte2C",
        "outputId": "e780961f-2973-4933-a719-bab7a4ae4bf9"
      },
      "execution_count": 282,
      "outputs": [
        {
          "output_type": "execute_result",
          "data": {
            "text/plain": [
              "{'a': 97, 'b': 98, 'c': 99, 'd': 100}"
            ]
          },
          "metadata": {},
          "execution_count": 282
        }
      ]
    },
    {
      "cell_type": "code",
      "source": [
        "# 새로운 key와 value ('e', 101)를 추가\n",
        "dict_uni.setdefault('e', 101)\n",
        "dict_uni"
      ],
      "metadata": {
        "colab": {
          "base_uri": "https://localhost:8080/"
        },
        "id": "fg3jzf1WtiD0",
        "outputId": "074c5073-d9eb-45f9-edb4-8e4feef8220f"
      },
      "execution_count": 283,
      "outputs": [
        {
          "output_type": "execute_result",
          "data": {
            "text/plain": [
              "{'a': 97, 'b': 98, 'c': 99, 'd': 100, 'e': 101}"
            ]
          },
          "metadata": {},
          "execution_count": 283
        }
      ]
    },
    {
      "cell_type": "code",
      "source": [
        "# 새로운 key인 'f'만 추가.\n",
        "dict_uni.setdefault('f')\n",
        "dict_uni"
      ],
      "metadata": {
        "colab": {
          "base_uri": "https://localhost:8080/"
        },
        "id": "VCdFy_UEtp3U",
        "outputId": "af58a168-7936-4aed-b674-0e793ce6d452"
      },
      "execution_count": 284,
      "outputs": [
        {
          "output_type": "execute_result",
          "data": {
            "text/plain": [
              "{'a': 97, 'b': 98, 'c': 99, 'd': 100, 'e': 101, 'f': None}"
            ]
          },
          "metadata": {},
          "execution_count": 284
        }
      ]
    },
    {
      "cell_type": "code",
      "source": [
        "# update()로 딕셔너리 update하기\n",
        "dict_uni.update(f=102)\n",
        "dict_uni\n",
        "\n",
        "# setdefault()는 key만 넣어도, value와 함께 넣어도 key-value를 추가.\n",
        "# update()는 추가도 할 수 있고 수정까지 할 수 있는 함수."
      ],
      "metadata": {
        "colab": {
          "base_uri": "https://localhost:8080/"
        },
        "id": "MR5Hz1gytxfa",
        "outputId": "9182084c-5818-4b35-fe40-8373a5a3b31a"
      },
      "execution_count": 285,
      "outputs": [
        {
          "output_type": "execute_result",
          "data": {
            "text/plain": [
              "{'a': 97, 'b': 98, 'c': 99, 'd': 100, 'e': 101, 'f': 102}"
            ]
          },
          "metadata": {},
          "execution_count": 285
        }
      ]
    },
    {
      "cell_type": "code",
      "source": [
        "# pop() 함수는 마지막 요소를 출력하고 삭제합니다.\n",
        "kims_age.pop()"
      ],
      "metadata": {
        "colab": {
          "base_uri": "https://localhost:8080/"
        },
        "id": "L5sxX7rJuRS0",
        "outputId": "82246ed0-a3a7-47dd-d633-ac9633fe3faf"
      },
      "execution_count": 286,
      "outputs": [
        {
          "output_type": "execute_result",
          "data": {
            "text/plain": [
              "11"
            ]
          },
          "metadata": {},
          "execution_count": 286
        }
      ]
    },
    {
      "cell_type": "code",
      "source": [
        "# 삭제됐는지 확인\n",
        "kims_age"
      ],
      "metadata": {
        "colab": {
          "base_uri": "https://localhost:8080/"
        },
        "id": "5h9tkJz-uTsl",
        "outputId": "36fea6b3-eccd-44ad-a5f7-af57ec97b164"
      },
      "execution_count": 287,
      "outputs": [
        {
          "output_type": "execute_result",
          "data": {
            "text/plain": [
              "[60, 28, 30, 34, 66]"
            ]
          },
          "metadata": {},
          "execution_count": 287
        }
      ]
    },
    {
      "cell_type": "code",
      "source": [
        "dict_uni"
      ],
      "metadata": {
        "colab": {
          "base_uri": "https://localhost:8080/"
        },
        "id": "sdFMsy6suV2_",
        "outputId": "d921e844-c351-4d57-f307-d23b3977ee32"
      },
      "execution_count": 288,
      "outputs": [
        {
          "output_type": "execute_result",
          "data": {
            "text/plain": [
              "{'a': 97, 'b': 98, 'c': 99, 'd': 100, 'e': 101, 'f': 102}"
            ]
          },
          "metadata": {},
          "execution_count": 288
        }
      ]
    },
    {
      "cell_type": "code",
      "source": [
        "# # dict_uni.pop() 오류가 뜸.  리스트와 다르게 딕셔너리에서는 pop()은 key를 넣어줘야 하기 때문\n",
        "# pop(key)\n",
        "dict_uni.pop('f')"
      ],
      "metadata": {
        "colab": {
          "base_uri": "https://localhost:8080/"
        },
        "id": "-SjaTRrhuYTU",
        "outputId": "f9f1062d-8d0a-458e-c5a9-f9bd29df23fe"
      },
      "execution_count": 290,
      "outputs": [
        {
          "output_type": "execute_result",
          "data": {
            "text/plain": [
              "102"
            ]
          },
          "metadata": {},
          "execution_count": 290
        }
      ]
    },
    {
      "cell_type": "code",
      "source": [
        "dict_uni"
      ],
      "metadata": {
        "colab": {
          "base_uri": "https://localhost:8080/"
        },
        "id": "_BAlVSlcun4h",
        "outputId": "2afeb2dd-0415-43f1-f56d-0ad51b2e9569"
      },
      "execution_count": 291,
      "outputs": [
        {
          "output_type": "execute_result",
          "data": {
            "text/plain": [
              "{'a': 97, 'b': 98, 'c': 99, 'd': 100, 'e': 101}"
            ]
          },
          "metadata": {},
          "execution_count": 291
        }
      ]
    },
    {
      "cell_type": "code",
      "source": [
        "# 마지막 value만 꺼내서 삭제\n",
        "dict_uni.popitem()"
      ],
      "metadata": {
        "colab": {
          "base_uri": "https://localhost:8080/"
        },
        "id": "BITjGPBEuxbA",
        "outputId": "51b95c3d-1aae-4681-e0a2-6785541d449a"
      },
      "execution_count": 292,
      "outputs": [
        {
          "output_type": "execute_result",
          "data": {
            "text/plain": [
              "('e', 101)"
            ]
          },
          "metadata": {},
          "execution_count": 292
        }
      ]
    },
    {
      "cell_type": "code",
      "source": [
        "dict_uni"
      ],
      "metadata": {
        "colab": {
          "base_uri": "https://localhost:8080/"
        },
        "id": "A1cam_7Lu2_Z",
        "outputId": "75078c99-173b-49fe-8c18-2dde98f001cc"
      },
      "execution_count": 293,
      "outputs": [
        {
          "output_type": "execute_result",
          "data": {
            "text/plain": [
              "{'a': 97, 'b': 98, 'c': 99, 'd': 100}"
            ]
          },
          "metadata": {},
          "execution_count": 293
        }
      ]
    },
    {
      "source": [
        "# pop() 함수만 사용해서 1부터 10까지의 합을 구하면\n",
        "\n",
        "nums = list(range(1, 11))  # [1, 2, ... , 10]\n",
        "result = 0  # 결과값 - 여기에 숫자를 계속 더해주세요!\n",
        "\n",
        "for _ in range(10): # We iterate 10 times because there are 10 elements to pop\n",
        "    result += nums.pop() # Use the list's pop method\n",
        "\n",
        "print(result)"
      ],
      "cell_type": "code",
      "metadata": {
        "colab": {
          "base_uri": "https://localhost:8080/"
        },
        "id": "IySt-u2zvVPL",
        "outputId": "ba63e2b8-e824-4347-fea9-8fd0394fd3f4"
      },
      "execution_count": 298,
      "outputs": [
        {
          "output_type": "stream",
          "name": "stdout",
          "text": [
            "55\n"
          ]
        }
      ]
    },
    {
      "cell_type": "code",
      "source": [
        "kims_age = [60, 28, 30, 34, 66, 11]\n",
        "kims_dict = dict.fromkeys(kims_age)\n",
        "kims_dict"
      ],
      "metadata": {
        "colab": {
          "base_uri": "https://localhost:8080/"
        },
        "id": "h1hVu_cjwChV",
        "outputId": "08ba6da2-7b28-41b6-a765-0ba4422b8389"
      },
      "execution_count": 299,
      "outputs": [
        {
          "output_type": "execute_result",
          "data": {
            "text/plain": [
              "{60: None, 28: None, 30: None, 34: None, 66: None, 11: None}"
            ]
          },
          "metadata": {},
          "execution_count": 299
        }
      ]
    },
    {
      "cell_type": "code",
      "source": [
        "kims_age = [60, 28, 30, 34, 66, 11]\n",
        "kims_dict = dict.fromkeys(kims_age, 'kor')  # key, value 순서로 입력도 가능\n",
        "kims_dict"
      ],
      "metadata": {
        "colab": {
          "base_uri": "https://localhost:8080/"
        },
        "id": "OeErNVDnwHvI",
        "outputId": "b73bde0e-1de5-4420-f122-da945b4b8975"
      },
      "execution_count": 301,
      "outputs": [
        {
          "output_type": "execute_result",
          "data": {
            "text/plain": [
              "{60: 'kor', 28: 'kor', 30: 'kor', 34: 'kor', 66: 'kor', 11: 'kor'}"
            ]
          },
          "metadata": {},
          "execution_count": 301
        }
      ]
    },
    {
      "cell_type": "markdown",
      "source": [
        "in / not in\n",
        "\n",
        "예약어의 의미 자체로 알 수 있듯이 요소가 들어있는지 확인하는 예약어.\n",
        "\n",
        "조건문과 자주 쓰이며 요소가 있는지 없는지를 알 수 있음.\n",
        "\n",
        "in / not in 의 리턴값은 bool.  즉 True 또는 False로 리턴."
      ],
      "metadata": {
        "id": "63XASpoMwUxu"
      }
    },
    {
      "cell_type": "code",
      "source": [
        "# 요소 in 리스트\n",
        "napoli_player = ['minjae', '크바라츠헬리아', 'Osimhen', 'Anguissa']\n",
        "'minjae' in napoli_player"
      ],
      "metadata": {
        "colab": {
          "base_uri": "https://localhost:8080/"
        },
        "id": "Jh7kIXhWwdbm",
        "outputId": "f49443c5-d058-4bae-960e-d5b13ab2c4aa"
      },
      "execution_count": 302,
      "outputs": [
        {
          "output_type": "execute_result",
          "data": {
            "text/plain": [
              "True"
            ]
          },
          "metadata": {},
          "execution_count": 302
        }
      ]
    },
    {
      "cell_type": "code",
      "source": [
        "'Son' in napoli_player"
      ],
      "metadata": {
        "colab": {
          "base_uri": "https://localhost:8080/"
        },
        "id": "F1h_ivfawgww",
        "outputId": "563ec0ec-8d64-40e5-8493-3bbb0d0f1905"
      },
      "execution_count": 304,
      "outputs": [
        {
          "output_type": "execute_result",
          "data": {
            "text/plain": [
              "False"
            ]
          },
          "metadata": {},
          "execution_count": 304
        }
      ]
    },
    {
      "cell_type": "code",
      "source": [
        "# not in\n",
        "'Son' not in napoli_player"
      ],
      "metadata": {
        "colab": {
          "base_uri": "https://localhost:8080/"
        },
        "id": "MUGwkwVNwjOJ",
        "outputId": "306acc9b-955d-4a4b-bf78-6a9e5e3edecd"
      },
      "execution_count": 305,
      "outputs": [
        {
          "output_type": "execute_result",
          "data": {
            "text/plain": [
              "True"
            ]
          },
          "metadata": {},
          "execution_count": 305
        }
      ]
    },
    {
      "cell_type": "code",
      "source": [
        "# dictionary에서는 key값만 확인 가능\n",
        "dict_uni = {'a': 97, 'b':98, 'c':99, 'd':100}\n",
        "'a' in dict_uni"
      ],
      "metadata": {
        "colab": {
          "base_uri": "https://localhost:8080/"
        },
        "id": "pyaQZ4OEwnEg",
        "outputId": "509fe01c-54b5-44ba-ad41-9e090058d0e9"
      },
      "execution_count": 307,
      "outputs": [
        {
          "output_type": "execute_result",
          "data": {
            "text/plain": [
              "True"
            ]
          },
          "metadata": {},
          "execution_count": 307
        }
      ]
    },
    {
      "cell_type": "code",
      "source": [
        "# dictionary에서는 value값은 확인 불가능\n",
        "100 in dict_uni"
      ],
      "metadata": {
        "colab": {
          "base_uri": "https://localhost:8080/"
        },
        "id": "LpxaUzGrwr6l",
        "outputId": "25ed6e0c-076f-4b09-94a9-e3a7048e63c9"
      },
      "execution_count": 309,
      "outputs": [
        {
          "output_type": "execute_result",
          "data": {
            "text/plain": [
              "False"
            ]
          },
          "metadata": {},
          "execution_count": 309
        }
      ]
    },
    {
      "cell_type": "code",
      "source": [
        "# value를 확인하기 위해서는 이전에 배웠던 values() 함수와 함께 사용\n",
        "100 in dict_uni.values()"
      ],
      "metadata": {
        "colab": {
          "base_uri": "https://localhost:8080/"
        },
        "id": "ly6pS4C4w0g0",
        "outputId": "cbcbb7e2-1beb-4440-f206-eacd40388371"
      },
      "execution_count": 310,
      "outputs": [
        {
          "output_type": "execute_result",
          "data": {
            "text/plain": [
              "True"
            ]
          },
          "metadata": {},
          "execution_count": 310
        }
      ]
    },
    {
      "cell_type": "code",
      "source": [
        "101 in dict_uni.values()"
      ],
      "metadata": {
        "colab": {
          "base_uri": "https://localhost:8080/"
        },
        "id": "KtaseYgtw86A",
        "outputId": "5224fe49-3139-4b4d-e8ea-7a485b3bea3d"
      },
      "execution_count": 311,
      "outputs": [
        {
          "output_type": "execute_result",
          "data": {
            "text/plain": [
              "False"
            ]
          },
          "metadata": {},
          "execution_count": 311
        }
      ]
    },
    {
      "cell_type": "code",
      "source": [
        "# 튜플에서도 사용\n",
        "'Son HeungMin' in ('Kim MinJae', 'Son HeungMin', 'Lee GangIn')"
      ],
      "metadata": {
        "colab": {
          "base_uri": "https://localhost:8080/"
        },
        "id": "iHor40aRxATY",
        "outputId": "e81ba094-d8a8-450a-dab2-97a407d629e6"
      },
      "execution_count": 312,
      "outputs": [
        {
          "output_type": "execute_result",
          "data": {
            "text/plain": [
              "True"
            ]
          },
          "metadata": {},
          "execution_count": 312
        }
      ]
    },
    {
      "cell_type": "code",
      "source": [
        "# not in은 str(영어)에서도 사용할 수 있음.\n",
        "'s' in 'football'"
      ],
      "metadata": {
        "colab": {
          "base_uri": "https://localhost:8080/"
        },
        "id": "jObVcgCVxGFt",
        "outputId": "24b5ea63-a5a7-4c9b-c6ab-87ca93bcf755"
      },
      "execution_count": 313,
      "outputs": [
        {
          "output_type": "execute_result",
          "data": {
            "text/plain": [
              "False"
            ]
          },
          "metadata": {},
          "execution_count": 313
        }
      ]
    },
    {
      "cell_type": "code",
      "source": [
        "# in은 str(한글)에서도 사용가능\n",
        "'잘' in '잘 먹었습니다.'"
      ],
      "metadata": {
        "colab": {
          "base_uri": "https://localhost:8080/"
        },
        "id": "Py9DBrttxQq3",
        "outputId": "d833f9bd-cffe-4468-cb7b-6f4702f1d400"
      },
      "execution_count": 314,
      "outputs": [
        {
          "output_type": "execute_result",
          "data": {
            "text/plain": [
              "True"
            ]
          },
          "metadata": {},
          "execution_count": 314
        }
      ]
    },
    {
      "cell_type": "markdown",
      "source": [
        "# 13-4. 컴프리핸션 (리스트, 딕셔너리 다루기)"
      ],
      "metadata": {
        "id": "8Q0D-xRtxZ27"
      }
    },
    {
      "cell_type": "markdown",
      "source": [
        "컴프리헨션(Comprehension)은 파이썬의 문법 중 하나.\n",
        "\n",
        "대괄호 [ ]안에 if문, for문, in의 조건과 반복문을 활용.\n",
        "\n",
        "컴프리헨션은 패턴이 있는 리스트, 셋(집합), 딕셔너리에서 활용할 수 있음.\n",
        "\n",
        "컴프리헨션을 사용하면 여러 줄을 코드로 한 줄의 코드로 줄일 수 있기에 직관적이고 파이써닉(pythonic)한 표현을 할 수 있음"
      ],
      "metadata": {
        "id": "78SQCSn5xlme"
      }
    },
    {
      "cell_type": "markdown",
      "source": [
        "리스트 컴프리헨션\n",
        "\n",
        "🔶 반복문과 컴프리헨션"
      ],
      "metadata": {
        "id": "ukuVGWbs0Shm"
      }
    },
    {
      "cell_type": "code",
      "source": [
        "# 리스트 반복문\n",
        "list_for = []\n",
        "for i in range(0, 11, 2):\n",
        "    list_for.append(i)\n",
        "\n",
        "print(list_for)\n",
        "\n",
        "# 반복문으로 리스트를 만들 때는 반복문을 쓰기 전에 리스트 자체를 만드는 코드를 따로 써줘야 함.\n",
        "# 리스트명에 비어있는 리스트를 먼저 할당해야 함.\n",
        "# 반복문에서는 콜론(:) 다음 들여쓰기 후에 append() 함수와 그 안에 변수를 씀"
      ],
      "metadata": {
        "colab": {
          "base_uri": "https://localhost:8080/"
        },
        "id": "G3lFuaWwxhKa",
        "outputId": "8a550b05-da3d-462e-b5e0-e23b330c8033"
      },
      "execution_count": 320,
      "outputs": [
        {
          "output_type": "stream",
          "name": "stdout",
          "text": [
            "[0, 2, 4, 6, 8, 10]\n"
          ]
        }
      ]
    },
    {
      "cell_type": "code",
      "source": [
        "# 리스트 컴프리헨션\n",
        "[x for x in range(0, 11, 2)]\n",
        "\n",
        "# 반면 컴프리헨션으로 리스트를 만들 때는 가장 바깥에 대괄호 [ ]만 써주면 됨.\n",
        "# 컴프리헨션에서는 반복문 앞에 변수만 쓰면 됨."
      ],
      "metadata": {
        "colab": {
          "base_uri": "https://localhost:8080/"
        },
        "id": "2iE3frFgxxgs",
        "outputId": "e0ca8090-9cf4-49bd-a19c-6587127b7cbf"
      },
      "execution_count": 321,
      "outputs": [
        {
          "output_type": "execute_result",
          "data": {
            "text/plain": [
              "[0, 2, 4, 6, 8, 10]"
            ]
          },
          "metadata": {},
          "execution_count": 321
        }
      ]
    },
    {
      "cell_type": "code",
      "source": [
        "[str(x) * 2 for x in range(0, 11, 2)]"
      ],
      "metadata": {
        "colab": {
          "base_uri": "https://localhost:8080/"
        },
        "id": "VuWWagUVygHe",
        "outputId": "25fa3364-4244-42b2-f565-b0d62da3a064"
      },
      "execution_count": 324,
      "outputs": [
        {
          "output_type": "execute_result",
          "data": {
            "text/plain": [
              "['00', '22', '44', '66', '88', '1010']"
            ]
          },
          "metadata": {},
          "execution_count": 324
        }
      ]
    },
    {
      "cell_type": "code",
      "source": [
        "# 리스트 컴프리핸션\n",
        "[x**2 for x in range(10)]\n",
        "\n",
        "# [0, 1, 4, 9, 16, ..., 81]\n"
      ],
      "metadata": {
        "colab": {
          "base_uri": "https://localhost:8080/"
        },
        "id": "DFTLWmBlylP0",
        "outputId": "7785fcb4-a4ff-448f-d94e-e80c91a7d3de"
      },
      "execution_count": 337,
      "outputs": [
        {
          "output_type": "execute_result",
          "data": {
            "text/plain": [
              "[0, 1, 4, 9, 16, 25, 36, 49, 64, 81]"
            ]
          },
          "metadata": {},
          "execution_count": 337
        }
      ]
    },
    {
      "cell_type": "markdown",
      "source": [
        "🔶반복문 + 조건문 컴프리헨션"
      ],
      "metadata": {
        "id": "ZHPVIRVG0Y28"
      }
    },
    {
      "cell_type": "code",
      "source": [
        "# 반복문 + 조건문\n",
        "list_con = []\n",
        "for i in range(0, 11):\n",
        "    if i % 2 == 0:\n",
        "        list_con.append(i)\n",
        "\n",
        "print(list_con)\n",
        "\n",
        "# 반복문을 사용할 때는 반복문 이전에 리스트명에 비어있는 리스트를 할당함.\n",
        "# 반복문에서는 조건문의 위치는 반복문 콜론(:) 뒤임."
      ],
      "metadata": {
        "colab": {
          "base_uri": "https://localhost:8080/"
        },
        "id": "25WBdPZR0ct-",
        "outputId": "551c591a-2592-4a0c-cf1a-fdb7193372bd"
      },
      "execution_count": 338,
      "outputs": [
        {
          "output_type": "stream",
          "name": "stdout",
          "text": [
            "[0, 2, 4, 6, 8, 10]\n"
          ]
        }
      ]
    },
    {
      "cell_type": "code",
      "source": [
        "# 리스트 컴프리헨션 with 조건문\n",
        "[x for x in range(1, 11) if x % 2 == 0]\n",
        "\n",
        "# 컴프리헨션은 대괄호를 쓰는 것만으로 리스트를 만들 수 있음.\n",
        "# 컴프리헨션에서는 for문 뒤에 조건문이 옴.\n",
        "# 변수의 위치도 반복문에서와 동일."
      ],
      "metadata": {
        "colab": {
          "base_uri": "https://localhost:8080/"
        },
        "id": "4xbvq4sQ0glJ",
        "outputId": "18e99678-2a2d-4459-d99d-bd749bfca9fb"
      },
      "execution_count": 340,
      "outputs": [
        {
          "output_type": "execute_result",
          "data": {
            "text/plain": [
              "[2, 4, 6, 8, 10]"
            ]
          },
          "metadata": {},
          "execution_count": 340
        }
      ]
    },
    {
      "cell_type": "markdown",
      "source": [
        "🔶 중복 표현과 컴프리헨션\n",
        "\n",
        "컴프리헨션에 for문과 if문을 중복해서 쓸 수 있음."
      ],
      "metadata": {
        "id": "CaGJI8Mn1DXE"
      }
    },
    {
      "cell_type": "code",
      "source": [
        "# 반복문\n",
        "sweetie = ['아이스크림', '크림빵', '젤리']\n",
        "savory = ['감자칩', '팝콘', '뿌셔뿌셔']\n",
        "\n",
        "sweet_savory = []\n",
        "for x in sweetie:\n",
        "    for y in savory:\n",
        "        sweet_savory.append([x, y])\n",
        "\n",
        "sweet_savory"
      ],
      "metadata": {
        "colab": {
          "base_uri": "https://localhost:8080/"
        },
        "id": "Mi-nOXti1LKh",
        "outputId": "09f76208-8455-4611-9f23-cc85a6ee192a"
      },
      "execution_count": 343,
      "outputs": [
        {
          "output_type": "execute_result",
          "data": {
            "text/plain": [
              "[['아이스크림', '감자칩'],\n",
              " ['아이스크림', '팝콘'],\n",
              " ['아이스크림', '뿌셔뿌셔'],\n",
              " ['크림빵', '감자칩'],\n",
              " ['크림빵', '팝콘'],\n",
              " ['크림빵', '뿌셔뿌셔'],\n",
              " ['젤리', '감자칩'],\n",
              " ['젤리', '팝콘'],\n",
              " ['젤리', '뿌셔뿌셔']]"
            ]
          },
          "metadata": {},
          "execution_count": 343
        }
      ]
    },
    {
      "cell_type": "code",
      "source": [
        "# 단짠단짠 조합 컴프리헨션\n",
        "sweetie = ['아이스크림', '크림빵', '젤리']\n",
        "savory = ['감자칩', '팝콘', '뿌셔뿌셔']\n",
        "\n",
        "[[x, y] for x in sweetie for y in savory]"
      ],
      "metadata": {
        "colab": {
          "base_uri": "https://localhost:8080/"
        },
        "id": "UURyM0421Hwb",
        "outputId": "3a7ea115-79ad-4798-ba19-44a732a903a8"
      },
      "execution_count": 344,
      "outputs": [
        {
          "output_type": "execute_result",
          "data": {
            "text/plain": [
              "[['아이스크림', '감자칩'],\n",
              " ['아이스크림', '팝콘'],\n",
              " ['아이스크림', '뿌셔뿌셔'],\n",
              " ['크림빵', '감자칩'],\n",
              " ['크림빵', '팝콘'],\n",
              " ['크림빵', '뿌셔뿌셔'],\n",
              " ['젤리', '감자칩'],\n",
              " ['젤리', '팝콘'],\n",
              " ['젤리', '뿌셔뿌셔']]"
            ]
          },
          "metadata": {},
          "execution_count": 344
        }
      ]
    },
    {
      "cell_type": "code",
      "source": [
        "# if문의 중복 2와 3의 공배수\n",
        "[x for x in range(1, 30) if x % 2 == 0 if x % 3 == 0]"
      ],
      "metadata": {
        "colab": {
          "base_uri": "https://localhost:8080/"
        },
        "id": "WazNwxoO1R2w",
        "outputId": "17d5c042-d528-4c71-b7b3-9e8a15a30f9f"
      },
      "execution_count": 345,
      "outputs": [
        {
          "output_type": "execute_result",
          "data": {
            "text/plain": [
              "[6, 12, 18, 24]"
            ]
          },
          "metadata": {},
          "execution_count": 345
        }
      ]
    },
    {
      "cell_type": "markdown",
      "source": [
        "리스트 컴프리헨션은 셋 컴프리헨션 & 딕셔너리 컴프리헨션을 확장 가능\n",
        "\n",
        "🔶 셋(set) 컴프리헨션\n",
        "\n",
        "리스트를 만들 때 쓰는 대괄호 [ ] 대신에 중괄호 { }를 써wna.\n",
        "\n",
        "🔶 딕셔너리 컴프리헨션\n",
        "\n",
        "중괄호를 이용하면서 동시에 key:value의 형태로 내용을 채운다면 딕셔너리 컴프리헨션이 되어, 간단하게 딕셔너리를 만들 수 있음."
      ],
      "metadata": {
        "id": "6_Fwe84k1aAl"
      }
    },
    {
      "cell_type": "code",
      "source": [
        "# {나폴리 선수 번호:이름} 딕셔너리\n",
        "napoli_num = [3, 77, 9, 99]\n",
        "napoli_player = ['minjae', '크바라츠헬리아', 'Osimhen', 'Anguissa']\n",
        "{k:v for k, v in zip(napoli_num, napoli_player)}"
      ],
      "metadata": {
        "colab": {
          "base_uri": "https://localhost:8080/"
        },
        "id": "u9TEhbfB1sI6",
        "outputId": "d35c4bb1-ef51-426e-fe1a-9373ba64d755"
      },
      "execution_count": 346,
      "outputs": [
        {
          "output_type": "execute_result",
          "data": {
            "text/plain": [
              "{3: 'minjae', 77: '크바라츠헬리아', 9: 'Osimhen', 99: 'Anguissa'}"
            ]
          },
          "metadata": {},
          "execution_count": 346
        }
      ]
    },
    {
      "cell_type": "code",
      "source": [
        "# 딕셔너리 컴프리헨션 with if문\n",
        "{k:v for k, v in zip(napoli_num, napoli_player) if k < 50}"
      ],
      "metadata": {
        "colab": {
          "base_uri": "https://localhost:8080/"
        },
        "id": "FVaOgYb91uLk",
        "outputId": "c05be577-8d57-41b7-e7ed-af9f914c7331"
      },
      "execution_count": 347,
      "outputs": [
        {
          "output_type": "execute_result",
          "data": {
            "text/plain": [
              "{3: 'minjae', 9: 'Osimhen'}"
            ]
          },
          "metadata": {},
          "execution_count": 347
        }
      ]
    }
  ]
}